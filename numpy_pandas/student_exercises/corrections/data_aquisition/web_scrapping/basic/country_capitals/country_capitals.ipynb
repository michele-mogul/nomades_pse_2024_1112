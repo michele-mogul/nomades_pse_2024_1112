{
 "cells": [
  {
   "cell_type": "code",
   "execution_count": 1,
   "metadata": {},
   "outputs": [],
   "source": [
    "from bs4 import BeautifulSoup\n",
    "import requests\n",
    "import pandas as pd"
   ]
  },
  {
   "cell_type": "code",
   "execution_count": 2,
   "metadata": {},
   "outputs": [],
   "source": [
    "# The url of a lisst of country with capitals\n",
    "# HINT: do not hesitate to look at the website using a browser to identify the pattern of the data you want to scrap\n",
    "url = \"https://scrapethissite.com/pages/simple/\""
   ]
  },
  {
   "cell_type": "code",
   "execution_count": 3,
   "metadata": {},
   "outputs": [
    {
     "name": "stdout",
     "output_type": "stream",
     "text": [
      "<class 'requests.models.Response'>\n"
     ]
    }
   ],
   "source": [
    "# Make a GET request to fetch the raw HTML content\n",
    "html_content = requests.get(url)\n",
    "print(type(html_content))"
   ]
  },
  {
   "cell_type": "code",
   "execution_count": 6,
   "metadata": {},
   "outputs": [],
   "source": [
    "# Parse the html content\n",
    "soup = BeautifulSoup(html_content.text, \"html.parser\")\n",
    "# soup.prettify()"
   ]
  },
  {
   "cell_type": "code",
   "execution_count": null,
   "metadata": {},
   "outputs": [
    {
     "name": "stdout",
     "output_type": "stream",
     "text": [
      "250\n"
     ]
    },
    {
     "data": {
      "text/html": [
       "<div>\n",
       "<style scoped>\n",
       "    .dataframe tbody tr th:only-of-type {\n",
       "        vertical-align: middle;\n",
       "    }\n",
       "\n",
       "    .dataframe tbody tr th {\n",
       "        vertical-align: top;\n",
       "    }\n",
       "\n",
       "    .dataframe thead th {\n",
       "        text-align: right;\n",
       "    }\n",
       "</style>\n",
       "<table border=\"1\" class=\"dataframe\">\n",
       "  <thead>\n",
       "    <tr style=\"text-align: right;\">\n",
       "      <th></th>\n",
       "      <th>capital</th>\n",
       "      <th>population</th>\n",
       "      <th>area</th>\n",
       "    </tr>\n",
       "  </thead>\n",
       "  <tbody>\n",
       "    <tr>\n",
       "      <th>Andorra</th>\n",
       "      <td>Andorra la Vella</td>\n",
       "      <td>84000</td>\n",
       "      <td>468.0</td>\n",
       "    </tr>\n",
       "    <tr>\n",
       "      <th>United Arab Emirates</th>\n",
       "      <td>Abu Dhabi</td>\n",
       "      <td>4975593</td>\n",
       "      <td>82880.0</td>\n",
       "    </tr>\n",
       "    <tr>\n",
       "      <th>Afghanistan</th>\n",
       "      <td>Kabul</td>\n",
       "      <td>29121286</td>\n",
       "      <td>647500.0</td>\n",
       "    </tr>\n",
       "    <tr>\n",
       "      <th>Antigua and Barbuda</th>\n",
       "      <td>St. John's</td>\n",
       "      <td>86754</td>\n",
       "      <td>443.0</td>\n",
       "    </tr>\n",
       "    <tr>\n",
       "      <th>Anguilla</th>\n",
       "      <td>The Valley</td>\n",
       "      <td>13254</td>\n",
       "      <td>102.0</td>\n",
       "    </tr>\n",
       "    <tr>\n",
       "      <th>...</th>\n",
       "      <td>...</td>\n",
       "      <td>...</td>\n",
       "      <td>...</td>\n",
       "    </tr>\n",
       "    <tr>\n",
       "      <th>Yemen</th>\n",
       "      <td>Sanaa</td>\n",
       "      <td>23495361</td>\n",
       "      <td>527970.0</td>\n",
       "    </tr>\n",
       "    <tr>\n",
       "      <th>Mayotte</th>\n",
       "      <td>Mamoudzou</td>\n",
       "      <td>159042</td>\n",
       "      <td>374.0</td>\n",
       "    </tr>\n",
       "    <tr>\n",
       "      <th>South Africa</th>\n",
       "      <td>Pretoria</td>\n",
       "      <td>49000000</td>\n",
       "      <td>1219912.0</td>\n",
       "    </tr>\n",
       "    <tr>\n",
       "      <th>Zambia</th>\n",
       "      <td>Lusaka</td>\n",
       "      <td>13460305</td>\n",
       "      <td>752614.0</td>\n",
       "    </tr>\n",
       "    <tr>\n",
       "      <th>Zimbabwe</th>\n",
       "      <td>Harare</td>\n",
       "      <td>11651858</td>\n",
       "      <td>390580.0</td>\n",
       "    </tr>\n",
       "  </tbody>\n",
       "</table>\n",
       "<p>250 rows × 3 columns</p>\n",
       "</div>"
      ],
      "text/plain": [
       "                               capital population       area\n",
       "Andorra               Andorra la Vella      84000      468.0\n",
       "United Arab Emirates         Abu Dhabi    4975593    82880.0\n",
       "Afghanistan                      Kabul   29121286   647500.0\n",
       "Antigua and Barbuda         St. John's      86754      443.0\n",
       "Anguilla                    The Valley      13254      102.0\n",
       "...                                ...        ...        ...\n",
       "Yemen                            Sanaa   23495361   527970.0\n",
       "Mayotte                      Mamoudzou     159042      374.0\n",
       "South Africa                  Pretoria   49000000  1219912.0\n",
       "Zambia                          Lusaka   13460305   752614.0\n",
       "Zimbabwe                        Harare   11651858   390580.0\n",
       "\n",
       "[250 rows x 3 columns]"
      ]
     },
     "execution_count": 27,
     "metadata": {},
     "output_type": "execute_result"
    }
   ],
   "source": [
    "# Create a dictionary to store the data\n",
    "# The keys of the dictionary will be the countries\n",
    "# The values of the dictionary will be the capitals, the population and the area in km2 of the country\n",
    "# HINT: you can use the find_all method to find all the tags of a certain type\n",
    "data = {}\n",
    "countries = soup.find_all('div', class_=\"col-md-4 country\")\n",
    "print(len(countries))\n",
    "for country in countries:\n",
    "  country_name = country.find(\"h3\", class_=\"country-name\").text.strip()\n",
    "  # country_info = country.find(\"div\", class_=\"country-info\")\n",
    "  capital = country.find(\"span\", class_=\"country-capital\").text.strip()\n",
    "  population = int(country.select_one(\"span.country-population\").text.strip())\n",
    "  area = float(country.select_one(\"span.country-area\").text.strip())\n",
    "  data[country_name] = {\n",
    "    \"capital\": capital,\n",
    "    \"population\": population,\n",
    "    \"area\": area\n",
    "  }\n",
    "\n",
    "data_df = pd.DataFrame(data).T\n",
    "data_df"
   ]
  },
  {
   "cell_type": "code",
   "execution_count": 35,
   "metadata": {},
   "outputs": [
    {
     "data": {
      "text/plain": [
       "(242, 3)"
      ]
     },
     "execution_count": 35,
     "metadata": {},
     "output_type": "execute_result"
    }
   ],
   "source": [
    "data_df.drop(data_df[data_df.capital == \"None\"].index, inplace=True)\n",
    "data_df.drop(data_df[data_df.area == 0].index, inplace=True)\n",
    "data_df.shape"
   ]
  },
  {
   "cell_type": "markdown",
   "metadata": {},
   "source": [
    "# Make some computation"
   ]
  },
  {
   "cell_type": "code",
   "execution_count": null,
   "metadata": {},
   "outputs": [
    {
     "name": "stdout",
     "output_type": "stream",
     "text": [
      "1.\tThe total area of all the countries is\t\t\t: 135881958.69 km2\n",
      "2.\tThe total population of all the countries is\t\t: 6850259444\n",
      "3.\tThe total population density of all the countries is\t: 75187.37569771562\n",
      "4.\tThe average area of all the countries is\t\t: 561495.6970661157 km2\n",
      "5.\tThe average population of all the countries is\t\t: 28306857.20661157\n",
      "6.\tThe average population density of all the countries is\t: 310.69163511452734\n",
      "7.\tThe country with the highest population is\t\t: China\n",
      "8.\tThe country with the lowest population is\t\t: South Georgia and the South Sandwich Islands\n",
      "9.\tThe country with the highest population density is\t: Monaco\n",
      "10.\tThe country with the lowest population density is\t: South Georgia and the South Sandwich Islands\n",
      "11.\tThe country with the highest area is\t\t\t: Russia\n",
      "12.\tThe country with the lowest area is\t\t\t: Vatican City\n",
      "13.\tThe country that have the longest capital name is\t: ('Brunei', np.int64(19), 'Bandar Seri Begawan')\n",
      "14.\tThe country that have the shortest capital name is\t: ('Azerbaijan', 'Baku')\n"
     ]
    },
    {
     "data": {
      "text/plain": [
       "3"
      ]
     },
     "execution_count": 65,
     "metadata": {},
     "output_type": "execute_result"
    }
   ],
   "source": [
    "# 1. Compute the total area of all the countries\n",
    "total_area = sum([country_dict[\"area\"] for country_dict in data.values()])\n",
    "total_area = data_df.area.sum()\n",
    "print(f\"1.\\tThe total area of all the countries is\\t\\t\\t: {total_area} km2\")\n",
    "\n",
    "# 2. Compute the total population of all the countries\n",
    "total_population = data_df.population.sum()\n",
    "print(f\"2.\\tThe total population of all the countries is\\t\\t: {total_population}\")\n",
    "\n",
    "# 3. Compute the total population density of all the countries\n",
    "total_population_density = (data_df.population / data_df.area).sum()\n",
    "print(f\"3.\\tThe total population density of all the countries is\\t: {total_population_density}\")\n",
    "\n",
    "# 4. Compute the average area of all the countries\n",
    "average_area = data_df.area.mean()\n",
    "print(f\"4.\\tThe average area of all the countries is\\t\\t: {average_area} km2\")\n",
    "\n",
    "# 5. Compute the average population of all the countries\n",
    "average_population = data_df.population.mean()\n",
    "print(f\"5.\\tThe average population of all the countries is\\t\\t: {average_population}\")\n",
    "\n",
    "# 6. Compute the average population density of all the countries\n",
    "average_population_density = total_population_density / data_df.shape[0]\n",
    "print(f\"6.\\tThe average population density of all the countries is\\t: {average_population_density}\")\n",
    "\n",
    "# 7. Compute the country with the highest population\n",
    "highest_population = data_df.population.idxmax()\n",
    "print(f\"7.\\tThe country with the highest population is\\t\\t: {highest_population}\")\n",
    "\n",
    "# 8. Compute the country with the lowest population\n",
    "lowest_population = data_df.population.idxmin()\n",
    "print(f\"8.\\tThe country with the lowest population is\\t\\t: {lowest_population}\")\n",
    "\n",
    "# 9. Compute the country with the highest population density\n",
    "highest_population_density = (data_df.population / data_df.area).idxmax()\n",
    "print(f\"9.\\tThe country with the highest population density is\\t: {highest_population_density}\")\n",
    "\n",
    "# 10. Compute the country with the lowest population density\n",
    "lowest_population_density = (data_df.population / data_df.area).idxmin()\n",
    "print(f\"10.\\tThe country with the lowest population density is\\t: {lowest_population_density}\")\n",
    "\n",
    "# 11. Compute the country with the highest area\n",
    "highest_area = data_df.area.idxmax()\n",
    "print(f\"11.\\tThe country with the highest area is\\t\\t\\t: {highest_area}\")\n",
    "\n",
    "# 12. Compute the country with the lowest area\n",
    "lowest_area = data_df.area.idxmin()\n",
    "print(f\"12.\\tThe country with the lowest area is\\t\\t\\t: {lowest_area}\")\n",
    "\n",
    "# 13. Compute the country that have the longest capital name\n",
    "capital_lentgth = data_df.capital.map(lambda capital_name: len(capital_name))\n",
    "longest_capital = capital_lentgth.idxmax(), capital_lentgth.max(), data_df.loc[capital_lentgth.idxmax()].capital\n",
    "print(f\"13.\\tThe country that have the longest capital name is\\t: {longest_capital}\")\n",
    "\n",
    "# 14. Compute the country that have the shortest capital name\n",
    "shortest_capital = capital_lentgth.idxmin(), data_df.loc[capital_lentgth.idxmin()].capital \n",
    "print(f\"14.\\tThe country that have the shortest capital name is\\t: {shortest_capital}\")"
   ]
  },
  {
   "cell_type": "code",
   "execution_count": null,
   "metadata": {},
   "outputs": [],
   "source": []
  }
 ],
 "metadata": {
  "kernelspec": {
   "display_name": "nomades_nppd_310",
   "language": "python",
   "name": "python3"
  },
  "language_info": {
   "codemirror_mode": {
    "name": "ipython",
    "version": 3
   },
   "file_extension": ".py",
   "mimetype": "text/x-python",
   "name": "python",
   "nbconvert_exporter": "python",
   "pygments_lexer": "ipython3",
   "version": "3.10.15"
  }
 },
 "nbformat": 4,
 "nbformat_minor": 2
}
