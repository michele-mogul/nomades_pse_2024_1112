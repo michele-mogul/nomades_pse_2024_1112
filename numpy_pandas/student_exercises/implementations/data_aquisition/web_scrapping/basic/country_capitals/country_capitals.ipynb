{
 "cells": [
  {
   "cell_type": "code",
   "execution_count": null,
   "metadata": {},
   "outputs": [],
   "source": [
    "from bs4 import BeautifulSoup\n",
    "import requests\n",
    "import pandas as pd"
   ]
  },
  {
   "cell_type": "code",
   "execution_count": null,
   "metadata": {},
   "outputs": [],
   "source": [
    "# The url of a lisst of country with capitals\n",
    "# HINT: do not hesitate to look at the website using a browser to identify the pattern of the data you want to scrap\n",
    "url = \"https://scrapethissite.com/pages/simple/\""
   ]
  },
  {
   "cell_type": "code",
   "execution_count": null,
   "metadata": {},
   "outputs": [],
   "source": [
    "# Make a GET request to fetch the raw HTML content\n",
    "html_content = None"
   ]
  },
  {
   "cell_type": "code",
   "execution_count": null,
   "metadata": {},
   "outputs": [],
   "source": [
    "# Parse the html content\n",
    "soup = BeautifulSoup(html_content.text, \"html.parser\")\n",
    "# soup.prettify()"
   ]
  },
  {
   "cell_type": "code",
   "execution_count": null,
   "metadata": {},
   "outputs": [],
   "source": [
    "# Create a dictionary to store the data\n",
    "# The keys of the dictionary will be the countries\n",
    "# The values of the dictionary will be the capitals, the population and the area in km2 of the country\n",
    "# HINT: you can use the find_all method to find all the tags of a certain type\n",
    "\n",
    "data = {}\n",
    "\n",
    "data"
   ]
  },
  {
   "cell_type": "markdown",
   "metadata": {},
   "source": [
    "# Make some computation"
   ]
  },
  {
   "cell_type": "code",
   "execution_count": null,
   "metadata": {},
   "outputs": [],
   "source": [
    "# 1. Compute the total area of all the countries\n",
    "total_area = None\n",
    "print(f\"1.\\tThe total area of all the countries is\\t\\t\\t: {total_area} km2\")\n",
    "\n",
    "# 2. Compute the total population of all the countries\n",
    "total_population = None\n",
    "print(f\"2.\\tThe total population of all the countries is\\t\\t: {total_population}\")\n",
    "\n",
    "# 3. Compute the total population density of all the countries\n",
    "total_population_density = None\n",
    "print(f\"3.\\tThe total population density of all the countries is\\t: {total_population_density}\")\n",
    "\n",
    "# 4. Compute the average area of all the countries\n",
    "average_area = None\n",
    "print(f\"4.\\tThe average area of all the countries is\\t\\t: {average_area} km2\")\n",
    "\n",
    "# 5. Compute the average population of all the countries\n",
    "average_population = None\n",
    "print(f\"5.\\tThe average population of all the countries is\\t\\t: {average_population}\")\n",
    "\n",
    "# 6. Compute the average population density of all the countries\n",
    "average_population_density = None\n",
    "print(f\"6.\\tThe average population density of all the countries is\\t: {average_population_density}\")\n",
    "\n",
    "# 7. Compute the country with the highest population\n",
    "highest_population = None\n",
    "print(f\"7.\\tThe country with the highest population is\\t\\t: {highest_population}\")\n",
    "\n",
    "# 8. Compute the country with the lowest population\n",
    "lowest_population = None\n",
    "print(f\"8.\\tThe country with the lowest population is\\t\\t: {lowest_population}\")\n",
    "\n",
    "# 9. Compute the country with the highest population density\n",
    "highest_population_density = None\n",
    "print(f\"9.\\tThe country with the highest population density is\\t: {highest_population_density}\")\n",
    "\n",
    "# 10. Compute the country with the lowest population density\n",
    "lowest_population_density = None\n",
    "print(f\"10.\\tThe country with the lowest population density is\\t: {lowest_population_density}\")\n",
    "\n",
    "# 11. Compute the country with the highest area\n",
    "highest_area = None\n",
    "print(f\"11.\\tThe country with the highest area is\\t\\t\\t: {highest_area}\")\n",
    "\n",
    "# 12. Compute the country with the lowest area\n",
    "lowest_area = None\n",
    "print(f\"12.\\tThe country with the lowest area is\\t\\t\\t: {lowest_area}\")\n",
    "\n",
    "# 13. Compute the country that have the longest capital name\n",
    "longest_capital = \"\"\n",
    "print(f\"13.\\tThe country that have the longest capital name is\\t: {longest_capital}\")\n",
    "\n",
    "# 14. Compute the country that have the shortest capital name\n",
    "shortest_capital = \"\"\n",
    "print(f\"14.\\tThe country that have the shortest capital name is\\t: {shortest_capital}\")"
   ]
  }
 ],
 "metadata": {
  "kernelspec": {
   "display_name": "Python 3 (ipykernel)",
   "language": "python",
   "name": "python3"
  },
  "language_info": {
   "codemirror_mode": {
    "name": "ipython",
    "version": 3
   },
   "file_extension": ".py",
   "mimetype": "text/x-python",
   "name": "python",
   "nbconvert_exporter": "python",
   "pygments_lexer": "ipython3",
   "version": "3.10.14"
  }
 },
 "nbformat": 4,
 "nbformat_minor": 2
}
