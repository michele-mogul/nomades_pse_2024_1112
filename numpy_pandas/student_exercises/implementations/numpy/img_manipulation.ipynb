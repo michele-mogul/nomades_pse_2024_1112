{
 "cells": [
  {
   "cell_type": "markdown",
   "metadata": {},
   "source": [
    "# Image processing with Python, NumPy\n",
    "\n",
    "By reading the image as a NumPy array ndarray, various image processing can be performed using NumPy functions. In this notebook, I will introduce some basic image processing techniques using NumPy.\n",
    "\n",
    "There exists a lot of image processing library such as `cv2` or `scikit-image`, in this `notebook` we will only use `numpy`.\n",
    "\n",
    "## Image\n",
    "\n",
    "You will find the `lena.jpg` image at the same level as this notebook. \n",
    "\n",
    "![lena](lena.jpg)\n",
    "\n",
    "The imageha a shape of **(225, 400, 3)** which means that the image has **225** rows, **400** columns and **3** color channels. The image is in **RGB** format.\n",
    "\n",
    "<img src=\"images/doc/three_d_array.png\" alt=\"threedarray\" width=\"500\">\n",
    "\n",
    "## NumPy\n",
    "\n",
    "We'll use numpy to manipulate the image. The image will be converted to a 3d-ndarray of shape **(225, 400, 3)**.\n",
    "\n",
    "## Pillow\n",
    "\n",
    "Pillow is a Python library that allows you to read, write and manipulate images. It is a part of the Python Imaging Library (PIL). We will use it to read the image.\n",
    "\n",
    "### Instsll Pillow\n",
    "\n",
    "Open a terminal in the right `conda` environment (*nomades_nppd_310*). Run the following command:\n",
    "  \n",
    "```bash\n",
    "conda install pillow \n",
    "```\n",
    "\n",
    "We will use Pillow to read the image, then the mage will be transformed as a 3d-ndarray of shape **(225, 400, 3)** using this command:\n",
    "\n",
    "```python\n",
    "import numpy as np\n",
    "from PIL import Image\n",
    "im = np.array(Image.open('./lena.jpg'))\n",
    "print(im.shape)\n",
    "# you should see (225, 400, 3) as output\n",
    "```\n",
    "\n",
    "## Objectives\n",
    "\n",
    "**The goal of this exeercise is to understand how to manipulates `NumPy` arrays by performing some easy image processing techniques.**"
   ]
  },
  {
   "cell_type": "code",
   "execution_count": null,
   "metadata": {},
   "outputs": [],
   "source": [
    "# Imports\n",
    "import numpy as np              # Numpy for computing the image as array\n",
    "from PIL import Image           # PIL for opening the image; install using : conda install -c anaconda pillow\n",
    "import matplotlib.pyplot as plt # Matplotlib for displaying the image "
   ]
  },
  {
   "cell_type": "code",
   "execution_count": null,
   "metadata": {},
   "outputs": [],
   "source": [
    "def display_image(image: np.ndarray, title: str=None):\n",
    "    \"\"\"\n",
    "    Display the image using matplotlib\n",
    "    Args:\n",
    "    image: ndarray: The image as an numpy array\n",
    "    title: str: The title of the image, default is None\n",
    "    \"\"\"\n",
    "    plt.imshow(image)\n",
    "    plt.title(title)\n",
    "    plt.axis('off')\n",
    "    plt.show()\n"
   ]
  },
  {
   "cell_type": "markdown",
   "metadata": {},
   "source": [
    "##### Open the image as 3D numpy array"
   ]
  },
  {
   "cell_type": "code",
   "execution_count": null,
   "metadata": {},
   "outputs": [],
   "source": [
    "# Load the image\n",
    "im = np.array(Image.open('./lena.jpg'))\n",
    "print(im.shape)"
   ]
  },
  {
   "cell_type": "markdown",
   "metadata": {},
   "source": [
    "##### Display original image"
   ]
  },
  {
   "cell_type": "code",
   "execution_count": null,
   "metadata": {},
   "outputs": [],
   "source": [
    "display_image(im, 'Lena Original')"
   ]
  },
  {
   "cell_type": "markdown",
   "metadata": {},
   "source": [
    "##### Function that save image"
   ]
  },
  {
   "cell_type": "code",
   "execution_count": null,
   "metadata": {},
   "outputs": [],
   "source": [
    "def save_image(image: np.ndarray, name: str='lena_copy.jpg'):\n",
    "    \"\"\"\n",
    "    Save the image to the disk\n",
    "    Args:\n",
    "    image: ndarray: The image as an numpy array\n",
    "    \"\"\"\n",
    "    im = Image.fromarray(image)\n",
    "    im.save(name)"
   ]
  },
  {
   "cell_type": "markdown",
   "metadata": {},
   "source": [
    "### Grayscale\n",
    "\n",
    "the first function we willl implement is the grayscale effect. The grayscale effect will convert the image to grayscale. To apply the grayscale effect **we need to provide the same value for the three components `r`, `g`, `b`** we will use the following algorithm:\n",
    "- loop througth the image (row, cols)\n",
    "- compute the mean of the 3D axis (axis 2) (r/3 + g/3 + b/3) `/!\\ don't do (r+g+b)/3`\n",
    "- set the mean value for each component\n",
    "\n",
    "##### Example\n",
    "\n",
    "![grayscale](images/doc/grayscale.png)"
   ]
  },
  {
   "cell_type": "code",
   "execution_count": null,
   "metadata": {},
   "outputs": [],
   "source": [
    "def grayscale(image):\n",
    "    \"\"\"\n",
    "    Convert the image to grayscale\n",
    "    Args:\n",
    "    image: ndarray: The image as an numpy array\n",
    "    Returns:\n",
    "    ndarray: The grayscale image\n",
    "    \"\"\"\n",
    "    grayscale_image = np.zeros_like(image) # Create an empty array with the same shape as the image\n",
    "    # TODO: Convert the image to grayscale\n",
    "    return grayscale_image\n",
    "\n",
    "lena_grayscale = grayscale(im)\n",
    "display_image(lena_grayscale, 'Lena Grayscale')"
   ]
  },
  {
   "cell_type": "markdown",
   "metadata": {},
   "source": [
    "### Lena Red\n",
    "\n",
    "The goal here is to take only the red componenent of the image. The returned image is still a 3D array where the `blue` and `green` components are set to 0.\n",
    "\n",
    "##### Example\n",
    "\n",
    "![red](images/doc/lena_red.png)"
   ]
  },
  {
   "cell_type": "code",
   "execution_count": null,
   "metadata": {},
   "outputs": [],
   "source": [
    "def lena_red(image: np.ndarray):\n",
    "    \"\"\"\n",
    "    Extract the red channel from the image\n",
    "    Args:\n",
    "    image: ndarray: The image as an numpy array\n",
    "    Returns:\n",
    "    ndarray: The red channel of the image\n",
    "    \"\"\"\n",
    "    red_image = np.zeros_like(image) # Create an empty array with the same shape as the image\n",
    "    # TODO: Extract the red channel from the image\n",
    "    return red_image\n",
    "\n",
    "lred = lena_red(im)\n",
    "display_image(lred, 'Lena Red Channel')"
   ]
  },
  {
   "cell_type": "code",
   "execution_count": null,
   "metadata": {},
   "outputs": [],
   "source": [
    "def lena_green(image: np.ndarray):\n",
    "    \"\"\"\n",
    "    Extract the green channel from the image\n",
    "    Args:\n",
    "    image: ndarray: The image as an numpy array\n",
    "    Returns:\n",
    "    ndarray: The green channel of the image\n",
    "    \"\"\"\n",
    "    red_image = np.zeros_like(image) # Create an empty array with the same shape as the image\n",
    "    # TODO: Extract the green channel from the image\n",
    "    return red_image\n",
    "\n",
    "lgreen = lena_green(im)\n",
    "display_image(lgreen, 'Lena Green Channel')"
   ]
  },
  {
   "cell_type": "code",
   "execution_count": null,
   "metadata": {},
   "outputs": [],
   "source": [
    "def lena_blue(image: np.ndarray):\n",
    "    \"\"\"\n",
    "    Extract the blue channel from the image\n",
    "    Args:\n",
    "    image: ndarray: The image as an numpy array\n",
    "    Returns:\n",
    "    ndarray: The blue channel of the image\n",
    "    \"\"\"\n",
    "    red_image = np.zeros_like(image) # Create an empty array with the same shape as the image\n",
    "    # TODO: Extract the blue channel from the image\n",
    "    return red_image\n",
    "\n",
    "lblue = lena_blue(im)\n",
    "display_image(lblue, 'Lena Blue Channel')"
   ]
  },
  {
   "cell_type": "code",
   "execution_count": null,
   "metadata": {},
   "outputs": [],
   "source": [
    "if lred.any() and lgreen.any() and lblue.any():\n",
    "  display_image(np.concatenate((lred, lgreen, lblue), axis=1))\n"
   ]
  },
  {
   "cell_type": "markdown",
   "metadata": {},
   "source": [
    "### Negative filter\n",
    "\n",
    "To create a negative filter we need to change each components by substracting the current componenet to the value `255`. The image will look like this: `[:, :, (255-r), (255-g), (255-b)]`\n",
    "\n",
    "##### Example\n",
    "\n",
    "![negative](images/doc/negative.png)"
   ]
  },
  {
   "cell_type": "code",
   "execution_count": null,
   "metadata": {},
   "outputs": [],
   "source": [
    "def negative(image: np.ndarray):\n",
    "    \"\"\"\n",
    "    Convert the image to its negative\n",
    "    Args:\n",
    "    image: ndarray: The image as an numpy array\n",
    "    Returns:\n",
    "    ndarray: The negative of the image\n",
    "    \"\"\"\n",
    "    # TODO: Convert the image to its negative\n",
    "    return image\n",
    "\n",
    "lena_neg = negative(im)\n",
    "display_image(neg, 'Lena Negative')"
   ]
  },
  {
   "cell_type": "markdown",
   "metadata": {},
   "source": [
    "### [CADEAU] Color reduction\n",
    "\n",
    "Cut off the remainder of the division using `//` and multiply again, the pixel values become discrete, and the number of colors can be reduced."
   ]
  },
  {
   "cell_type": "code",
   "execution_count": null,
   "metadata": {},
   "outputs": [],
   "source": [
    "def color_reduced(image: np.ndarray):\n",
    "    \"\"\"\n",
    "    Reduce the number of colors in the image\n",
    "    Args:\n",
    "    image: ndarray: The image as an numpy array\n",
    "    Returns:\n",
    "    list: three colors image reduced\n",
    "    \"\"\"\n",
    "    return [image // 128 * 128, image // 64 * 64, image // 32 * 32]\n",
    "\n",
    "for i, c in enumerate(color_reduced(im)):\n",
    "    display_image(c, f'Lena Color Reduced {i+1}')"
   ]
  },
  {
   "cell_type": "markdown",
   "metadata": {},
   "source": [
    "### Photomaton\n",
    "\n",
    "Photomaton function will create a new image whre the first half of the image are even column and the second half of the image are odd column.\n",
    "\n",
    "##### Example\n",
    "\n",
    "![photomaton](images/doc/photomaton.png)"
   ]
  },
  {
   "cell_type": "code",
   "execution_count": null,
   "metadata": {},
   "outputs": [],
   "source": [
    "def photomaton(image: np.ndarray):\n",
    "    \"\"\"\n",
    "    Apply the photomaton effect to the image\n",
    "    \n",
    "    Args:\n",
    "    image: ndarray: The image as an numpy array\n",
    "    Returns:\n",
    "    ndarray: The image with the photomaton effect\n",
    "    \"\"\"\n",
    "    _, width, _ = image.shape           # Get the width of the image, in this function we don't need the height nor the number of channels\n",
    "    vertical_copy_image = image.copy()  # Create a copy of the image\n",
    "    # TODO: Apply the photomaton effect to the image\n",
    "    return vertical_copy_image\n",
    "\n",
    "lena_photomaton = photomaton(im)\n",
    "display_image(lena_photomaton, 'Lena Photomaton')"
   ]
  },
  {
   "cell_type": "markdown",
   "metadata": {},
   "source": [
    "### Trimming with slice\n",
    "\n",
    "By specifying an area with slice, you can trim it to a rectangle.\n",
    "\n",
    "##### Example\n",
    "\n",
    "![trimming](images/doc/trimmed.png)"
   ]
  },
  {
   "cell_type": "code",
   "execution_count": null,
   "metadata": {},
   "outputs": [],
   "source": [
    "def trimming(image: np.ndarray, x0: int, y0: int, w: int, h: int):\n",
    "    \"\"\"\n",
    "    Trim the image\n",
    "    Args:\n",
    "    image: ndarray: The image as an numpy array\n",
    "    x0: int: The x coordinate of the top-left corner\n",
    "    y0: int: The y coordinate of the top-left corner\n",
    "    w: int: The width of the new image\n",
    "    h: int: The height of the new image\n",
    "    Returns:\n",
    "    ndarray: The trimmed image\n",
    "    \"\"\"\n",
    "    # TODO: Trim the image\n",
    "    return image\n",
    "\n",
    "lena_trimmed = trimming(im, 100, 100, 100, 100)\n",
    "display_image(lena_trimmed, 'Lena Trimming')"
   ]
  },
  {
   "cell_type": "markdown",
   "metadata": {},
   "source": [
    "### [CADEAU] Copy and paste\n",
    "\n"
   ]
  },
  {
   "cell_type": "code",
   "execution_count": null,
   "metadata": {},
   "outputs": [],
   "source": [
    "dst_copy = im.copy()\n",
    "dst_copy[64:128, 128:192] = im[128:192, 32:96]\n",
    "display_image(dst_copy, 'Lena Copy')"
   ]
  },
  {
   "cell_type": "markdown",
   "metadata": {},
   "source": [
    "### Rotate\n",
    "\n",
    "We can rotate the image by 90, 180 or 270 degrees. By default, the image will be rotated by 90 degrees. We'll use the `[numpy.rot90](https://numpy.org/doc/stable/reference/generated/numpy.rot90.html)` function.\n",
    "\n",
    "##### Example\n",
    "\n",
    "![rotate](images/doc/rotate.png)"
   ]
  },
  {
   "cell_type": "code",
   "execution_count": null,
   "metadata": {},
   "outputs": [],
   "source": [
    "def rotate(image: np.ndarray, angle: float=90):\n",
    "    \"\"\"\n",
    "    Rotate the image using the numpy rot90 function\n",
    "    The rot90 function rotates the image by steps of 90 degrees\n",
    "    source: https://numpy.org/doc/stable/reference/generated/numpy.rot90.html\n",
    "    Args:\n",
    "    image: ndarray: The image as an numpy array\n",
    "    angle: float: The angle of rotation, default is 90\n",
    "    Returns:\n",
    "    ndarray: The rotated image\n",
    "    \"\"\"\n",
    "    # TODO: Rotate the image using the numpy rot90 function\n",
    "    return image\n",
    "\n",
    "lena_rotate = rotate(im, 180)\n",
    "display_image(lena_rotate, \"Rotate Lena\")"
   ]
  },
  {
   "cell_type": "markdown",
   "metadata": {},
   "source": [
    "### Blending Two Images\n",
    "\n",
    "You can blend two images by adding them together. If you add two images, the pixel values will be added together, so if you divide by 2, the average value will be taken.\n",
    "\n",
    "##### Example\n",
    "\n",
    "![blending](images/doc/blend.png)"
   ]
  },
  {
   "cell_type": "code",
   "execution_count": null,
   "metadata": {},
   "outputs": [],
   "source": [
    "im2 = np.array(Image.open('./cows.jpg'))\n",
    "\n",
    "def blend(image1: np.ndarray, image2: np.ndarray, alpha: float=0.5):\n",
    "    \"\"\"\n",
    "    Blend two images\n",
    "    Args:\n",
    "    image1: ndarray: The first image as an numpy array\n",
    "    image2: ndarray: The second image as an numpy array\n",
    "    alpha: float: The weight of the first image, default is 0.5\n",
    "    Returns:\n",
    "    ndarray: The blended image\n",
    "    \"\"\"\n",
    "    # TODO: Blend the two images using alpha\n",
    "    return image1\n",
    "\n",
    "lena_blend = blend(im, im2, 0.6) # this mean I want 60% of im and 40% of im2\n",
    "display_image(lena_blend, 'Lena and Cows Blended')"
   ]
  },
  {
   "cell_type": "markdown",
   "metadata": {},
   "source": [
    "### Display all images\n",
    "\n",
    "![display](images/doc/all_plots.png)"
   ]
  },
  {
   "cell_type": "code",
   "execution_count": null,
   "metadata": {},
   "outputs": [],
   "source": [
    "imgs = [im, lena_grayscale, lred, lgreen, lblue, lena_neg, lena_photomaton, lena_trimmed, lena_rotate, lena_blend]\n",
    "titles = ['Lena Original', 'Lena Grayscale', 'Lena Red Channel', 'Lena Green Channel', 'Lena Blue Channel', 'Lena Negative', 'lena photomaton', 'Lena Trimming', 'Lena Rotate', 'Lena and Cows Blended']"
   ]
  },
  {
   "cell_type": "code",
   "execution_count": null,
   "metadata": {},
   "outputs": [],
   "source": [
    "fig, axes = plt.subplots(5, 2, figsize=(10, 20))\n",
    "for i, ax in enumerate(axes.flat):\n",
    "    ax.imshow(imgs[i])\n",
    "    ax.set_title(titles[i])\n",
    "    ax.axis('off')\n",
    "\n",
    "plt.show()"
   ]
  },
  {
   "cell_type": "markdown",
   "metadata": {},
   "source": [
    "### Display histograms"
   ]
  },
  {
   "cell_type": "code",
   "execution_count": null,
   "metadata": {},
   "outputs": [],
   "source": [
    "fig, axes = plt.subplots(5, 2, figsize=(10, 30))\n",
    "for i, ax in enumerate(axes.flat):\n",
    "  if i in range(2, 5):\n",
    "    img_flat = imgs[i].flatten()\n",
    "    img_flat = img_flat[img_flat != 0]\n",
    "  else:  \n",
    "    img_flat = imgs[i].flatten()\n",
    "  ax.hist(img_flat, bins=200, range=[0, 256])\n",
    "  ax.set_title(f\"Pixel density: {titles[i]}\")\n",
    "  ax.set_xlabel(\"Intensity\")\n",
    "  ax.set_ylabel(\"Number of pixels\")\n",
    "\n",
    "plt.show()\n"
   ]
  },
  {
   "cell_type": "markdown",
   "metadata": {},
   "source": [
    "### Optional [CADEAU]"
   ]
  },
  {
   "cell_type": "code",
   "execution_count": null,
   "metadata": {},
   "outputs": [],
   "source": [
    "def vignette_effect(image, strength=1.0):\n",
    "    height, width, _ = image.shape\n",
    "    cy, cx = height // 2, width // 2\n",
    "\n",
    "    y, x = np.ogrid[:height, :width]\n",
    "    y = y - cy\n",
    "    x = x - cx\n",
    "\n",
    "    r = np.sqrt(x**2 + y**2)\n",
    "    r_max = np.sqrt(cy**2 + cx**2)\n",
    "\n",
    "    vignette = 1 - r / r_max\n",
    "    vignette = np.clip(vignette, 0, 1)\n",
    "\n",
    "    # Apply the vignette effect to each channel\n",
    "    vignette_effect = np.zeros_like(image)\n",
    "    for i in range(image.shape[2]):\n",
    "        vignette_effect[:, :, i] = image[:, :, i] * vignette\n",
    "\n",
    "    return vignette_effect\n",
    "\n",
    "lena_vignette = vignette_effect(im, 1.5)\n",
    "display_image(lena_vignette, 'Lena Vignette')"
   ]
  },
  {
   "cell_type": "code",
   "execution_count": null,
   "metadata": {},
   "outputs": [],
   "source": []
  }
 ],
 "metadata": {
  "kernelspec": {
   "display_name": "nomades_nppd_310",
   "language": "python",
   "name": "python3"
  },
  "language_info": {
   "codemirror_mode": {
    "name": "ipython",
    "version": 3
   },
   "file_extension": ".py",
   "mimetype": "text/x-python",
   "name": "python",
   "nbconvert_exporter": "python",
   "pygments_lexer": "ipython3",
   "version": "3.10.14"
  }
 },
 "nbformat": 4,
 "nbformat_minor": 2
}
