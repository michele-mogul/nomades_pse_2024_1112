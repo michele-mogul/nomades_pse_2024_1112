{
 "cells": [
  {
   "cell_type": "markdown",
   "metadata": {},
   "source": [
    "# Introduction\n",
    "\n",
    "In these exercises we'll apply groupwise analysis to our dataset.\n",
    "\n",
    "Run the code cell below to load the data before running the exercises."
   ]
  },
  {
   "cell_type": "code",
   "metadata": {
    "ExecuteTime": {
     "end_time": "2024-11-11T10:35:16.504332Z",
     "start_time": "2024-11-11T10:35:15.181325Z"
    }
   },
   "source": [
    "import pandas as pd\n",
    "\n",
    "reviews = pd.read_csv(\"./data/wine-reviews/winemag-data-130k-v2.csv\", index_col=0)\n",
    "pd.set_option(\"display.max_rows\", 5)\n",
    "____ = None"
   ],
   "outputs": [],
   "execution_count": 1
  },
  {
   "cell_type": "markdown",
   "metadata": {},
   "source": [
    "# Exercises"
   ]
  },
  {
   "cell_type": "markdown",
   "metadata": {},
   "source": [
    "## 1.\n",
    "Who are the most common wine reviewers in the dataset? Create a `Series` whose index is the `taster_twitter_handle` category from the dataset, and whose values count how many reviews each person wrote."
   ]
  },
  {
   "cell_type": "code",
   "metadata": {
    "ExecuteTime": {
     "end_time": "2024-11-11T10:35:27.515915Z",
     "start_time": "2024-11-11T10:35:27.499468Z"
    }
   },
   "source": [
    "# Your code here\n",
    "reviews_written = reviews.groupby(\"taster_twitter_handle\").size()\n",
    "\n",
    "# Check your answer\n",
    "reviews_written.head()"
   ],
   "outputs": [
    {
     "data": {
      "text/plain": [
       "taster_twitter_handle\n",
       "@AnneInVino          3685\n",
       "@JoeCz               5147\n",
       "@bkfiona               27\n",
       "@gordone_cellars     4177\n",
       "@kerinokeefe        10776\n",
       "dtype: int64"
      ]
     },
     "execution_count": 2,
     "metadata": {},
     "output_type": "execute_result"
    }
   ],
   "execution_count": 2
  },
  {
   "cell_type": "markdown",
   "metadata": {},
   "source": [
    "## 2.\n",
    "What is the best wine I can buy for a given amount of money? Create a `Series` whose index is wine prices and whose values is the maximum number of points a wine costing that much was given in a review. Sort the values by price, ascending (so that `4.0` dollars is at the top and `3300.0` dollars is at the bottom)."
   ]
  },
  {
   "cell_type": "code",
   "metadata": {
    "ExecuteTime": {
     "end_time": "2024-11-11T10:36:00.369285Z",
     "start_time": "2024-11-11T10:36:00.360963Z"
    }
   },
   "source": [
    "best_rating_per_price = reviews.groupby(\"price\").points.max().sort_values()\n",
    "\n",
    "# Check your answer\n",
    "best_rating_per_price.head()"
   ],
   "outputs": [
    {
     "data": {
      "text/plain": [
       "price\n",
       "4.0       86\n",
       "5.0       87\n",
       "790.0     87\n",
       "181.0     88\n",
       "3300.0    88\n",
       "Name: points, dtype: int64"
      ]
     },
     "execution_count": 3,
     "metadata": {},
     "output_type": "execute_result"
    }
   ],
   "execution_count": 3
  },
  {
   "cell_type": "markdown",
   "metadata": {},
   "source": [
    "## 3.\n",
    "What are the minimum and maximum prices for each `variety` of wine? Create a `DataFrame` whose index is the `variety` category from the dataset and whose values are the `min` and `max` values thereof."
   ]
  },
  {
   "cell_type": "code",
   "metadata": {
    "ExecuteTime": {
     "end_time": "2024-11-11T10:37:03.324422Z",
     "start_time": "2024-11-11T10:37:03.308449Z"
    }
   },
   "source": [
    "price_extremes = reviews.groupby(\"variety\").price.agg([\"min\", \"max\"])\n",
    "\n",
    "# Check your answer\n",
    "price_extremes.head()"
   ],
   "outputs": [
    {
     "data": {
      "text/plain": [
       "              min    max\n",
       "variety                 \n",
       "Abouriou     15.0   75.0\n",
       "Agiorgitiko  10.0   66.0\n",
       "Aglianico     6.0  180.0\n",
       "Aidani       27.0   27.0\n",
       "Airen         8.0   10.0"
      ],
      "text/html": [
       "<div>\n",
       "<style scoped>\n",
       "    .dataframe tbody tr th:only-of-type {\n",
       "        vertical-align: middle;\n",
       "    }\n",
       "\n",
       "    .dataframe tbody tr th {\n",
       "        vertical-align: top;\n",
       "    }\n",
       "\n",
       "    .dataframe thead th {\n",
       "        text-align: right;\n",
       "    }\n",
       "</style>\n",
       "<table border=\"1\" class=\"dataframe\">\n",
       "  <thead>\n",
       "    <tr style=\"text-align: right;\">\n",
       "      <th></th>\n",
       "      <th>min</th>\n",
       "      <th>max</th>\n",
       "    </tr>\n",
       "    <tr>\n",
       "      <th>variety</th>\n",
       "      <th></th>\n",
       "      <th></th>\n",
       "    </tr>\n",
       "  </thead>\n",
       "  <tbody>\n",
       "    <tr>\n",
       "      <th>Abouriou</th>\n",
       "      <td>15.0</td>\n",
       "      <td>75.0</td>\n",
       "    </tr>\n",
       "    <tr>\n",
       "      <th>Agiorgitiko</th>\n",
       "      <td>10.0</td>\n",
       "      <td>66.0</td>\n",
       "    </tr>\n",
       "    <tr>\n",
       "      <th>Aglianico</th>\n",
       "      <td>6.0</td>\n",
       "      <td>180.0</td>\n",
       "    </tr>\n",
       "    <tr>\n",
       "      <th>Aidani</th>\n",
       "      <td>27.0</td>\n",
       "      <td>27.0</td>\n",
       "    </tr>\n",
       "    <tr>\n",
       "      <th>Airen</th>\n",
       "      <td>8.0</td>\n",
       "      <td>10.0</td>\n",
       "    </tr>\n",
       "  </tbody>\n",
       "</table>\n",
       "</div>"
      ]
     },
     "execution_count": 4,
     "metadata": {},
     "output_type": "execute_result"
    }
   ],
   "execution_count": 4
  },
  {
   "cell_type": "markdown",
   "metadata": {},
   "source": [
    "## 4.\n",
    "What are the most expensive wine varieties? Create a variable `sorted_varieties` containing a copy of the dataframe from the previous question where varieties are sorted in descending order based on minimum price, then on maximum price (to break ties)."
   ]
  },
  {
   "cell_type": "code",
   "metadata": {
    "ExecuteTime": {
     "end_time": "2024-11-11T10:37:28.520327Z",
     "start_time": "2024-11-11T10:37:28.467885Z"
    }
   },
   "source": [
    "sorted_varieties = reviews.copy()\n",
    "sorted_varieties.sort_values([\"price\", \"variety\"], inplace=True, ascending=[False, True])\n",
    "\n",
    "# Check your answer\n",
    "sorted_varieties.head()"
   ],
   "outputs": [
    {
     "data": {
      "text/plain": [
       "       country                                        description  \\\n",
       "80290   France  This ripe wine shows plenty of blackberry frui...   \n",
       "15840   France  The wine is a velvet glove in an iron fist. Th...   \n",
       "98380   France  A superb wine from a great year, this is power...   \n",
       "120391      US  The nose on this single-vineyard wine from a s...   \n",
       "65352   France  This extravagantly perfumed wine has great jui...   \n",
       "\n",
       "                designation  points   price    province     region_1  \\\n",
       "80290                   NaN      88  3300.0    Bordeaux        Médoc   \n",
       "15840                   NaN      96  2500.0    Bordeaux      Pomerol   \n",
       "98380                   NaN      96  2500.0    Burgundy   La Romanée   \n",
       "120391  Roger Rose Vineyard      91  2013.0  California  Arroyo Seco   \n",
       "65352                   NaN      97  2000.0    Bordeaux      Pomerol   \n",
       "\n",
       "             region_2    taster_name taster_twitter_handle  \\\n",
       "80290             NaN     Roger Voss            @vossroger   \n",
       "15840             NaN     Roger Voss            @vossroger   \n",
       "98380             NaN     Roger Voss            @vossroger   \n",
       "120391  Central Coast  Matt Kettmann         @mattkettmann   \n",
       "65352             NaN     Roger Voss            @vossroger   \n",
       "\n",
       "                                                    title  \\\n",
       "80290                Château les Ormes Sorbet 2013  Médoc   \n",
       "15840                        Château Pétrus 2014  Pomerol   \n",
       "98380      Domaine du Comte Liger-Belair 2010  La Romanée   \n",
       "120391  Blair 2013 Roger Rose Vineyard Chardonnay (Arr...   \n",
       "65352                        Château Pétrus 2011  Pomerol   \n",
       "\n",
       "                         variety                         winery  \n",
       "80290   Bordeaux-style Red Blend       Château les Ormes Sorbet  \n",
       "15840   Bordeaux-style Red Blend                 Château Pétrus  \n",
       "98380                 Pinot Noir  Domaine du Comte Liger-Belair  \n",
       "120391                Chardonnay                          Blair  \n",
       "65352   Bordeaux-style Red Blend                 Château Pétrus  "
      ],
      "text/html": [
       "<div>\n",
       "<style scoped>\n",
       "    .dataframe tbody tr th:only-of-type {\n",
       "        vertical-align: middle;\n",
       "    }\n",
       "\n",
       "    .dataframe tbody tr th {\n",
       "        vertical-align: top;\n",
       "    }\n",
       "\n",
       "    .dataframe thead th {\n",
       "        text-align: right;\n",
       "    }\n",
       "</style>\n",
       "<table border=\"1\" class=\"dataframe\">\n",
       "  <thead>\n",
       "    <tr style=\"text-align: right;\">\n",
       "      <th></th>\n",
       "      <th>country</th>\n",
       "      <th>description</th>\n",
       "      <th>designation</th>\n",
       "      <th>points</th>\n",
       "      <th>price</th>\n",
       "      <th>province</th>\n",
       "      <th>region_1</th>\n",
       "      <th>region_2</th>\n",
       "      <th>taster_name</th>\n",
       "      <th>taster_twitter_handle</th>\n",
       "      <th>title</th>\n",
       "      <th>variety</th>\n",
       "      <th>winery</th>\n",
       "    </tr>\n",
       "  </thead>\n",
       "  <tbody>\n",
       "    <tr>\n",
       "      <th>80290</th>\n",
       "      <td>France</td>\n",
       "      <td>This ripe wine shows plenty of blackberry frui...</td>\n",
       "      <td>NaN</td>\n",
       "      <td>88</td>\n",
       "      <td>3300.0</td>\n",
       "      <td>Bordeaux</td>\n",
       "      <td>Médoc</td>\n",
       "      <td>NaN</td>\n",
       "      <td>Roger Voss</td>\n",
       "      <td>@vossroger</td>\n",
       "      <td>Château les Ormes Sorbet 2013  Médoc</td>\n",
       "      <td>Bordeaux-style Red Blend</td>\n",
       "      <td>Château les Ormes Sorbet</td>\n",
       "    </tr>\n",
       "    <tr>\n",
       "      <th>15840</th>\n",
       "      <td>France</td>\n",
       "      <td>The wine is a velvet glove in an iron fist. Th...</td>\n",
       "      <td>NaN</td>\n",
       "      <td>96</td>\n",
       "      <td>2500.0</td>\n",
       "      <td>Bordeaux</td>\n",
       "      <td>Pomerol</td>\n",
       "      <td>NaN</td>\n",
       "      <td>Roger Voss</td>\n",
       "      <td>@vossroger</td>\n",
       "      <td>Château Pétrus 2014  Pomerol</td>\n",
       "      <td>Bordeaux-style Red Blend</td>\n",
       "      <td>Château Pétrus</td>\n",
       "    </tr>\n",
       "    <tr>\n",
       "      <th>98380</th>\n",
       "      <td>France</td>\n",
       "      <td>A superb wine from a great year, this is power...</td>\n",
       "      <td>NaN</td>\n",
       "      <td>96</td>\n",
       "      <td>2500.0</td>\n",
       "      <td>Burgundy</td>\n",
       "      <td>La Romanée</td>\n",
       "      <td>NaN</td>\n",
       "      <td>Roger Voss</td>\n",
       "      <td>@vossroger</td>\n",
       "      <td>Domaine du Comte Liger-Belair 2010  La Romanée</td>\n",
       "      <td>Pinot Noir</td>\n",
       "      <td>Domaine du Comte Liger-Belair</td>\n",
       "    </tr>\n",
       "    <tr>\n",
       "      <th>120391</th>\n",
       "      <td>US</td>\n",
       "      <td>The nose on this single-vineyard wine from a s...</td>\n",
       "      <td>Roger Rose Vineyard</td>\n",
       "      <td>91</td>\n",
       "      <td>2013.0</td>\n",
       "      <td>California</td>\n",
       "      <td>Arroyo Seco</td>\n",
       "      <td>Central Coast</td>\n",
       "      <td>Matt Kettmann</td>\n",
       "      <td>@mattkettmann</td>\n",
       "      <td>Blair 2013 Roger Rose Vineyard Chardonnay (Arr...</td>\n",
       "      <td>Chardonnay</td>\n",
       "      <td>Blair</td>\n",
       "    </tr>\n",
       "    <tr>\n",
       "      <th>65352</th>\n",
       "      <td>France</td>\n",
       "      <td>This extravagantly perfumed wine has great jui...</td>\n",
       "      <td>NaN</td>\n",
       "      <td>97</td>\n",
       "      <td>2000.0</td>\n",
       "      <td>Bordeaux</td>\n",
       "      <td>Pomerol</td>\n",
       "      <td>NaN</td>\n",
       "      <td>Roger Voss</td>\n",
       "      <td>@vossroger</td>\n",
       "      <td>Château Pétrus 2011  Pomerol</td>\n",
       "      <td>Bordeaux-style Red Blend</td>\n",
       "      <td>Château Pétrus</td>\n",
       "    </tr>\n",
       "  </tbody>\n",
       "</table>\n",
       "</div>"
      ]
     },
     "execution_count": 5,
     "metadata": {},
     "output_type": "execute_result"
    }
   ],
   "execution_count": 5
  },
  {
   "cell_type": "markdown",
   "metadata": {},
   "source": [
    "## 5.\n",
    "Create a `Series` whose index is reviewers and whose values is the average review score given out by that reviewer. Hint: you will need the `taster_name` and `points` columns."
   ]
  },
  {
   "cell_type": "code",
   "metadata": {
    "ExecuteTime": {
     "end_time": "2024-11-11T10:38:06.773445Z",
     "start_time": "2024-11-11T10:38:06.760014Z"
    }
   },
   "source": [
    "reviewer_mean_ratings = reviews.groupby(\"taster_name\").points.mean()\n",
    "\n",
    "# Check your answer\n",
    "reviewer_mean_ratings.head()"
   ],
   "outputs": [
    {
     "data": {
      "text/plain": [
       "taster_name\n",
       "Alexander Peartree    85.855422\n",
       "Anna Lee C. Iijima    88.415629\n",
       "Anne Krebiehl MW      90.562551\n",
       "Carrie Dykes          86.395683\n",
       "Christina Pickard     87.833333\n",
       "Name: points, dtype: float64"
      ]
     },
     "execution_count": 6,
     "metadata": {},
     "output_type": "execute_result"
    }
   ],
   "execution_count": 6
  },
  {
   "cell_type": "markdown",
   "metadata": {},
   "source": [
    "Are there significant differences in the average scores assigned by the various reviewers? Run the cell below to use the `describe()` method to see a summary of the range of values."
   ]
  },
  {
   "cell_type": "code",
   "metadata": {
    "ExecuteTime": {
     "end_time": "2024-11-11T10:38:14.371662Z",
     "start_time": "2024-11-11T10:38:14.362518Z"
    }
   },
   "source": [
    "reviewer_mean_ratings.describe()"
   ],
   "outputs": [
    {
     "data": {
      "text/plain": [
       "count    19.000000\n",
       "mean     88.232970\n",
       "           ...    \n",
       "75%      88.975256\n",
       "max      90.562551\n",
       "Name: points, Length: 8, dtype: float64"
      ]
     },
     "execution_count": 7,
     "metadata": {},
     "output_type": "execute_result"
    }
   ],
   "execution_count": 7
  },
  {
   "cell_type": "markdown",
   "metadata": {},
   "source": [
    "## 6.\n",
    "What combination of countries and varieties are most common? Create a `Series` whose index is a `MultiIndex`of `{country, variety}` pairs. For example, a pinot noir produced in the US should map to `{\"US\", \"Pinot Noir\"}`. Sort the values in the `Series` in descending order based on wine count."
   ]
  },
  {
   "cell_type": "code",
   "metadata": {
    "ExecuteTime": {
     "end_time": "2024-11-11T10:38:32.841244Z",
     "start_time": "2024-11-11T10:38:32.815089Z"
    }
   },
   "source": [
    "country_variety_counts = reviews.groupby([\"country\", \"variety\"]).size().sort_values(ascending=False)\n",
    "\n",
    "# Check your answer\n",
    "country_variety_counts.head()"
   ],
   "outputs": [
    {
     "data": {
      "text/plain": [
       "country  variety                 \n",
       "US       Pinot Noir                  9885\n",
       "         Cabernet Sauvignon          7315\n",
       "         Chardonnay                  6801\n",
       "France   Bordeaux-style Red Blend    4725\n",
       "Italy    Red Blend                   3624\n",
       "dtype: int64"
      ]
     },
     "execution_count": 8,
     "metadata": {},
     "output_type": "execute_result"
    }
   ],
   "execution_count": 8
  }
 ],
 "metadata": {
  "kaggle": {
   "accelerator": "none",
   "dataSources": [
    {
     "datasetId": 655,
     "sourceId": 1252,
     "sourceType": "datasetVersion"
    },
    {
     "datasetId": 2321,
     "sourceId": 3919,
     "sourceType": "datasetVersion"
    },
    {
     "datasetId": 2894,
     "sourceId": 4877,
     "sourceType": "datasetVersion"
    },
    {
     "datasetId": 3491,
     "sourceId": 5624,
     "sourceType": "datasetVersion"
    },
    {
     "datasetId": 1442,
     "sourceId": 8172,
     "sourceType": "datasetVersion"
    },
    {
     "datasetId": 9366,
     "sourceId": 13206,
     "sourceType": "datasetVersion"
    },
    {
     "datasetId": 179555,
     "sourceId": 403916,
     "sourceType": "datasetVersion"
    },
    {
     "datasetId": 4549,
     "sourceId": 466349,
     "sourceType": "datasetVersion"
    },
    {
     "datasetId": 2478,
     "sourceId": 1151655,
     "sourceType": "datasetVersion"
    },
    {
     "datasetId": 10128,
     "sourceId": 5438389,
     "sourceType": "datasetVersion"
    }
   ],
   "isGpuEnabled": false,
   "isInternetEnabled": false,
   "language": "python",
   "sourceType": "notebook"
  },
  "kernelspec": {
   "display_name": "Python 3",
   "language": "python",
   "name": "python3"
  },
  "language_info": {
   "codemirror_mode": {
    "name": "ipython",
    "version": 3
   },
   "file_extension": ".py",
   "mimetype": "text/x-python",
   "name": "python",
   "nbconvert_exporter": "python",
   "pygments_lexer": "ipython3",
   "version": "3.10.13"
  }
 },
 "nbformat": 4,
 "nbformat_minor": 4
}
