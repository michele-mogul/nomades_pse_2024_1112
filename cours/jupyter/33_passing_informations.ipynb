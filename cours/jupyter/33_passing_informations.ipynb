{
 "cells": [
  {
   "cell_type": "markdown",
   "id": "9ad2cc81",
   "metadata": {
    "slideshow": {
     "slide_type": "slide"
    }
   },
   "source": [
    "# Transmitting Informations"
   ]
  },
  {
   "cell_type": "markdown",
   "id": "acc8cd82",
   "metadata": {
    "slideshow": {
     "slide_type": "fragment"
    }
   },
   "source": [
    "Nous avons vu qu'il était possible de passer des donées du `serveur flask` -> `client` en utilisant la méthode `render_template` de `flask`.\n",
    "\n",
    "Peut-on faire l'inverse ? C'est à dire envoyer des informations du `client` au `serveur` ?"
   ]
  },
  {
   "cell_type": "markdown",
   "id": "fc8b19d4",
   "metadata": {
    "slideshow": {
     "slide_type": "slide"
    }
   },
   "source": [
    "## Les formulaires\n",
    "\n",
    "Pour envoyer des informations du `client` au `serveur`, on utilise des formulaires.\n",
    "\n",
    "Un formulaire est un ensemble de champs de saisie (balise `input`) qui permettent à l'utilisateur de saisir des informations."
   ]
  },
  {
   "cell_type": "markdown",
   "id": "5db5fc7d",
   "metadata": {
    "slideshow": {
     "slide_type": "slide"
    }
   },
   "source": [
    "### Créer un formulaire\n",
    "\n",
    "Pour créer un formulaire, on utilise la balise `form` qui contient les balises `input`.\n",
    "\n",
    "```html\n",
    "<form action=\"/some_route\" method=\"POST\">  \n",
    "  <input type=\"text\" name=\"prenom\" placeholder=\"Votre prénom\">\n",
    "  <input type=\"text\" name=\"nom\" placeholder=\"Votre nom\">\n",
    "  <input type=\"submit\" value=\"Envoyer\">\n",
    "</form>\n",
    "```\n",
    "\n",
    "Ici nous avons créé un formulaire avec deux champ de saisie pour le nom et le prénom et un bouton pour envoyer le formulaire (`type=\"submit\"`)."
   ]
  },
  {
   "cell_type": "markdown",
   "id": "9b10a075",
   "metadata": {
    "slideshow": {
     "slide_type": "slide"
    }
   },
   "source": [
    "### Les attributs `action` et `method`\n",
    "\n",
    "La balise `<form>`, prend deux attributs (paramètres) :\n",
    "- `action` : l'URL (endpoint) de la page qui va traiter les informations du formulaire.\n",
    "- `method` : la méthode HTTP à utiliser pour envoyer les informations du formulaire`\n",
    "\n",
    "> **/!\\ en HTML seulement des methodes HTTP sont acceptés: `GET` et `POST`**"
   ]
  },
  {
   "cell_type": "markdown",
   "id": "3c706a6f",
   "metadata": {
    "slideshow": {
     "slide_type": "slide"
    }
   },
   "source": [
    "### Les champs de saisie\n",
    "\n",
    "Les champs de saisie sont définis par la balise `input`. Cette balise prend plusieurs attributs :\n",
    "- `type` : le type de champ de saisie (text, password, email, number, ...)\n",
    "- `name` : le nom du champ de saisie\n",
    "- `placeholder` : le texte qui s'affiche dans le champ de saisie\n",
    "- `value` : la valeur par défaut du champ de saisie\n",
    "- `required` : le champ de saisie est obligatoire\n",
    "- `readonly` : le champ de saisie est en lecture seule\n",
    "- `disabled` : le champ de saisie est désactivé\n",
    "\n",
    "Ici, le name est très important car c'est grâce à lui que l'on va pouvoir récupérer les informations du formulaire côté serveur."
   ]
  },
  {
   "cell_type": "markdown",
   "id": "3490b044",
   "metadata": {
    "slideshow": {
     "slide_type": "slide"
    }
   },
   "source": [
    "## Récupérer les informations du formulaire\n",
    "\n",
    "Pour récupérer les informations du formulaire côté serveur, on doit définir une route (celle qui sera utilisée dans l'attribut `action` du formulaire)\n",
    "\n",
    "On doit aussi spécifier que cette route accepte les méthodes `GET` et/ou `POST`"
   ]
  },
  {
   "cell_type": "markdown",
   "id": "c3f2a5b6",
   "metadata": {
    "slideshow": {
     "slide_type": "slide"
    }
   },
   "source": [
    "### Object `request`\n",
    "\n",
    "Pour récupérer les informations du formulaire, on utilise l'objet `request` de `flask`.\n",
    "\n",
    "Cet objet contient toutes les informations de la requête HTTP (méthode, headers, cookies, données, ...)\n",
    "\n",
    "Pour récupérer les informations du formulaire, on utilise l'attribut `form` de l'objet `request`.\n",
    "\n",
    "l'attribut `form` est un dictionnaire qui contient les informations du formulaire. Sous la forme `clé:valeur`, où la clé est le nom (`name`) du champ de saisie et la valeur est la valeur saisie par l'utilisateur."
   ]
  },
  {
   "cell_type": "code",
   "execution_count": null,
   "id": "52ca750d",
   "metadata": {
    "slideshow": {
     "slide_type": "slide"
    }
   },
   "outputs": [],
   "source": [
    "from flask import Flask, request\n",
    "\n",
    "app = Flask(__name__)\n",
    "\n",
    "@app.route('/form', methods=['GET', 'POST'])\n",
    "def form():\n",
    "  if request.method == 'POST': # request object has attribute method, which is a string informing the method used in the request\n",
    "    name = request.form['name'] # request object has attribute form, which is a dictionary with the form data\n",
    "    lastname = request.form['lastname'] # Here I'm getting the value of the form for the input with name attribute 'lastname'\n",
    "    return 'You submitted the form: the name is %s and the lastname is %s' % (name, lastname)\n",
    "  return '''\n",
    "    <form method=\"post\">\n",
    "      <input type=\"text\" name=\"name\">\n",
    "      <input type=\"text\" name=\"lastname\">\n",
    "      <input type=\"submit\">\n",
    "    </form>\n",
    "  '''\n",
    "\n",
    "if __name__ == '__main__':\n",
    "  app.run()"
   ]
  },
  {
   "cell_type": "markdown",
   "id": "627b400e",
   "metadata": {
    "slideshow": {
     "slide_type": "slide"
    }
   },
   "source": [
    "## Sending files\n",
    "\n",
    "Il est possible via un formulaire d'envoyer des fichiers (images, vidéos, documents, ...)\n",
    "\n",
    "Pour cela, on utilise la balise `input` avec l'attribut `type=\"file\"` \n",
    "Il va falloir aussi ajouter l'attribut `enctype=\"multipart/form-data\"` dans la balise `form`.\n",
    "\n",
    "```html\n",
    "<form action=\"\" method=\"POST\" enctype=\"multipart/form-data\">\n",
    "  <input type=\"file\" name=\"fileInput\">\n",
    "  <input type=\"submit\" value=\"Envoyer\">\n",
    "</form>\n",
    "```"
   ]
  },
  {
   "cell_type": "markdown",
   "id": "f5b3d9cf",
   "metadata": {
    "slideshow": {
     "slide_type": "slide"
    }
   },
   "source": [
    "Pour récupérer le fichier côté serveur, on utilise l'attribut `files` de l'objet `request`.\n",
    "\n",
    "L'attribut `files` est un dictionnaire qui contient les fichiers envoyés par le client. La clé est le nom du champ de saisie et la valeur est un objet `FileStorage` qui contient les informations du fichier.\n",
    "\n",
    "infomration sur le fichier:\n",
    "- `filename` : le nom du fichier\n",
    "- `content_type` : le type de contenu du fichier\n",
    "- `content_length` : la taille du fichier\n",
    "- `read()` : lire le contenu du fichier\n",
    "- `save()` : sauvegarder le fichier sur le serveur"
   ]
  },
  {
   "cell_type": "code",
   "execution_count": null,
   "id": "d6dd9cca",
   "metadata": {
    "slideshow": {
     "slide_type": "slide"
    }
   },
   "outputs": [],
   "source": [
    "from flask import Flask, request\n",
    "\n",
    "app = Flask(__name__)\n",
    "\n",
    "@app.route('/form/files', methods=['GET', 'POST'])\n",
    "def form_files():\n",
    "  if request.method == 'POST': # request object has attribute method, which is a string informing the method used in the request\n",
    "    file = request.files['fileInput']\n",
    "    file.save(file.filename)\n",
    "    return 'File uploaded successfully'\n",
    "  return '''\n",
    "    <form action=\"\" method=\"POST\" enctype=\"multipart/form-data\">\n",
    "      <input type=\"file\" name=\"fileInput\">\n",
    "      <input type=\"submit\" value=\"Envoyer\">\n",
    "    </form>\n",
    "  '''\n",
    "\n",
    "if __name__ == '__main__':\n",
    "  app.run()"
   ]
  },
  {
   "cell_type": "markdown",
   "id": "e45de60e",
   "metadata": {
    "slideshow": {
     "slide_type": "slide"
    }
   },
   "source": [
    "#### Multiple files\n",
    "\n",
    "Il est possible d'envoyer plusieurs fichiers en même temps en ajoutant l'attribut `multiple` à la balise `input`.\n",
    "\n",
    "```html\n",
    "<form action=\"\" method=\"POST\" enctype=\"multipart/form-data\">\n",
    "  <input type=\"file\" name=\"fileInput\" multiple>\n",
    "  <input type=\"submit\" value=\"Envoyer\">\n",
    "</form>\n",
    "```"
   ]
  },
  {
   "cell_type": "markdown",
   "id": "dddc5638",
   "metadata": {
    "slideshow": {
     "slide_type": "fragment"
    }
   },
   "source": [
    "Pour récupérer les fichiers côté serveur, on utilise l'attribut `getlist` de l'objet `files`.\n",
    "\n",
    "```python\n",
    "files = request.files.getlist('fileInput')\n",
    "```\n",
    "\n",
    "Ceci retourne une liste d'objets `FileStorage` qui contiennent les informations des fichiers."
   ]
  },
  {
   "cell_type": "code",
   "execution_count": null,
   "id": "c605c931",
   "metadata": {
    "slideshow": {
     "slide_type": "slide"
    }
   },
   "outputs": [],
   "source": [
    "from flask import Flask, request\n",
    "\n",
    "app = Flask(__name__)\n",
    "\n",
    "@app.route('/form/files', methods=['GET', 'POST'])\n",
    "def form_files():\n",
    "  if request.method == 'POST': # request object has attribute method, which is a string informing the method used in the request\n",
    "    files = request.files.getlist('fileInput')\n",
    "    for file in files:\n",
    "      file.save(file.filename)\n",
    "    return 'File uploaded successfully'\n",
    "  return '''\n",
    "    <form action=\"\" method=\"POST\" enctype=\"multipart/form-data\">\n",
    "      <input type=\"file\" name=\"fileInput\">\n",
    "      <input type=\"submit\" value=\"Envoyer\">\n",
    "    </form>\n",
    "  '''\n",
    "\n",
    "if __name__ == '__main__':\n",
    "  app.run()"
   ]
  },
  {
   "cell_type": "markdown",
   "id": "b4eec7d5",
   "metadata": {
    "slideshow": {
     "slide_type": "slide"
    }
   },
   "source": [
    "#### File types filtering\n",
    "\n",
    "Il est possible de filtrer les types de fichiers acceptés en ajoutant l'attribut `accept` à la balise `input`.\n",
    "\n",
    "```html\n",
    "<form action=\"\" method=\"POST\" enctype=\"multipart/form-data\">\n",
    "  <input type=\"file\" name=\"fileInput\" accept=\"image/*\">\n",
    "  <input type=\"submit\" value=\"Envoyer\">\n",
    "</form>\n",
    "```\n",
    "\n",
    "Ici, on accepte uniquement les fichiers de type image."
   ]
  },
  {
   "cell_type": "markdown",
   "id": "c66bf2d3",
   "metadata": {
    "slideshow": {
     "slide_type": "slide"
    }
   },
   "source": [
    "#### File Types\n",
    "\n",
    "Il est possible de spécifier les types de fichiers acceptés en utilisant les types MIME (Multipurpose Internet Mail Extensions).\n",
    "\n",
    "[Quelques examples](https://pro.europeana.eu/page/media-formats-mime-types)"
   ]
  },
  {
   "cell_type": "markdown",
   "id": "a04683d4",
   "metadata": {
    "slideshow": {
     "slide_type": "slide"
    }
   },
   "source": [
    "#### File size filtering\n",
    "\n",
    "Il est possible de filtrer la taille des fichiers acceptés en ajoutant l'attribut `size` à la balise `input`.\n",
    "\n",
    "La taille est en octets (bytes).\n",
    "\n",
    "```html\n",
    "<form action=\"\" method=\"POST\" enctype=\"multipart/form-data\">\n",
    "  <input type=\"file\" name=\"fileInput\" size=\"1000000\">\n",
    "  <input type=\"submit\" value=\"Envoyer\">\n",
    "</form>\n",
    "```\n",
    "\n",
    "Ici, on accepte uniquement les fichiers de taille inférieure à 1 Mo."
   ]
  },
  {
   "cell_type": "markdown",
   "id": "8c688c6e",
   "metadata": {
    "slideshow": {
     "slide_type": "slide"
    }
   },
   "source": [
    "# WTF Forms"
   ]
  },
  {
   "cell_type": "markdown",
   "id": "67e1832a",
   "metadata": {
    "slideshow": {
     "slide_type": "fragment"
    }
   },
   "source": [
    "Pour simplifier la création de formulaires, `flask` propose une extension appelée `WTForms`.\n",
    "\n",
    "`WTForms` permet de créer des formulaires en utilisant des classes Python."
   ]
  },
  {
   "cell_type": "markdown",
   "id": "ebafd104",
   "metadata": {
    "slideshow": {
     "slide_type": "slide"
    }
   },
   "source": [
    "## Fonctionnement\n",
    "\n",
    "Pour créer un formulaire avec `WTForms`, on doit créer une classe qui hérite de `flask_wtf.FlaskForm`.\n",
    "\n",
    "Dans cette classe, on définit les champs de saisie en utilisant des attributs de classe.\n",
    "\n",
    "```python\n",
    "from flask_wtf import FlaskForm\n",
    "from wtforms import StringField, SubmitField\n",
    "\n",
    "class MyForm(FlaskForm):\n",
    "    name = StringField('Nom')\n",
    "    lastname = StringField('Prénom')\n",
    "    submit = SubmitField('Envoyer')\n",
    "```\n",
    "\n",
    "Ici, on a créé un formulaire avec deux champs de saisie pour le nom et le prénom et un bouton pour envoyer le formulaire."
   ]
  },
  {
   "cell_type": "markdown",
   "id": "7d5a901a",
   "metadata": {
    "slideshow": {
     "slide_type": "slide"
    }
   },
   "source": [
    "## Les champs de saisie\n",
    "\n",
    "Les champs de saisie sont définis par des classes qui héritent de `wtforms.fields`.\n",
    "\n",
    "Il existe plusieurs types de champs de saisie :\n",
    "- `StringField` : champ de saisie pour du texte\n",
    "- `PasswordField` : champ de saisie pour un mot de passe\n",
    "- `TextAreaField` : champ de saisie pour du texte multiligne\n",
    "- `IntegerField` : champ de saisie pour un entier\n",
    "- `DateField` : champ de saisie pour une date\n",
    "- `SubmitField` : bouton pour envoyer le formulaire\n",
    "- `FileField` : champ de saisie pour un fichier\n",
    "- `SelectField` : champ de saisie pour une liste déroulante"
   ]
  },
  {
   "cell_type": "markdown",
   "id": "c321b56e",
   "metadata": {
    "slideshow": {
     "slide_type": "slide"
    }
   },
   "source": [
    "## Les attributs des champs de saisie\n",
    "\n",
    "Les champs de saisie prennent plusieurs arguments :\n",
    "- `label` : le texte qui s'affiche à côté du champ de saisie\n",
    "- `validators` : les validateurs à appliquer sur le champ de saisie\n",
    "- `default` : la valeur par défaut du champ de saisie\n",
    "- `render_kw` : les attributs HTML à ajouter à la balise `input`\n",
    "- `choices` : les choix possibles pour le champ de saisie (pour `SelectField`)"
   ]
  },
  {
   "cell_type": "markdown",
   "id": "30a96f1e",
   "metadata": {
    "slideshow": {
     "slide_type": "slide"
    }
   },
   "source": [
    "## Les validateurs\n",
    "\n",
    "Les validateurs permettent de valider les données saisies par l'utilisateur.\n",
    "\n",
    "Il existe plusieurs validateurs :\n",
    "- `DataRequired` : le champ de saisie est obligatoire\n",
    "- `Length` : la longueur du champ de saisie\n",
    "- `Email` : le champ de saisie doit être une adresse email\n",
    "- `NumberRange` : le champ de saisie doit être un nombre dans une plage donnée\n",
    "- `Regexp` : le champ de saisie doit correspondre à une expression régulière\n",
    "- `EqualTo` : le champ de saisie doit être égal à un autre champ de saisie\n",
    "- `FileAllowed` : le fichier doit avoir une extension donnée\n",
    "- `FileRequired` : le champ de saisie est obligatoire\n",
    "- `AnyOf` : le champ de saisie doit être dans une liste de valeurs"
   ]
  },
  {
   "cell_type": "markdown",
   "id": "4c0c5433",
   "metadata": {
    "slideshow": {
     "slide_type": "slide"
    }
   },
   "source": [
    "## Créer un formulaire\n",
    "\n",
    "Pour créer un formulaire avec `WTForms`, on doit instancier la classe du formulaire dans la route."
   ]
  },
  {
   "cell_type": "code",
   "execution_count": null,
   "id": "530a0dd4",
   "metadata": {},
   "outputs": [],
   "source": [
    "from wtforms import Form, EmailField, PasswordField, StringField\n",
    "from wtforms.validators import email, DataRequired, equal_to\n",
    "\n",
    "class RegisterForm(FlaskForm):\n",
    "  email = EmailField('Email address', validators=[email(), DataRequired()])\n",
    "  pwd = PasswordField('Password', validators=[DataRequired()])\n",
    "  pwd_confirm = PasswordField('Confirm password', validators=[equal_to(pwd)])"
   ]
  },
  {
   "cell_type": "markdown",
   "id": "e9e46e6b",
   "metadata": {},
   "source": [
    "> **/!\\ pour utiliser le filtre email, il faut l'installer**\n",
    "> ```bash\n",
    "> pip install email-validator\n",
    "> ```"
   ]
  },
  {
   "cell_type": "markdown",
   "id": "56635579",
   "metadata": {
    "slideshow": {
     "slide_type": "slide"
    }
   },
   "source": [
    "## Afficher un formulaire | Python\n",
    "\n",
    "Pour afficher un formulaire dans un template, on doit passer le formulaire en paramètre de la fonction `render_template`."
   ]
  },
  {
   "cell_type": "code",
   "execution_count": null,
   "id": "c590f10b",
   "metadata": {},
   "outputs": [],
   "source": [
    "@app.route('/register', methods=['GET', 'POST'])\n",
    "def register():\n",
    "  form = RegisterForm()\n",
    "  if form.validate():\n",
    "    email = form.email.data\n",
    "    pwd = form.pwd.data\n",
    "    pwd_confirm = form.pwd_confirm.data\n",
    "    return f'Email: {email}, Password: {pwd}, Confirm password: {pwd_confirm}'\n",
    "  return render_template('register.html', form=form)"
   ]
  },
  {
   "cell_type": "markdown",
   "id": "f57047dd",
   "metadata": {
    "slideshow": {
     "slide_type": "slide"
    }
   },
   "source": [
    "Ici, on crée une instance du formulaire `RegisterForm` que l'on stocke dans la variable `form`.\n",
    "\n",
    "La fonction `validate_on_submit` permet de valider les données du formulaire (basé sur les différents `validators`). \n",
    "\n",
    "Si les données sont valides, on récupère les données du formulaire avec l'attribut `data` de chaque champ de saisie. \n",
    "Cette fois on a un object `RegisterFor` qui as des attributs, qui sont les différents champs de saisie. \n",
    "Ce sont des objets aussi, et ils ont un attribut `data` qui contient la valeur saisie par l'utilisateur.\n",
    "\n",
    "Finalemnt on passe le formulaire dans le template `register.html` pour l'afficher (`form=form`)."
   ]
  },
  {
   "cell_type": "markdown",
   "id": "7ebd82e6",
   "metadata": {
    "slideshow": {
     "slide_type": "slide"
    }
   },
   "source": [
    "## Afficher un formulaire | HTML\n",
    "\n",
    "```html\n",
    "<form action=\"\" method=\"POST\">\n",
    "  {{ form.email.label }} {{ form.email }}\n",
    "  {{ form.pwd.label }} {{ form.pwd }}\n",
    "  {{ form.pwd_confirm.label }} {{ form.pwd_confirm }}\n",
    "  {{ form.submit }}\n",
    "</form>\n",
    "```\n",
    "\n",
    "Ici, on affiche les champs de saisie du formulaire en utilisant les attributs de la classe `RegisterForm`."
   ]
  },
  {
   "cell_type": "markdown",
   "id": "26156836",
   "metadata": {
    "slideshow": {
     "slide_type": "slide"
    }
   },
   "source": [
    "## Les erreurs de validation\n",
    "\n",
    "Si les données du formulaire ne sont pas valides, on peut afficher les erreurs de validation en utilisant l'attribut `errors` de chaque champ de saisie.\n",
    "\n",
    "```html\n",
    "<form action=\"\" method=\"POST\">\n",
    "  {{ form.email.label }} {{ form.email }}\n",
    "  {% for error in form.email.errors %}\n",
    "    <p>{{ error }}</p>\n",
    "  {% endfor %}\n",
    "  {{ form.pwd.label }} {{ form.pwd }}\n",
    "  {% for error in form.pwd.errors %}\n",
    "    <p>{{ error }}</p>\n",
    "  {% endfor %}\n",
    "  {{ form.pwd_confirm.label }} {{ form.pwd_confirm }}\n",
    "  {% for error in form.pwd_confirm.errors %}\n",
    "    <p>{{ error }}</p>\n",
    "  {% endfor %}\n",
    "  {{ form.submit }}\n",
    "</form>\n",
    "```\n",
    "\n",
    "Ici, on affiche les erreurs de validation pour chaque champ de saisie."
   ]
  },
  {
   "cell_type": "markdown",
   "id": "d9e40b64",
   "metadata": {
    "slideshow": {
     "slide_type": "slide"
    }
   },
   "source": [
    "## Les messages flash\n",
    "\n",
    "Pour afficher des messages flash, on utilise l'objet `flash` de `flask`."
   ]
  },
  {
   "cell_type": "code",
   "execution_count": null,
   "id": "6428a57b",
   "metadata": {},
   "outputs": [],
   "source": [
    "from flask import flash\n",
    "\n",
    "@app.route('/register', methods=['GET', 'POST'])\n",
    "def register():\n",
    "  form = RegisterForm()\n",
    "  if form.validate_on_submit():\n",
    "    email = form.email.data\n",
    "    pwd = form.pwd.data\n",
    "    pwd_confirm = form.pwd_confirm.data\n",
    "    flash('Inscription réussie', 'success')\n",
    "    return f'Email: {email}, Password: {pwd}, Confirm password: {pwd_confirm}'\n",
    "  return render_template('register.html', form=form)"
   ]
  },
  {
   "cell_type": "markdown",
   "id": "7ca2aec2",
   "metadata": {},
   "source": [
    "Ici, on affiche un message flash avec le texte `Inscription réussie` et le type `success`."
   ]
  },
  {
   "cell_type": "markdown",
   "id": "729a6ffc",
   "metadata": {
    "slideshow": {
     "slide_type": "slide"
    }
   },
   "source": [
    "Pour afficher les messages flash dans le template, on utilise la fonction `get_flashed_messages`.\n",
    "\n",
    "```html\n",
    "{% with messages = get_flashed_messages() %}\n",
    "  {% if messages %}\n",
    "    <ul>\n",
    "      {% for message in messages %}\n",
    "        <li>{{ message }}</li>\n",
    "      {% endfor %}\n",
    "    </ul>\n",
    "  {% endif %}\n",
    "{% endwith %}\n",
    "```\n",
    "\n",
    "Ici, on affiche les messages flash dans une liste."
   ]
  },
  {
   "cell_type": "markdown",
   "id": "0217afc8",
   "metadata": {
    "slideshow": {
     "slide_type": "slide"
    }
   },
   "source": [
    "## Macros Jinja\n",
    "\n",
    "Pour éviter de répéter le code HTML, on peut utiliser les macros Jinja.\n",
    "Nous allons ici créer une macro pour afficher les champs de saisie d'un formulaire.\n",
    "\n",
    "```html\n",
    "{% macro displayInput(field, showErrors=\"true\") %}\n",
    "  <div class=\"form-group\">\n",
    "    {{ field.label }}\n",
    "    {{ field(class=\"form-control\", **kwargs)}}\n",
    "    \n",
    "    {% if showErrors and field.errors %}\n",
    "      <div class=\"alert alert-danger\">\n",
    "        {% for error in field.errors %}\n",
    "          <span class=\"help-inline\">{{ error }}</span>\n",
    "        {% endfor %}\n",
    "      </div>\n",
    "    {% endif %}\n",
    "  </div>\n",
    "{% endmacro %}\n",
    "```"
   ]
  },
  {
   "cell_type": "markdown",
   "id": "c7c7ba39",
   "metadata": {
    "slideshow": {
     "slide_type": "fragment"
    }
   },
   "source": [
    "Ici, on crée une macro `displayInput` qui prend deux paramètres :\n",
    "- `field` : le champ de saisie à afficher\n",
    "- `showErrors` : afficher les erreurs de validation (boolean)"
   ]
  },
  {
   "cell_type": "markdown",
   "id": "e0f73712",
   "metadata": {
    "slideshow": {
     "slide_type": "slide"
    }
   },
   "source": [
    "## Utiliser une macro\n",
    "\n",
    "Pour utiliser une macro, on utilise la balise `import`.\n",
    "\n",
    "```html\n",
    "{% import 'macros.html' as macros %}\n",
    "\n",
    "<form action=\"\" method=\"POST\">\n",
    "  {{ macros.displayInput(form.email) }}\n",
    "  {{ macros.displayInput(form.pwd) }}\n",
    "  {{ macros.displayInput(form.pwd_confirm) }}\n",
    "  {{ form.submit }}\n",
    "</form>\n",
    "```"
   ]
  }
 ],
 "metadata": {
  "celltoolbar": "Slideshow",
  "kernelspec": {
   "display_name": "Python 3 (ipykernel)",
   "language": "python",
   "name": "python3"
  },
  "language_info": {
   "codemirror_mode": {
    "name": "ipython",
    "version": 3
   },
   "file_extension": ".py",
   "mimetype": "text/x-python",
   "name": "python",
   "nbconvert_exporter": "python",
   "pygments_lexer": "ipython3",
   "version": "3.10.13"
  }
 },
 "nbformat": 4,
 "nbformat_minor": 5
}
