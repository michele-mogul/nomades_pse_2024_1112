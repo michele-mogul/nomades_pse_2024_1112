{
 "cells": [
  {
   "cell_type": "markdown",
   "id": "83e01e82",
   "metadata": {
    "slideshow": {
     "slide_type": "slide"
    }
   },
   "source": [
    "# Python Software Engineer\n",
    "## Welcome to the course!\n",
    "\n",
    "### Antonio Pisanello | Winter 2023_1112 - Nomades"
   ]
  },
  {
   "cell_type": "markdown",
   "id": "9d99275e",
   "metadata": {
    "slideshow": {
     "slide_type": "slide"
    }
   },
   "source": [
    "# Présentation du cours\n",
    "\n",
    "- semaine 1: Python, les bases\n",
    "- semaine 2: Python, POO\n",
    "- semaine 3: backend avec Flask\n",
    "- semaine 4: NumPy & Pandas"
   ]
  },
  {
   "cell_type": "markdown",
   "id": "f0f9071e",
   "metadata": {
    "slideshow": {
     "slide_type": "slide"
    }
   },
   "source": [
    "# Présentation\n",
    "\n",
    "- Antonio Pisanello\n",
    "- Étudiant\n",
    "- Freelance depuis 2ans\n",
    "- Programmation et Sport\n",
    "- [Contactez moi par e-mail](mailto:antonio@apisanello.dev)\n",
    "- À vous :)"
   ]
  },
  {
   "cell_type": "markdown",
   "id": "f094880b",
   "metadata": {
    "slideshow": {
     "slide_type": "slide"
    }
   },
   "source": [
    "# Questions ?"
   ]
  },
  {
   "cell_type": "markdown",
   "id": "9ff523d2",
   "metadata": {},
   "source": [
    "# Bon Cours :)"
   ]
  }
 ],
 "metadata": {
  "celltoolbar": "Slideshow",
  "kernelspec": {
   "display_name": "Python 3 (ipykernel)",
   "language": "python",
   "name": "python3"
  },
  "language_info": {
   "codemirror_mode": {
    "name": "ipython",
    "version": 3
   },
   "file_extension": ".py",
   "mimetype": "text/x-python",
   "name": "python",
   "nbconvert_exporter": "python",
   "pygments_lexer": "ipython3",
   "version": "3.10.13"
  }
 },
 "nbformat": 4,
 "nbformat_minor": 5
}
