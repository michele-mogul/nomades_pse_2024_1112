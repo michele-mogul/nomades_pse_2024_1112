{
 "cells": [
  {
   "cell_type": "markdown",
   "metadata": {},
   "source": [
    "# Jupyter Notebooks\n",
    "\n",
    "Jupyter Notebooks provide an interactive environment for writing and running Python code. They consist of cells that can either contain **code** or **Markdown**. This format allows for the integration of code execution, visualizations, and explanatory text all in one document."
   ]
  },
  {
   "cell_type": "markdown",
   "metadata": {},
   "source": [
    "## Cells in a Jupyter Notebook\n",
    "\n",
    "A Jupyter Notebook is made up of two types of cells:"
   ]
  },
  {
   "cell_type": "markdown",
   "metadata": {},
   "source": [
    "### Code Cells\n",
    "\n",
    "Code cells contain executable Python code. These cells are the core of the notebook, allowing you to write and run Python code interactively.\n",
    "\n",
    "#### Example of a Code Cell: \n",
    "```python\n",
    "# A simple code cell\n",
    "print(\"Hello, World!\")\n",
    "```\n",
    "\n",
    "- When you run a code cell, the code inside it is executed in the **kernel** (the environment running your Python code).\n",
    "- The result of the code is displayed directly below the code cell.\n",
    "- Code cells can be run independently or in sequence, and they retain the state of variables and imports between runs."
   ]
  },
  {
   "cell_type": "markdown",
   "metadata": {},
   "source": [
    "#### Key Rule:\n",
    "- **Last Statement Output**: The result of the last statement in a code cell is automatically displayed (e.g., returning a value). If you need to display multiple results, use `print()`."
   ]
  },
  {
   "cell_type": "markdown",
   "metadata": {},
   "source": [
    "### 1.2 Markdown Cells\n",
    "\n",
    "Markdown cells allow you to write formatted text, including headings, lists, links, images, and more. These cells are used for explanations, documentation, and organizing your code into sections.\n",
    "\n",
    "#### Example of a Markdown Cell:\n",
    "```markdown\n",
    "# This is a Heading\n",
    "This is a paragraph explaining the code above.\n",
    "\n",
    "- Point 1\n",
    "- Point 2\n",
    "\n",
    "| Column 1 | Column 2 |\n",
    "| -------- | -------- |\n",
    "| Value 1  | Value 2  |\n",
    "| Value 3  | Value 4  |\n",
    "\n",
    "![Alt text](./imgs/md.png)\n",
    "[Link text](https://www.example.com)\n",
    "\n",
    "`this` is highlighted\n",
    "**this is bold**\n",
    "*this is italic*\n",
    "~~Strikethrough text~~\n",
    "\n",
    "> this is a quote\n",
    "\n",
    "$$ \\frac{d}{dx} f(x) = \\lim_{h \\to 0} \\frac{f(x+h) - f(x)}{h} $$\n",
    "```\n",
    "\n",
    "- Markdown cells are rendered as rich text when the notebook is viewed or when you run the cell."
   ]
  },
  {
   "cell_type": "markdown",
   "metadata": {},
   "source": [
    "# This is a Heading\n",
    "This is a paragraph explaining the code above.\n",
    "\n",
    "- Point 1\n",
    "- Point 2\n",
    "\n",
    "| Column 1 | Column 2 |\n",
    "| -------- | -------- |\n",
    "| Value 1  | Value 2  |\n",
    "| Value 3  | Value 4  |\n",
    "\n",
    "![Alt text](./imgs/md.png)\n",
    "[Link text](https://www.example.com)\n",
    "\n",
    "`this` is highlighted\n",
    "**this is bold**\n",
    "*this is italic*\n",
    "~~Strikethrough text~~\n",
    "\n",
    "> this is a quote\n",
    "\n",
    "$$ \\frac{d}{dx} f(x) = \\lim_{h \\to 0} \\frac{f(x+h) - f(x)}{h} $$"
   ]
  },
  {
   "cell_type": "markdown",
   "metadata": {},
   "source": [
    "### Example: Combining Code and Markdown Cells\n",
    "\n",
    "A typical Jupyter Notebook might have sections like this:\n",
    "\n",
    "1. **Markdown Cell**: Explains the problem or introduces the task.\n",
    "2. **Code Cell**: Contains the Python code that solves the problem.\n",
    "3. **Markdown Cell**: Summarizes the results or provides further explanation.\n",
    "\n",
    "---"
   ]
  },
  {
   "cell_type": "markdown",
   "metadata": {},
   "source": [
    "## Technical Rules and Behavior"
   ]
  },
  {
   "cell_type": "markdown",
   "metadata": {},
   "source": [
    "### 2.1 Kernel\n",
    "\n",
    "The **kernel** is the computational engine that executes the Python code in the notebook. It retains the state of the environment, such as variables, imports, and functions.\n",
    "\n",
    "- **State Persistence**: Once you run a code cell, the kernel maintains its state until the notebook is restarted or the kernel is explicitly interrupted. This allows you to refer to variables defined in previous cells."
   ]
  },
  {
   "cell_type": "markdown",
   "metadata": {},
   "source": [
    "### 2.2 Cell Execution Order\n",
    "\n",
    "Cells can be run in any order. However, the output will depend on the execution sequence:\n",
    "- If a variable is defined in one cell, and you attempt to use it in a later cell, the kernel must have previously executed the cell defining the variable for it to be recognized."
   ]
  },
  {
   "cell_type": "markdown",
   "metadata": {},
   "source": [
    "### 2.3 Output Display\n",
    "\n",
    "- **Last Statement**: The result of the last statement in a code cell is automatically displayed without needing a `print()` function.\n",
    "  \n",
    "#### Example:\n",
    "```python\n",
    "# This will display the result\n",
    "1 + 2  # Output will be 3\n",
    "```"
   ]
  },
  {
   "cell_type": "code",
   "execution_count": null,
   "metadata": {},
   "outputs": [],
   "source": [
    "1 + 2"
   ]
  },
  {
   "cell_type": "markdown",
   "metadata": {},
   "source": [
    "However, if you want to display multiple results in a cell, you must use `print()`.\n",
    "\n",
    "#### Example:\n",
    "```python\n",
    "# This will print both results\n",
    "print(1 + 2)\n",
    "print(3 * 4)\n",
    "```"
   ]
  },
  {
   "cell_type": "markdown",
   "metadata": {},
   "source": [
    "### 2.4 Kernel Settings\n",
    "\n",
    "When you start a Jupyter Notebook, the kernel is set to use the default Python environment. However, you can configure the kernel settings, such as switching to a different Python environment or installing additional packages."
   ]
  },
  {
   "cell_type": "markdown",
   "metadata": {},
   "source": [
    "#### Common Kernel Actions:\n",
    "- **Interrupt Kernel**: Stops code execution.\n",
    "- **Restart Kernel**: Resets the kernel and clears all variables and imports.\n",
    "- **Switch Kernel**: Allows you to choose a different environment or version of Python for your notebook."
   ]
  },
  {
   "cell_type": "markdown",
   "metadata": {},
   "source": [
    "### 2.5 Saving and Sharing\n",
    "\n",
    "Jupyter Notebooks are saved with the `.ipynb` extension. The notebook can be shared or exported as a Python script, HTML, or PDF for easy sharing and presentation. with the command `jupyter nbconvert`"
   ]
  },
  {
   "cell_type": "markdown",
   "metadata": {},
   "source": [
    "## Useful shortcuts\n",
    "\n",
    "### 3.1 Keyboard Shortcuts\n",
    "\n",
    "- **Shift + Enter**: Runs the current cell."
   ]
  },
  {
   "cell_type": "markdown",
   "metadata": {},
   "source": [
    "## Conclusion\n",
    "\n",
    "In this notebook, we introduced how to structure a Jupyter Notebook with Markdown and code cells.\n",
    "\n",
    "---\n",
    "\n",
    "## 4. Summary\n",
    "\n",
    "- **Markdown Cells**: Used for rich text and documentation.\n",
    "- **Code Cells**: Contain Python code, which is executed in the kernel.\n",
    "- **Kernel**: The environment where the code is executed and the state is retained.\n",
    "- **Output**: The last expression in a code cell is displayed automatically. Use `print()` for multiple outputs.\n",
    "- **File Format**: Jupyter Notebooks are saved as `.ipynb` files and can be shared or exported."
   ]
  }
 ],
 "metadata": {
  "kernelspec": {
   "display_name": "base",
   "language": "python",
   "name": "python3"
  },
  "language_info": {
   "name": "python",
   "version": "3.10.14"
  }
 },
 "nbformat": 4,
 "nbformat_minor": 2
}
