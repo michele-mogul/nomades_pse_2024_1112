{
 "cells": [
  {
   "cell_type": "markdown",
   "id": "f7368d70",
   "metadata": {
    "slideshow": {
     "slide_type": "slide"
    }
   },
   "source": [
    "# Docker"
   ]
  },
  {
   "cell_type": "markdown",
   "id": "5d4283f3",
   "metadata": {
    "slideshow": {
     "slide_type": "fragment"
    }
   },
   "source": [
    "Docker est construit sur la technologie des conteneurs Linux (LXC) qui permet de créer des conteneurs légers et portables pour les applications."
   ]
  },
  {
   "cell_type": "markdown",
   "id": "68c652db",
   "metadata": {
    "slideshow": {
     "slide_type": "slide"
    }
   },
   "source": [
    "## Conteneurs\n",
    "\n",
    "Un conteneur est un processus isolé qui s'exécute sur un système hôte. Il est isolé du système hôte et des autres conteneurs. Il est léger et portable, car il contient tout ce dont il a besoin pour s'exécuter. Il est portable car il peut être exécuté sur n'importe quel système hôte qui prend en charge les conteneurs."
   ]
  },
  {
   "cell_type": "markdown",
   "id": "673f74da",
   "metadata": {
    "slideshow": {
     "slide_type": "slide"
    }
   },
   "source": [
    "## Conteneurs vs Machines virtuelles\n",
    "\n",
    "Les machines virtuelles (VM) sont des machines virtuelles qui s'exécutent sur un hyperviseur (Virtualbox). Chaque VM a son propre système d'exploitation et ses propres ressources (RAM, HDD, Network card, Graphical Card, ...). Les conteneurs partagent le même noyau et les mêmes ressources que le système hôte. Les conteneurs sont plus légers et plus rapides que les VM.\n",
    "\n",
    "Une machine virtuelle simule un ordinateur complet, tandis qu'un conteneur simule un processus."
   ]
  },
  {
   "cell_type": "markdown",
   "id": "a5fa7718",
   "metadata": {
    "slideshow": {
     "slide_type": "slide"
    }
   },
   "source": [
    "## Docker\n",
    "\n",
    "Docker (2013) est un outil qui permet de créer, de déployer et de gérer des conteneurs. Il est basé sur la technologie des conteneurs Linux (LXC, 2008). Il permet de créer des conteneurs légers et portables pour les applications."
   ]
  },
  {
   "cell_type": "markdown",
   "id": "8f417b0a",
   "metadata": {
    "slideshow": {
     "slide_type": "slide"
    }
   },
   "source": [
    "## Dockerfile\n",
    "\n",
    "Un Dockerfile est un fichier texte qui contient les instructions pour créer une image Docker. Il contient les commandes pour installer les dépendances, copier les fichiers, définir les variables d'environnement et lancer le conteneur.\n",
    "\n",
    "Vous pouvez voir le dokcerfile comme la recette de cuisine pour créer un conteneur Docker."
   ]
  },
  {
   "cell_type": "markdown",
   "id": "846478c4",
   "metadata": {
    "slideshow": {
     "slide_type": "slide"
    }
   },
   "source": [
    "### Exemple de Dockerfile\n",
    "\n",
    "```dockerfile\n",
    "# For this container we want to use an ubuntu machine; \n",
    "# The same as the one used for the virtualbox virtual machine\n",
    "FROM ubuntu:22.04\n",
    "\n",
    "# We install some dependencies such as python and pip\n",
    "RUN apt update -y \\\n",
    "  && apt install software-properties-common -y \\\n",
    "  && add-apt-repository ppa:deadsnakes/ppa \\\n",
    "  && apt install python3.10 pip -y\n",
    "\n",
    "# We create a working directory (main directory inside the container)\n",
    "WORKDIR /app\n",
    "\n",
    "# We copy the folder that containes our app inside the container\n",
    "COPY ./booksAPI /app/booksAPI\n",
    "\n",
    "# We expose the port 5050 \n",
    "# -> this mean we want to use port 5050 of the container outside the container\n",
    "# Here the port 5050 is the port used by flask\n",
    "EXPOSE 5050\n",
    "\n",
    "# We install the requirements for python\n",
    "# The requirements.txt contains all the dependencies we need to run the app properly\n",
    "RUN pip install -r booksAPI/requirements.txt\n",
    "\n",
    "# We run the app, as the default command\n",
    "CMD [\"python3.10\", \"booksAPI/app.py\"]\n",
    "```"
   ]
  },
  {
   "cell_type": "markdown",
   "id": "b19d6578",
   "metadata": {
    "slideshow": {
     "slide_type": "slide"
    }
   },
   "source": [
    "- **FROM**: permet de spécifier l'image de base à utiliser pour le conteneur, ici `ubuntu:22.04` (du `dockerHub`).\n",
    "- **RUN**: permet d'exécuter des commandes dans le conteneur, ici on installe python et pip.\n",
    "- **WORKDIR**: permet de définir le répertoire de travail du conteneur, ou les commandes suivantes seront exécutées.\n",
    "- **COPY**: permet de copier des fichiers ou des dossiers du système hôte vers le conteneur.\n",
    "- **EXPOSE**: permet d'exposer un port du conteneur à l'extérieur, ici le port 5050, il faudra spécifier le port de l'hôte lors du lancement du conteneur.\n",
    "- **CMD**: permet de spécifier la commande par défaut à exécuter lors du lancement du conteneur."
   ]
  },
  {
   "cell_type": "markdown",
   "id": "aa97d4c6",
   "metadata": {
    "slideshow": {
     "slide_type": "slide"
    }
   },
   "source": [
    "## Images\n",
    "\n",
    "Une image Docker est un fichier binaire qui contient le système d'exploitation (kernel), les dépendances et les fichiers nécessaires pour exécuter une application. Elle est créée à partir d'un Dockerfile."
   ]
  },
  {
   "cell_type": "markdown",
   "id": "a6b03812",
   "metadata": {
    "slideshow": {
     "slide_type": "slide"
    }
   },
   "source": [
    "## Conteneurs\n",
    "\n",
    "Un conteneur Docker est une instance d'une image Docker. Il s'exécute sur un système hôte et est isolé du système hôte et des autres conteneurs. Il est léger et portable, car il contient tout ce dont il a besoin pour s'exécuter."
   ]
  },
  {
   "cell_type": "markdown",
   "id": "e4a696fc",
   "metadata": {
    "slideshow": {
     "slide_type": "slide"
    }
   },
   "source": [
    "## creation d'un conteneur\n",
    "\n",
    "Pour créer un conteneur Docker, vous devez d'abord créer une image Docker à partir d'un Dockerfile. Ensuite, vous pouvez exécuter le conteneur en utilisant la commande `docker run`.\n",
    "\n",
    "```bash\n",
    "docker build -t myimage .\n",
    "docker run myimage\n",
    "```"
   ]
  },
  {
   "cell_type": "markdown",
   "id": "d87ded30",
   "metadata": {
    "slideshow": {
     "slide_type": "slide"
    }
   },
   "source": [
    "## Docker Hub\n",
    "\n",
    "Docker Hub est un registre public qui contient des milliers d'images Docker prêtes à l'emploi. Vous pouvez rechercher des images, les télécharger et les exécuter sur votre système hôte."
   ]
  },
  {
   "cell_type": "markdown",
   "id": "b81fa141",
   "metadata": {
    "slideshow": {
     "slide_type": "slide"
    }
   },
   "source": [
    "## Commandes Docker\n",
    "\n",
    "- `docker build` : Construire une image Docker à partir d'un Dockerfile.\n",
    "- `docker run` : Exécuter un conteneur Docker à partir d'une image Docker.\n",
    "- `docker ps` : Afficher les conteneurs en cours d'exécution.\n",
    "- `docker images` : Afficher les images Docker.\n",
    "- `docker pull` : Télécharger une image Docker depuis un registre.\n",
    "- `docker push` : Pousser une image Docker vers un registre.\n",
    "- `docker exec` : Exécuter une commande dans un conteneur en cours d'exécution.\n",
    "- `docker stop` : Arrêter un conteneur en cours d'exécution.\n",
    "- `docker rm` : Supprimer un conteneur.\n",
    "- `docker rmi` : Supprimer une image.\n",
    "- `docker login` : Se connecter à un registre Docker.\n",
    "- `docker logout` : Se déconnecter d'un registre Docker.\n",
    "- `docker tag` : Étiqueter une image Docker.\n",
    "- `docker commit` : Créer une nouvelle image à partir d'un conteneur en cours d'exécution.\n",
    "- `docker save` : Enregistrer une image Docker dans un fichier tar.\n",
    "- `docker load` : Charger une image Docker à partir d'un fichier tar.\n",
    "- `docker inspect` : Afficher les informations sur un conteneur ou une image Docker.\n",
    "- "
   ]
  }
 ],
 "metadata": {
  "celltoolbar": "Slideshow",
  "kernelspec": {
   "display_name": "Python 3 (ipykernel)",
   "language": "python",
   "name": "python3"
  },
  "language_info": {
   "codemirror_mode": {
    "name": "ipython",
    "version": 3
   },
   "file_extension": ".py",
   "mimetype": "text/x-python",
   "name": "python",
   "nbconvert_exporter": "python",
   "pygments_lexer": "ipython3",
   "version": "3.10.14"
  }
 },
 "nbformat": 4,
 "nbformat_minor": 5
}
