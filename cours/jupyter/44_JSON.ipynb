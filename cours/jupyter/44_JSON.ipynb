{
 "cells": [
  {
   "cell_type": "markdown",
   "metadata": {},
   "source": [
    "# JSON\n",
    "\n",
    "JSON (JavaScript Object Notation) is a lightweight data-interchange format that uses human-readable text to store and transmit data as key-value pairs or arrays. It’s commonly used for data exchange between servers and web applications due to its simplicity and compatibility with most programming languages.\n",
    "\n",
    "JSON is often used in web development to exchange data between different parts of a web application, such as the server and the client-side JavaScript code (Python in our case)."
   ]
  },
  {
   "cell_type": "markdown",
   "metadata": {},
   "source": [
    "## JSON syntax\n",
    "\n",
    "SON syntax is based on a simple set of rules to ensure valid formatting:\n",
    "  1. Data is represented as key-value pairs:\n",
    "     - Each key is a string (enclosed in double quotes \"key\") and must be followed by a colon :.\n",
    "     - The value can be a string, number, object, array, boolean (true or false), or null.\n",
    "  2. Objects are collections of key-value pairs enclosed in curly braces { }:\n",
    "     - Each key-value pair inside an object is separated by a comma ,.\n",
    "     - For example: { \"name\": \"Alice\", \"age\": 25 }\n",
    "  3. Arrays are ordered lists of values enclosed in square brackets [ ]:\n",
    "     - Values in arrays are separated by commas ,.\n",
    "     - For example: [ \"apple\", \"banana\", \"cherry\" ]\n",
    "  4. Strings must be in double quotes \"\":\n",
    "     - Strings cannot use single quotes.\n",
    "     - Escape characters (e.g., \\n, \\t, \\\") are allowed for special characters.\n",
    "  5. Numbers can be integers or floating-point without quotes\n",
    "     - Examples: 42, 3.14, -15\n",
    "  6. No trailing commas are allowed after the last item in an object or array.\n"
   ]
  },
  {
   "cell_type": "markdown",
   "metadata": {},
   "source": [
    "```json\n",
    "{\n",
    "  \"name\": \"Alice\",\n",
    "  \"age\": 25,\n",
    "  \"isStudent\": false,\n",
    "  \"skills\": [\"Python\", \"JavaScript\"],\n",
    "  \"address\": {\n",
    "    \"city\": \"New York\",\n",
    "    \"zip\": \"10001\"\n",
    "  }\n",
    "}\n",
    "```"
   ]
  },
  {
   "cell_type": "markdown",
   "metadata": {},
   "source": [
    "## JSON in Python\n",
    "\n",
    "JSON can be represented in Python using the json module.\n",
    "\n",
    "The json module provides functions for serializing (`load`) and deserializing (`dump`) JSON data, making it easy to work with JSON in Python."
   ]
  },
  {
   "cell_type": "code",
   "execution_count": null,
   "metadata": {},
   "outputs": [
    {
     "name": "stdout",
     "output_type": "stream",
     "text": [
      "{'name': 'Alice', 'age': 25, 'isStudent': False, 'skills': ['Python', 'JavaScript'], 'address': {'city': 'New York', 'zip': '10001'}} <class 'dict'>\n"
     ]
    }
   ],
   "source": [
    "import json\n",
    "\n",
    "data = {\n",
    "  \"name\": \"Alice\",\n",
    "  \"age\": 25,\n",
    "  \"isStudent\": False,\n",
    "  \"skills\": [\"Python\", \"JavaScript\"],\n",
    "  \"address\": {\n",
    "    \"city\": \"New York\",\n",
    "    \"zip\": \"10001\"\n",
    "  }\n",
    "}\n",
    "\n",
    "with open(\"data/data.json\", \"w\") as f:\n",
    "  json.dump(data, f, indent=2)\n",
    "\n",
    "with open(\"data/data.json\", \"r\") as f:\n",
    "  data = json.load(f)\n",
    "\n",
    "print(data, type(data))"
   ]
  },
  {
   "cell_type": "markdown",
   "metadata": {},
   "source": [
    "## Python json functions\n",
    "### json.load()\n",
    "\n",
    "json.load() is used to read JSON data from a file. It returns a Python object representing the JSON data.\n",
    "\n",
    "### json.loads()\n",
    "\n",
    "json.loads() is used to read JSON data from a string. It returns a Python object representing the JSON data."
   ]
  },
  {
   "cell_type": "markdown",
   "metadata": {},
   "source": [
    "## Python json functions\n",
    "### json.dump()\n",
    "\n",
    "json.dump() is used to write a Python object to a file in JSON format. It serializes the Python object and writes it to the specified file.\n",
    "\n",
    "### json.dumps()\n",
    "\n",
    "json.dumps() is used to convert a Python object into a JSON-formatted string. It does not write to a file, but instead returns the serialized JSON as a string."
   ]
  },
  {
   "cell_type": "code",
   "execution_count": null,
   "metadata": {},
   "outputs": [],
   "source": []
  }
 ],
 "metadata": {
  "kernelspec": {
   "display_name": "base",
   "language": "python",
   "name": "python3"
  },
  "language_info": {
   "codemirror_mode": {
    "name": "ipython",
    "version": 3
   },
   "file_extension": ".py",
   "mimetype": "text/x-python",
   "name": "python",
   "nbconvert_exporter": "python",
   "pygments_lexer": "ipython3",
   "version": "3.10.14"
  }
 },
 "nbformat": 4,
 "nbformat_minor": 2
}
