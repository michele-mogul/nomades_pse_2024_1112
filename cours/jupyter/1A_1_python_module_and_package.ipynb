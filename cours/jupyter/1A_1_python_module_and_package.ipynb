{
 "cells": [
  {
   "cell_type": "markdown",
   "id": "a9d9ed17",
   "metadata": {
    "slideshow": {
     "slide_type": "slide"
    }
   },
   "source": [
    "# Python Module and Packages"
   ]
  },
  {
   "cell_type": "markdown",
   "id": "37cd2225",
   "metadata": {
    "slideshow": {
     "slide_type": "slide"
    }
   },
   "source": [
    "## Python - Modules\n",
    "\n",
    "Plus notre application va grossir, plus il va être difficile de maintenir le code. Pour cela, il est possible de découper le code en plusieurs fichiers. Chaque fichier est appelé un module. Un module peut contenir des fonctions, des classes, des variables, etc. Les modules permettent de mieux organiser notre code. Il est possible de créer nos propres modules ou d'utiliser des modules existants (math, random, etc..)."
   ]
  },
  {
   "cell_type": "markdown",
   "id": "f2118b22",
   "metadata": {
    "slideshow": {
     "slide_type": "slide"
    }
   },
   "source": [
    "### Créer un module\n",
    "\n",
    "Pour créer un module, il suffit de créer un fichier avec l'extension .py. Par exemple, nous allons créer un fichier nommé `callee.py` avec le contenu suivant:\n",
    "\n",
    "```python\n",
    "def say_hello():\n",
    "    print(\"Hello from the callee\")\n",
    "```\n",
    "\n",
    "Ici, nous avons créé un module nommé `callee` qui contient une fonction `say_hello`."
   ]
  },
  {
   "cell_type": "markdown",
   "id": "3a8ac84d",
   "metadata": {
    "slideshow": {
     "slide_type": "slide"
    }
   },
   "source": [
    "### Utiliser un module\n",
    "\n",
    "Pour utiliser un module, il faut l'importer. Pour cela, nous utilisons le mot clé `import` suivi du nom du module. Par exemple, pour importer le module `callee` créé précédemment, il faut écrire:\n",
    "\n",
    "```python\n",
    "import mymodule\n",
    "```\n",
    "\n",
    "> **Note:** Le module doit être dans le même répertoire que le fichier qui l'importe."
   ]
  },
  {
   "cell_type": "markdown",
   "id": "03db94e1",
   "metadata": {
    "slideshow": {
     "slide_type": "slide"
    }
   },
   "source": [
    "#### Utiliser un modules dans differents niveau d'arborescence\n",
    "\n",
    "Si le module est dans un répertoire différent, il faut préciser le chemin relatif du module dans le dossier `sys.path` de python. \n",
    "\n",
    "```python\n",
    "import sys\n",
    "sys.path.append(\"path/to/module\")\n",
    "\n",
    "import callee\n",
    "```"
   ]
  },
  {
   "cell_type": "markdown",
   "id": "9cf0ee3b",
   "metadata": {
    "slideshow": {
     "slide_type": "slide"
    }
   },
   "source": [
    "# Exemples"
   ]
  },
  {
   "cell_type": "markdown",
   "id": "916a4327",
   "metadata": {
    "slideshow": {
     "slide_type": "fragment"
    }
   },
   "source": [
    "> **Note**: Si les fichiers sont dans le même répertoire, il n'est pas nécessaire de préciser le chemin relatif."
   ]
  },
  {
   "cell_type": "markdown",
   "id": "45db4917",
   "metadata": {
    "slideshow": {
     "slide_type": "slide"
    }
   },
   "source": [
    "## Modules - from ... import\n",
    "\n",
    "Il est possible d'importer une fonction ou une variable d'un module. Pour cela, il faut utiliser le mot clé `from` suivi du nom du module, du mot clé `import` et du nom de la fonction ou de la variable. Ces imports sont appelés des imports explicites.\n",
    "\n",
    "Les imports explicites permettent d'importer uniquement les fonctions ou les variables dont nous avons besoin. Cela permet d'éviter d'importer tout le module et donc de réduire la consommation de mémoire."
   ]
  },
  {
   "cell_type": "markdown",
   "id": "eda0ef18",
   "metadata": {
    "slideshow": {
     "slide_type": "slide"
    }
   },
   "source": [
    "# Python - packages\n",
    "\n",
    "Les packages permettent de regrouper des modules. Un package est un répertoire qui contient un fichier nommé `__init__.py`. Ce fichier est vide, mais il est obligatoire pour que le répertoire soit considéré comme un package."
   ]
  },
  {
   "cell_type": "markdown",
   "id": "6784c85d",
   "metadata": {
    "slideshow": {
     "slide_type": "slide"
    }
   },
   "source": [
    "![Package](./imgs/packages-in-python.png)\n",
    "[Source](https://www.programiz.com/python-programming/package)"
   ]
  },
  {
   "cell_type": "markdown",
   "id": "722e5d77",
   "metadata": {
    "slideshow": {
     "slide_type": "slide"
    }
   },
   "source": [
    "## Le fichier __init__.py\n",
    "\n",
    "Le fichier `__init__.py` peut contenir du code. **Ce code est exécuté lorsque le package est importé**. Par exemple, si nous avons le package `mypackage` qui contient le fichier `__init__.py` avec le contenu suivant:\n",
    "\n",
    "```python\n",
    "print(\"Hello from the package\")\n",
    "```\n",
    "\n",
    "Lorsque nous importons le package `mypackage`, le message `Hello from the package` est affiché."
   ]
  },
  {
   "cell_type": "markdown",
   "id": "22d870a4",
   "metadata": {
    "slideshow": {
     "slide_type": "slide"
    }
   },
   "source": [
    "## Importer un module d'un package\n",
    "\n",
    "En python nous pouvons importer un package en utilisant l'opérateur `.`. Par exemple, dans la figure ci-dessus, si nous voulons impoter le module `start` il faudre cet import :\n",
    "\n",
    "```python\n",
    "import Game.Level.start\n",
    "```"
   ]
  },
  {
   "cell_type": "markdown",
   "id": "e3175f41",
   "metadata": {
    "slideshow": {
     "slide_type": "fragment"
    }
   },
   "source": [
    "En admettant que le module `start` contienne une fonction `select_difficulty()`, pour appeler cette fonction, il faut écrire:\n",
    "\n",
    "```python\n",
    "Game.Level.start.select_difficulty(2)\n",
    "```"
   ]
  },
  {
   "cell_type": "markdown",
   "id": "41eb0a14",
   "metadata": {
    "slideshow": {
     "slide_type": "slide"
    }
   },
   "source": [
    "### Importer un module d'un package avec from ... import\n",
    "\n",
    "Pour éviter d'avoir a réecrire tout le prefix du package (chemin du package), il est possible d'utiliser la syntaxe `from ... import`. Par exemple, pour importer la fonction `select_difficulty()` du module `start`, il faut écrire:\n",
    "\n",
    "```python\n",
    "from Game.Level.start import select_difficulty\n",
    "```\n",
    "\n",
    "On pourra ensuite appeler la fonction `select_difficulty()` directement:\n",
    "\n",
    "```python\n",
    "select_difficulty(2)\n",
    "```"
   ]
  },
  {
   "cell_type": "markdown",
   "id": "0915fad9",
   "metadata": {
    "slideshow": {
     "slide_type": "slide"
    }
   },
   "source": [
    "### Autre méthode\n",
    "\n",
    "Si on veut garder un minimum de consistance dans le code et ne pas avoir une fonction sortie de nulle part. On peut utiliser la syntaxe suivante :\n",
    "\n",
    "```python\n",
    "from Game.Level import start\n",
    "```\n",
    "\n",
    "On pourra ensuite appeler la fonction `select_difficulty()` directement:\n",
    "\n",
    "```python\n",
    "start.select_difficulty(2)\n",
    "```\n",
    "\n",
    "Ici, on garde une trace de la provenance de la fonction `select_difficulty()`."
   ]
  },
  {
   "cell_type": "markdown",
   "id": "12b1b1a9",
   "metadata": {},
   "source": [
    ">**Note**: Pour importer les package, Python regarde dans les paths contennus dans le `sys.path`. Il faut par conséquent ajouter le chemin du package dans le `sys.path` pour pouvoir l'importer."
   ]
  }
 ],
 "metadata": {
  "celltoolbar": "Slideshow",
  "kernelspec": {
   "display_name": "Python 3 (ipykernel)",
   "language": "python",
   "name": "python3"
  },
  "language_info": {
   "codemirror_mode": {
    "name": "ipython",
    "version": 3
   },
   "file_extension": ".py",
   "mimetype": "text/x-python",
   "name": "python",
   "nbconvert_exporter": "python",
   "pygments_lexer": "ipython3",
   "version": "3.10.13"
  }
 },
 "nbformat": 4,
 "nbformat_minor": 5
}
