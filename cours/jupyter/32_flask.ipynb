{
 "cells": [
  {
   "cell_type": "markdown",
   "id": "9ad2cc81",
   "metadata": {
    "slideshow": {
     "slide_type": "slide"
    }
   },
   "source": [
    "# Flask"
   ]
  },
  {
   "cell_type": "markdown",
   "id": "acc8cd82",
   "metadata": {
    "slideshow": {
     "slide_type": "slide"
    }
   },
   "source": [
    "## Flask | introduction\n",
    "\n",
    "- Flask est un micro-framework web pour Python basé sur `Werkzeug`. \n",
    "- Ultra légé, (nous pouvons créer un serveur `HTTP` en **5** lignes de code)\n",
    "- Dynamique: permet de créer des applications web rapidement: sites (plateforme), API REST\n",
    "- Flexible: il est possible d'ajouter des extensions pour ajouter des fonctionnalités\n",
    "- Maintenu par une grande communauté active\n",
    "- Python: possède toute la puissance de python"
   ]
  },
  {
   "cell_type": "markdown",
   "id": "fc8b19d4",
   "metadata": {
    "slideshow": {
     "slide_type": "slide"
    }
   },
   "source": [
    "## Flask | Qui utilise Flask?\n",
    "\n",
    "- Pinterest\n",
    "- LinkedIn\n",
    "- Netflix\n",
    "- Uber\n",
    "- Reddit\n",
    "- Trivago\n",
    "- Zalando\n",
    "- Airbnb\n",
    "- ...\n",
    "- Et vous bientôt ;P"
   ]
  },
  {
   "cell_type": "markdown",
   "id": "5db5fc7d",
   "metadata": {
    "slideshow": {
     "slide_type": "slide"
    }
   },
   "source": [
    "## Flask | REST API / Web Server\n",
    "\n",
    "- Routing\n",
    "- HTTP Methods\n",
    "- HTTP Status Codes"
   ]
  },
  {
   "cell_type": "markdown",
   "id": "9b10a075",
   "metadata": {
    "slideshow": {
     "slide_type": "slide"
    }
   },
   "source": [
    "## Flask | REST API / Web Server\n",
    "\n",
    "- Routing\n",
    "- HTTP Methods\n",
    "  - GET; POST; PUT; DELETE; PATCH; OPTIONS; HEAD; TRACE; CONNECT\n",
    "- HTTP Status Codes"
   ]
  },
  {
   "cell_type": "markdown",
   "id": "3c706a6f",
   "metadata": {
    "slideshow": {
     "slide_type": "slide"
    }
   },
   "source": [
    "## Flask | REST API / Web Server\n",
    "\n",
    "- Routing\n",
    "- HTTP Methods\n",
    "  - GET; POST; PUT; DELETE; PATCH; OPTIONS; HEAD; TRACE; CONNECT\n",
    "- HTTP Status Codes\n",
    "  - 1xx: Informational\n",
    "  - 2xx: Success\n",
    "  - 3xx: Redirection\n",
    "  - 4xx: Client Error\n",
    "  - 5xx: Server Error\n",
    "  - https://en.wikipedia.org/wiki/List_of_HTTP_status_codes"
   ]
  },
  {
   "cell_type": "markdown",
   "id": "3490b044",
   "metadata": {
    "slideshow": {
     "slide_type": "slide"
    }
   },
   "source": [
    "## Flask | Installation\n",
    "\n",
    "Nous allons créer un nouvel environement conda pour notre projet Flask, l'environement s'appellera `nomades_flask_310` avec la version de python `3.10`\n",
    "\n",
    "J'ai deja créer un fichier `env.yaml` pour vous faciliter la tache, il contient les dépendances nécessaires pour notre projet Flask.\n",
    "\n",
    "Pour créer l'environement, il suffit de taper la commande suivante:\n",
    "\n",
    "```bash\n",
    "conda env create -f env.yml\n",
    "```"
   ]
  },
  {
   "cell_type": "markdown",
   "id": "158f31fc",
   "metadata": {
    "slideshow": {
     "slide_type": "slide"
    }
   },
   "source": [
    "## Premier serveur web"
   ]
  },
  {
   "cell_type": "code",
   "execution_count": null,
   "id": "52ca750d",
   "metadata": {
    "slideshow": {
     "slide_type": "fragment"
    }
   },
   "outputs": [],
   "source": [
    "from flask import Flask\n",
    "\n",
    "app = Flask(__name__)\n",
    "\n",
    "@app.route('/')\n",
    "def hello_world():\n",
    "  return 'Hello, World!'\n",
    "\n",
    "if __name__ == '__main__':\n",
    "  app.run()"
   ]
  },
  {
   "cell_type": "markdown",
   "id": "1171378b",
   "metadata": {
    "slideshow": {
     "slide_type": "slide"
    }
   },
   "source": [
    "### Lancement du serveur\n",
    "\n",
    "Nous pouvons lancer le serveur de différentes manières:\n",
    "\n",
    "1. En utilisant la commande `flask run` :\n",
    "    - `export FLASK_ENV=development`\n",
    "    - `export FLASK_APP=app.py`\n",
    "    - `flask run`\n",
    "  \n",
    "2. En utilisant la commande `python -m flask run`\n",
    "3. En utilisant la commande `python app.py`"
   ]
  },
  {
   "cell_type": "markdown",
   "id": "e1992669",
   "metadata": {
    "slideshow": {
     "slide_type": "slide"
    }
   },
   "source": [
    "### Lancement du serveur\n",
    "\n",
    "- Par défaut, le serveur est accessible à l'adresse `http://127.0.0.1:5000/` ( Cette adresse est équivalente à `http://localhost:5000/` )\n",
    "\n",
    "- Uniquement accessible en localhost, sur votre machine\n",
    "- Le port par défaut est le `5000`"
   ]
  },
  {
   "cell_type": "markdown",
   "id": "0cfe5e9d",
   "metadata": {
    "slideshow": {
     "slide_type": "slide"
    }
   },
   "source": [
    "### app.run()\n",
    "\n",
    "Il est possible de passer des paramètres à la méthode `run()`:\n",
    "- `host`: l'adresse IP du serveur, par défaut `localhost`, permet de rendre le serveur accessible depuis d'autres machines sur le réseau\n",
    "- `port`: le port du serveur, par défaut `5000`, permet de changer le port d'écoute du serveur\n",
    "- `debug`: mode debug, par défaut `False`, permet d'activer le mode debug, le mode debug permet de recharger automatiquement le serveur à chaque modification du code `(Très utile)`"
   ]
  },
  {
   "cell_type": "code",
   "execution_count": null,
   "id": "73f8c433",
   "metadata": {
    "slideshow": {
     "slide_type": "fragment"
    }
   },
   "outputs": [],
   "source": [
    "from flask import Flask\n",
    "\n",
    "app = Flask(__name__)\n",
    "\n",
    "@app.route('/')\n",
    "def hello_world():\n",
    "  return 'Hello, World!'\n",
    "\n",
    "if __name__ == '__main__':\n",
    "  app.run(host='0.0.0.0', port=8080, debug=True)"
   ]
  },
  {
   "cell_type": "markdown",
   "id": "bc9a8df5",
   "metadata": {
    "slideshow": {
     "slide_type": "slide"
    }
   },
   "source": [
    "## Les routes\n",
    "\n",
    "- Les routes permettent de définir des points d'entrée pour notre application\n",
    "- Les routes sont définies en utilisant le décorateur `@app.route()`\n",
    "- Les routes sont associées à des fonctions qui seront exécutées lorsque la route est appelée\n",
    "- Les routes peuvent être définies pour des méthodes HTTP spécifiques\n",
    "- Les routes peuvent contenir des paramètres\n",
    "- Les routes peuvent être définies pour des URL dynamiques\n",
    "- Les routes sont aussi appelées `endpoints`"
   ]
  },
  {
   "cell_type": "code",
   "execution_count": null,
   "id": "b37575a1",
   "metadata": {
    "slideshow": {
     "slide_type": "fragment"
    }
   },
   "outputs": [],
   "source": [
    "from flask import Flask\n",
    "\n",
    "app = Flask(__name__)\n",
    "\n",
    "@app.route('/')\n",
    "def hello_world():\n",
    "  return 'Hello, World!'\n",
    "\n",
    "if __name__ == '__main__':\n",
    "  app.run(host='0.0.0.0', port=8080, debug=True)"
   ]
  },
  {
   "cell_type": "markdown",
   "id": "f17b7734",
   "metadata": {
    "slideshow": {
     "slide_type": "slide"
    }
   },
   "source": [
    "ici, nous créeeons une route pour la page d'accueil de notre application(`/`). Lorsque l'utilisateur accède à la page d'accueil, la fonction `hello_world()` sera exécutée.\n",
    "\n",
    "**/!\\ Ne pas confondre un endpoint avec un nom de fonction**\n",
    "\n",
    "- Le endpoint est l'URL de la route\n",
    "- Le nom de la fonction est le nom de la fonction associée à la route\n",
    "\n",
    "Nous verrons plus tard que le nom de la fonction a son importance, lorsue l'on utilisera la fonction `url_for()`"
   ]
  },
  {
   "cell_type": "markdown",
   "id": "8547778f",
   "metadata": {
    "slideshow": {
     "slide_type": "slide"
    }
   },
   "source": [
    "### Les valeurs de retour\n",
    "\n",
    "Les routes peuvent retourner différentes valeurs:\n",
    "- Une chaîne de caractères\n",
    "- Du JSON / XML\n",
    "- HTML (en utilisant des templates)"
   ]
  },
  {
   "cell_type": "markdown",
   "id": "608198e1",
   "metadata": {
    "slideshow": {
     "slide_type": "slide"
    }
   },
   "source": [
    "## Les routes dynamiques\n",
    "\n",
    "Il est possible de définir des routes dynamiques en utilisant des paramètres dans l'URL. Les paramètres sont définis en utilisant des chevrons `<>` dans l'URL de la route.\n",
    "\n",
    "- `@app.route('/endpoint/<var_name>')`\n",
    "- `@app.route('/some/endpoint/<converter:var_name>')`"
   ]
  },
  {
   "cell_type": "markdown",
   "id": "0409110b",
   "metadata": {
    "slideshow": {
     "slide_type": "slide"
    }
   },
   "source": [
    "### Les converters\n",
    "\n",
    "| Converter | Description |\n",
    "|-----------|-------------|\n",
    "| string    | (default) Accèpte n'importe quel texte sans (`/`)|\n",
    "| int       | Accepte des entiers |\n",
    "| float     | Accepte des nombres à virgule flottante |\n",
    "| path      | Accepte des chaînes de caractères avec (`/`) |\n",
    "| uuid      | Accepte des UUIDs |\n",
    "\n",
    "Si le converter n'es pas respecté, une erreur `404` sera retournée"
   ]
  },
  {
   "cell_type": "code",
   "execution_count": null,
   "id": "26df3df3",
   "metadata": {
    "slideshow": {
     "slide_type": "slide"
    }
   },
   "outputs": [],
   "source": [
    "from flask import Flask\n",
    "\n",
    "app = Flask(__name__)\n",
    "\n",
    "@app.route('/allow/<int:age>')\n",
    "def allow_voting(age):\n",
    "    return \"You are allowed to enter the voting website\" if age >= 18 else \"You are not allowed to enter the voting website\"\n",
    "\n",
    "if __name__ == '__main__':\n",
    "    app.run(host='0.0.0.0', port=8080, debug=True)"
   ]
  },
  {
   "cell_type": "markdown",
   "id": "6b8d09d3",
   "metadata": {
    "slideshow": {
     "slide_type": "fragment"
    }
   },
   "source": [
    "> **/!\\ Il faut bien récupérer le paramètre dans la signature de la fonction en utilisant le même nom que celui défini dans la route**"
   ]
  },
  {
   "cell_type": "markdown",
   "id": "5c2e00f6",
   "metadata": {
    "slideshow": {
     "slide_type": "slide"
    }
   },
   "source": [
    "# Jinja2\n",
    "## Template Engine"
   ]
  },
  {
   "cell_type": "markdown",
   "id": "da08bc56",
   "metadata": {
    "slideshow": {
     "slide_type": "slide"
    }
   },
   "source": [
    "## Jinja | Introduction\n",
    "\n",
    "- Jinja est un moteur de template pour Python\n",
    "- Installer par défaut avec Flask\n",
    "- Permet de générer du contenu dynamique\n",
    "    - Variables\n",
    "    - Structures de contrôle (Boucles, conditions)\n",
    "    - Filtres\n",
    "    - Blocs\n",
    "    - Macros\n",
    "- Permet de séparer le code de la présentation\n",
    "- https://jinja.palletsprojects.com/en/3.1.x/templates/"
   ]
  },
  {
   "cell_type": "markdown",
   "id": "cae0f2c3",
   "metadata": {
    "slideshow": {
     "slide_type": "slide"
    }
   },
   "source": [
    "## Jinja | render_template()\n",
    "\n",
    "- La fonction `render_template()` permet de rendre un template\n",
    "- Un template est un fichier HTML contenant du code Jinja\n",
    "- Les templates sont stockés dans le dossier `templates` (par défaut) à la racine du projet"
   ]
  },
  {
   "cell_type": "code",
   "execution_count": null,
   "id": "591a2e84",
   "metadata": {
    "slideshow": {
     "slide_type": "fragment"
    }
   },
   "outputs": [],
   "source": [
    "from flask import Flask, render_template\n",
    "\n",
    "app = Flask(__name__)\n",
    "\n",
    "@app.route('/')\n",
    "def index():\n",
    "  return render_template('index.html')\n",
    "\n",
    "if __name__ == '__main__':\n",
    "  app.run(debug=True)"
   ]
  },
  {
   "cell_type": "markdown",
   "id": "f8a73354",
   "metadata": {
    "slideshow": {
     "slide_type": "slide"
    }
   },
   "source": [
    "## Jinja | Interpolation\n",
    "\n",
    "- `{% .. %}`: Structures de contrôle, statements\n",
    "- `{{ .. }}`: Afficher Variables, expressions\n",
    "- `{# .. #}`: Commentaires"
   ]
  },
  {
   "cell_type": "markdown",
   "id": "4e6d5908",
   "metadata": {
    "slideshow": {
     "slide_type": "slide"
    }
   },
   "source": [
    "## Jinja | Variables\n",
    "\n",
    "- Les variables sont passées au template en utilisant la méthode `render_template()`.\n",
    "- Les variables sont accessibles dans le template en utilisant la syntaxe `{{ variable }}`\n",
    "- Les variables peuvent être des chaînes de caractères, des nombres, des listes, des dictionnaires, des objets, etc.\n",
    "- Les variables peuvent être utilisées dans des structures de contrôle\n",
    "- Les variables peuvent être passées à des filtres\n",
    "- Les variables peuvent être utilisées dans des expressions"
   ]
  },
  {
   "cell_type": "code",
   "execution_count": null,
   "id": "bf5282cb",
   "metadata": {
    "slideshow": {
     "slide_type": "slide"
    }
   },
   "outputs": [],
   "source": [
    "@app.route(\"/variable\")\n",
    "def variable():\n",
    "  name = \"Antonio\"\n",
    "  lastname = \"Pisanello\"\n",
    "  return render_template(\"variable.html\", name=name, lastname=lastname)"
   ]
  },
  {
   "cell_type": "code",
   "execution_count": null,
   "id": "7fb31b9d",
   "metadata": {
    "slideshow": {
     "slide_type": "fragment"
    }
   },
   "outputs": [],
   "source": [
    "@app.route(\"/variable/<name>/<lastname>\")\n",
    "def dyn_variable(name, lastname):\n",
    "  return render_template(\"variable.html\", name=name, lastname=lastname)"
   ]
  },
  {
   "cell_type": "markdown",
   "id": "fd51dc44",
   "metadata": {
    "slideshow": {
     "slide_type": "slide"
    }
   },
   "source": [
    "## Jinja | Structures de contrôle\n",
    "\n",
    "- Les structures de contrôle permettent de contrôler le flux d'exécution du template\n",
    "- Les structures de contrôle sont définies en utilisant les balises `{% .. %}`\n",
    "- Les structures de contrôle peuvent être des boucles, des conditions, des blocs, des macros, etc.\n",
    "- Les structures de controles, doivent être fermées avec `{% end.. %}`"
   ]
  },
  {
   "cell_type": "markdown",
   "id": "0b65dea5",
   "metadata": {
    "slideshow": {
     "slide_type": "slide"
    }
   },
   "source": [
    "### Jinja | Structures de contrôle | Boucles\n",
    "\n",
    "- Les boucles permettent de répéter une partie du template\n",
    "- Les boucles sont définies en utilisant les balises `{% for .. in .. %} ... {% endfor %}`\n",
    "- Les boucles peuvent être imbriquées"
   ]
  },
  {
   "cell_type": "code",
   "execution_count": null,
   "id": "7d463d13",
   "metadata": {
    "slideshow": {
     "slide_type": "fragment"
    }
   },
   "outputs": [],
   "source": [
    "@app.route(\"/for\")\n",
    "def jinja_for():\n",
    "  fruits = [\n",
    "    \"apple\",\n",
    "    \"banana\",\n",
    "    \"orange\",\n",
    "    \"watermelon\",\n",
    "    \"peach\",\n",
    "    \"strawberry\"\n",
    "  ]\n",
    "\n",
    "  return render_template(\"for.html\", fruits=fruits)"
   ]
  },
  {
   "cell_type": "markdown",
   "id": "79a70a3d",
   "metadata": {
    "slideshow": {
     "slide_type": "slide"
    }
   },
   "source": [
    "### Jinja | Structures de contrôle | Conditions\n",
    "\n",
    "- Les conditions permettent d'exécuter une partie du template en fonction d'un test (condition)\n",
    "- Les conditions sont définies en utilisant les balises `{% if .. %} .. {% elif .. %} .. {% else %} .. {% endif %}`"
   ]
  },
  {
   "cell_type": "code",
   "execution_count": null,
   "id": "539086b1",
   "metadata": {
    "slideshow": {
     "slide_type": "fragment"
    }
   },
   "outputs": [],
   "source": [
    "@app.route(\"/if\")\n",
    "def jinja_if():\n",
    "  age = 2\n",
    "  return render_template(\"if.html\", age=age)"
   ]
  },
  {
   "cell_type": "code",
   "execution_count": null,
   "id": "f84df99d",
   "metadata": {
    "slideshow": {
     "slide_type": "fragment"
    }
   },
   "outputs": [],
   "source": [
    "@app.route(\"/if/<int:age>\")\n",
    "def jinja_if_dynamic(age):\n",
    "  return render_template(\"if.html\", age=age)"
   ]
  },
  {
   "cell_type": "markdown",
   "id": "3ca1ba18",
   "metadata": {
    "slideshow": {
     "slide_type": "slide"
    }
   },
   "source": [
    "### Jinja | Filtres\n",
    "\n",
    "- Les filtres permettent de modifier le contenu d'une variable\n",
    "- Les filtres sont définis en utilisant la syntaxe `{{ variable | filter }}`"
   ]
  },
  {
   "cell_type": "markdown",
   "id": "a3c0d54e",
   "metadata": {
    "slideshow": {
     "slide_type": "slide"
    }
   },
   "source": [
    "| Filtre | Description | Exemple |\n",
    "|--------|-------------|---------|\n",
    "| safe   | Marque une chaîne de caractères comme sûre | `{{ variable \\| safe }}` |\n",
    "| capitalize | Met en majuscule la première lettre d'une chaîne de caractères | `{{ variable \\| capitalize }}` |\n",
    "| lower | Met en minuscule une chaîne de caractères | `{{ variable \\| lower }}` |\n",
    "| upper | Met en majuscule une chaîne de caractères | `{{ variable \\| upper }}` |\n",
    "| title | Met en majuscule la première lettre de chaque mot d'une chaîne de caractères | `{{ variable \\| title }}` |\n",
    "| trim | Supprime les espaces en début et fin de chaîne de caractères | `{{ variable \\| trim }}` |\n",
    "| striptags | Supprime les balises HTML d'une chaîne de caractères | `{{ variable \\| striptags }}` |\n",
    "| length | Retourne la longueur d'une chaîne de caractères, d'une liste, d'un dictionnaire, etc. | `{{ variable \\| length }}` |\n",
    "| join | Joint les éléments d'une liste avec un séparateur | `{{ variable \\| join(', ') }}` |\n",
    "| ... | AND SO ON | ... |\n",
    "\n"
   ]
  },
  {
   "cell_type": "markdown",
   "id": "fb6179eb",
   "metadata": {
    "slideshow": {
     "slide_type": "slide"
    }
   },
   "source": [
    "Full list of filters and documentation [here](https://jinja.palletsprojects.com/en/3.1.x/templates/#builtin-filters)\n",
    "\n",
    "![image](./imgs/jinja_filters.png)"
   ]
  },
  {
   "cell_type": "code",
   "execution_count": null,
   "id": "1e7b2a64",
   "metadata": {
    "slideshow": {
     "slide_type": "fragment"
    }
   },
   "outputs": [],
   "source": [
    "@app.route(\"/safe\")\n",
    "def jinja_safe():\n",
    "  html = '<script>alert(\"Hacked!!!\")</script>'\n",
    "  return render_template(\"safe.html\", html=html)"
   ]
  },
  {
   "cell_type": "markdown",
   "id": "d8b313e5",
   "metadata": {
    "slideshow": {
     "slide_type": "slide"
    }
   },
   "source": [
    "## Jinja | Blocs\n",
    "\n",
    "- Les blocs permettent de définir des zones de contenu réutilisables\n",
    "- Les blocs sont définis en utilisant les balises `{% bloc .. %} .. {% endbloc %}`\n",
    "- Les blocs peuvent être étendus par d'autres templates\n",
    "- Les blocs peuvent être remplacés par d'autres templates\n",
    "- Les blocs peuvent être imbriqués"
   ]
  },
  {
   "cell_type": "code",
   "execution_count": null,
   "id": "531a9b56",
   "metadata": {
    "slideshow": {
     "slide_type": "fragment"
    }
   },
   "outputs": [],
   "source": [
    "@app.route(\"/bloc\")\n",
    "def jinja_bloc():\n",
    "  return render_template(\"index_bloc.html\")"
   ]
  },
  {
   "cell_type": "markdown",
   "id": "c27ed4ce",
   "metadata": {
    "slideshow": {
     "slide_type": "slide"
    }
   },
   "source": [
    "## Jinja | Macros\n",
    "\n",
    "- Les macros permettent de définir des fonctions (Jinja) réutilisables\n",
    "- Nous les utiliseront plus tard dans le cours"
   ]
  }
 ],
 "metadata": {
  "celltoolbar": "Slideshow",
  "kernelspec": {
   "display_name": "Python 3 (ipykernel)",
   "language": "python",
   "name": "python3"
  },
  "language_info": {
   "codemirror_mode": {
    "name": "ipython",
    "version": 3
   },
   "file_extension": ".py",
   "mimetype": "text/x-python",
   "name": "python",
   "nbconvert_exporter": "python",
   "pygments_lexer": "ipython3",
   "version": "3.10.13"
  }
 },
 "nbformat": 4,
 "nbformat_minor": 5
}
