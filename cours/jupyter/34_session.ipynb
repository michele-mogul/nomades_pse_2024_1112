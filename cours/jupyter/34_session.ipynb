{
 "cells": [
  {
   "cell_type": "markdown",
   "id": "f7368d70",
   "metadata": {
    "slideshow": {
     "slide_type": "slide"
    }
   },
   "source": [
    "# Flask Sessions"
   ]
  },
  {
   "cell_type": "markdown",
   "id": "5d4283f3",
   "metadata": {
    "slideshow": {
     "slide_type": "slide"
    }
   },
   "source": [
    "## Session\n",
    "\n",
    "Une session est un moyen de stocker des informations utilisateur spécifiques à une session sur le serveur pour une utilisation ultérieure. Contrairement aux cookies, les informations ne sont pas stockées sur l'ordinateur de l'utilisateur.\n",
    "\n",
    "Les sessions sont généralement utilisées pour stocker des informations utilisateur telles que les préférences, les paniers d'achat, les informations de connexion, etc."
   ]
  },
  {
   "cell_type": "markdown",
   "id": "99cc9ad9",
   "metadata": {
    "slideshow": {
     "slide_type": "slide"
    }
   },
   "source": [
    "## Session\n",
    "\n",
    "Les session sont propres à chaque utilisateur et ne sont pas partagées entre les utilisateurs. \n",
    "Les informations de session sont stockées sur le serveur et un identifiant de session unique est envoyé à l'utilisateur. \n",
    "Cet identifiant de session est ensuite utilisé pour récupérer les informations de session pour cet utilisateur.\n",
    "\n",
    "La session existe dans le contexte d'un browser, c'est-à-dire que si vous ouvrez un autre browser, vous n'aurez pas accès à la session de l'autre browser.\n",
    "Mais Si vous ouvrez un autre onglet dans le même browser, vous aurez accès à la session de l'autre onglet.\n",
    "Si Vous fermez le browser, la session sera détruite."
   ]
  },
  {
   "cell_type": "markdown",
   "id": "b6129023",
   "metadata": {
    "slideshow": {
     "slide_type": "slide"
    }
   },
   "source": [
    "## Configuration\n",
    "\n",
    "Pour activer les sessions dans Flask, vous devez définir une clé secrète.\n",
    "Cette clé est utilisée pour signer les cookies de session afin qu'ils ne puissent pas être modifiés par l'utilisateur.\n",
    "\n",
    "```python\n",
    "app = Flask(__name__)\n",
    "app.secret = 'mysecretkey'\n",
    "app.config['secret_key'] = 'mysecretkey'\n",
    "```"
   ]
  },
  {
   "cell_type": "markdown",
   "id": "2a9612c1",
   "metadata": {
    "slideshow": {
     "slide_type": "slide"
    }
   },
   "source": [
    "## Stockage de données\n",
    "\n",
    "Pour stocker des données dans la session, vous pouvez utiliser l'objet `session` fourni par Flask.\n",
    "\n",
    "```python\n",
    "from flask import session\n",
    "\n",
    "session['firstname'] = 'Antonio'\n",
    "session['lastname'] = 'Pisanello'\n",
    "```\n",
    "\n",
    "En fait la session se présente comme un dictionnaire ou l'on peut stocker ce que l'on veut, c'est un dictionnaire python."
   ]
  },
  {
   "cell_type": "markdown",
   "id": "9e0f4dca",
   "metadata": {
    "slideshow": {
     "slide_type": "slide"
    }
   },
   "source": [
    "## Accès aux données\n",
    "\n",
    "Pour accéder aux données stockées dans la session, vous pouvez utiliser l'objet `session` fourni par Flask.\n",
    "\n",
    "```python\n",
    "from flask import session\n",
    "\n",
    "value = session.get('key')\n",
    "```"
   ]
  },
  {
   "cell_type": "markdown",
   "id": "11ad46f1",
   "metadata": {
    "slideshow": {
     "slide_type": "slide"
    }
   },
   "source": [
    "## Suppression de données\n",
    "\n",
    "Pour supprimer des données de la session, vous pouvez utiliser la méthode `pop` de l'objet `session` fourni par Flask.\n",
    "\n",
    "```python\n",
    "from flask import session\n",
    "\n",
    "session.pop('key')\n",
    "```"
   ]
  },
  {
   "cell_type": "markdown",
   "id": "0f64a3ce",
   "metadata": {
    "slideshow": {
     "slide_type": "slide"
    }
   },
   "source": [
    "On se rend bien compte que la session se comporte comme un dictionnaire python."
   ]
  },
  {
   "cell_type": "markdown",
   "id": "ca91f2a0",
   "metadata": {
    "slideshow": {
     "slide_type": "slide"
    }
   },
   "source": [
    "## Attention\n",
    "\n",
    "Il est important de noter que les données de session sont stockées sur le serveur, mais l'identifiant de session est stocké sur l'ordinateur de l'utilisateur.\n",
    "Cela signifie que si un utilisateur a accès à l'identifiant de session, il peut accéder aux données de session.\n",
    "\n",
    "Notez aussi que les données de session sont stockées en mémoire par défaut, ce qui signifie qu'elles sont perdues lorsque le serveur redémarre.\n",
    "Pour stocker les données de session de manière persistante, vous pouvez utiliser un autre système de stockage tel que Redis ou MongoDB.\n"
   ]
  },
  {
   "cell_type": "markdown",
   "id": "e9e6ff88",
   "metadata": {
    "slideshow": {
     "slide_type": "slide"
    }
   },
   "source": [
    "## Exemple"
   ]
  },
  {
   "cell_type": "code",
   "execution_count": null,
   "id": "18a399aa",
   "metadata": {},
   "outputs": [],
   "source": [
    "from flask import Flask, session\n",
    "\n",
    "app = Flask(__name__)\n",
    "app.secret = 'mysecret'\n",
    "\n",
    "@app.route('/')\n",
    "def index():\n",
    "    session['count'] = session.get('count', 0) + 1\n",
    "    return f'Count: {session[\"count\"]}'"
   ]
  },
  {
   "cell_type": "markdown",
   "id": "b8c5226b",
   "metadata": {},
   "source": [
    "Dans cet exemple, nous stockons un compteur dans la session et l'incrémentons à chaque fois que la page est chargée."
   ]
  },
  {
   "cell_type": "markdown",
   "id": "40c5e791",
   "metadata": {
    "slideshow": {
     "slide_type": "slide"
    }
   },
   "source": [
    "## Login\n",
    "\n",
    "Un login permet d'autoriser l'accès à certaines pages de votre site web. \n",
    "Nous ne voulons pas demander à l'utilisateur de se connecter à chaque fois qu'il accède à une page sécurisée.\n",
    "\n",
    "Nous allons donc utiliser une session pour stocker les informations de connexion de l'utilisateur.\n",
    "\n",
    "Une fois qu'un utilisateur réussi un login avec succès, nous stockons une valeur `loggedin` dans la session.\n"
   ]
  },
  {
   "cell_type": "code",
   "execution_count": null,
   "id": "84734f9e",
   "metadata": {
    "slideshow": {
     "slide_type": "slide"
    }
   },
   "outputs": [],
   "source": [
    "@app.route(\"/login\", methods=[\"GET\", \"POST\"])\n",
    "def login():\n",
    "  if request.method == \"POST\":\n",
    "    email = request.form[\"tbxEmail\"]\n",
    "    password = request.form[\"tbxPwd\"]\n",
    "\n",
    "    if email == \"admin@nomades.ch\" and password == \"1234\":\n",
    "      session[\"loggedin\"] = True \n",
    "\n",
    "    return redirect(url_for(\"userinfo\"))\n",
    "  \n",
    "  return render_template(\"login.html\")"
   ]
  },
  {
   "cell_type": "markdown",
   "id": "aeffc5c3",
   "metadata": {
    "slideshow": {
     "slide_type": "slide"
    }
   },
   "source": [
    "Une fois que l'utilisateur est connecté, nous vérifions simplement si la valeur `loggedin` est présente dans la session pour autoriser l'accès à la page sécurisée."
   ]
  },
  {
   "cell_type": "code",
   "execution_count": null,
   "id": "574aba67",
   "metadata": {
    "slideshow": {
     "slide_type": "slide"
    }
   },
   "outputs": [],
   "source": [
    "@app.route(\"/secret\")\n",
    "def secret():\n",
    "  if not session.get(\"loggedin\", False):\n",
    "    return redirect(url_for(\"login\"))\n",
    "  return \"This is a secret page\""
   ]
  },
  {
   "cell_type": "markdown",
   "id": "273de3ff",
   "metadata": {
    "slideshow": {
     "slide_type": "slide"
    }
   },
   "source": [
    "## Logout\n",
    "\n",
    "Pour déconnecter un utilisateur, nous devons supprimer la valeur `loggedin` de la session. \n",
    "\n",
    "Ou nous pouvons mettre à jour la valeur `loggedin` à `False`. Si on veut garder les autres informations de la session.\n",
    "\n",
    "Ou nous pouvons simplement supprimer toutes les données de la session (détruire la session)."
   ]
  },
  {
   "cell_type": "code",
   "execution_count": null,
   "id": "e5802734",
   "metadata": {
    "slideshow": {
     "slide_type": "fragment"
    }
   },
   "outputs": [],
   "source": [
    "@app.route(\"/logout\")\n",
    "def logout():\n",
    "  session[\"loggedin\"] = False\n",
    "  return redirect(url_for(\"login\"))"
   ]
  },
  {
   "cell_type": "code",
   "execution_count": null,
   "id": "ce58af57",
   "metadata": {
    "slideshow": {
     "slide_type": "fragment"
    }
   },
   "outputs": [],
   "source": [
    "@app.route(\"/logout\")\n",
    "def logout():\n",
    "  session.clear()\n",
    "  return redirect(url_for(\"login\"))"
   ]
  },
  {
   "cell_type": "markdown",
   "id": "cadee6fc",
   "metadata": {
    "slideshow": {
     "slide_type": "slide"
    }
   },
   "source": [
    "## Session On Template\n",
    "\n",
    "Il est possible d'accéder aux données de session directement dans les templates en utilisant la variable `session`.\n",
    "\n",
    "```html\n",
    "{% if session.get('loggedin') %}\n",
    "    <a href=\"/logout\">Logout</a>\n",
    "{% else %}\n",
    "    <a href=\"/login\">Login</a>\n",
    "{% endif %}\n",
    "```\n",
    "\n",
    "Ici on utilise `{% %}` pour les instructions et `{{ }}` pour les variables."
   ]
  },
  {
   "cell_type": "markdown",
   "id": "07b562a2",
   "metadata": {
    "slideshow": {
     "slide_type": "slide"
    }
   },
   "source": [
    "## Session Timeout\n",
    "\n",
    "Il est possible de définir un timeout pour la session.\n",
    "\n",
    "```python\n",
    "app.permanent_session_lifetime = timedelta(minutes=5)\n",
    "```"
   ]
  },
  {
   "cell_type": "markdown",
   "id": "68c652db",
   "metadata": {
    "slideshow": {
     "slide_type": "slide"
    }
   },
   "source": [
    "## Différence entre cookie et session\n",
    "\n",
    "- Les cookies sont stockés sur l'ordinateur de l'utilisateur, tandis que les sessions sont stockées sur le serveur.\n",
    "- Les cookies sont stockés en texte brut, tandis que les sessions sont stockées de manière sécurisée (encryptés).\n",
    "- Les cookies ont une taille limitée, tandis que les sessions peuvent stocker plus de données.\n",
    "- Les cookies peuvent être modifiés par l'utilisateur, tandis que les sessions ne peuvent pas être modifiées.\n",
    "- Les cookies sont partagés entre les utilisateurs, tandis que les sessions sont propres à chaque utilisateur."
   ]
  },
  {
   "cell_type": "markdown",
   "id": "e33751d4",
   "metadata": {
    "slideshow": {
     "slide_type": "slide"
    }
   },
   "source": [
    "# redirect()\n",
    "\n",
    "La fonction `redirect()` de Flask permet de rediriger l'utilisateur vers une autre page.\n",
    "C'est à dire, si l'utilisateur accède à une page, on peut le rediriger vers une autre page. Il fera donc une requete GET sur la nouvelle page."
   ]
  },
  {
   "cell_type": "code",
   "execution_count": null,
   "id": "d9019bb1",
   "metadata": {},
   "outputs": [],
   "source": [
    "from flask import redirect\n",
    "\n",
    "@app.route('/')\n",
    "def home():\n",
    "    return redirect('/login')\n",
    "\n",
    "@app.route('/login')\n",
    "def login():\n",
    "    return 'Login'"
   ]
  },
  {
   "cell_type": "markdown",
   "id": "ecd5e167",
   "metadata": {},
   "source": [
    "Ici, nous redirigeons sur la route `/login`\n",
    "\n",
    "Que se passe-t-il si je change la route `/login` par `/signin` ?"
   ]
  },
  {
   "cell_type": "markdown",
   "id": "6cccf2c3",
   "metadata": {
    "slideshow": {
     "slide_type": "slide"
    }
   },
   "source": [
    "# url_for()\n",
    "\n",
    "La fonction `url_for()` de Flask permet de générer une URL pour une route donnée.\n",
    "\n",
    "Ici, nous utilisons `url_for('login')` pour générer l'URL de la route `/login`.\n",
    "\n",
    "ainsi si on change la route `/login` par `/signin`, la fonction `url_for('login')` générera l'URL de la route `/signin`.\n",
    "\n",
    "**/!\\ La fonction `url_for()` prend en paramètre le `nom de la fonction`. Pour un nommde fonction url_for() retourne la route associée**\n",
    "\n",
    "La fonction `url_for()` peut aussi être utilisée dans un template pour générer une URL.\n",
    "\n",
    "```html\n",
    "<a href=\"{{ url_for('login') }}\">Login</a>\n",
    "```\n"
   ]
  },
  {
   "cell_type": "markdown",
   "id": "9fcabc72",
   "metadata": {
    "slideshow": {
     "slide_type": "slide"
    }
   },
   "source": [
    "# flash()\n",
    "\n",
    "La fonction `flash()` de Flask permet d'afficher un message à l'utilisateur.\n",
    "\n",
    "Ici, nous utilisons `flash('You are logged in', 'success')` pour afficher un message de succès à l'utilisateur.\n",
    "\n",
    "Le message de succès est affiché dans la page suivante."
   ]
  },
  {
   "cell_type": "markdown",
   "id": "3527d3be",
   "metadata": {
    "slideshow": {
     "slide_type": "slide"
    }
   },
   "source": [
    "# get_flashed_messages()\n",
    "\n",
    "La fonction `get_flashed_messages()` de Flask permet de récupérer les messages flash stockés dans la session.\n",
    "\n",
    "Ici, nous utilisons `get_flashed_messages()` pour récupérer les messages flash stockés dans la session.\n",
    "\n",
    "Les messages flash sont stockés dans la session et sont supprimés une fois qu'ils sont récupérés.\n",
    "\n",
    "En général, `get_flashed_messages()` est utilisé dans un template pour afficher les messages flash.\n",
    "\n",
    "```html\n",
    "{% with messages = get_flashed_messages() %}\n",
    "  {% if messages %}\n",
    "    <ul>\n",
    "      {% for message in messages %}\n",
    "        <li>{{ message }}</li>\n",
    "      {% endfor %}\n",
    "    </ul>\n",
    "  {% endif %}\n",
    "{% endwith %}\n",
    "```"
   ]
  }
 ],
 "metadata": {
  "celltoolbar": "Slideshow",
  "kernelspec": {
   "display_name": "Python 3 (ipykernel)",
   "language": "python",
   "name": "python3"
  },
  "language_info": {
   "codemirror_mode": {
    "name": "ipython",
    "version": 3
   },
   "file_extension": ".py",
   "mimetype": "text/x-python",
   "name": "python",
   "nbconvert_exporter": "python",
   "pygments_lexer": "ipython3",
   "version": "3.10.13"
  }
 },
 "nbformat": 4,
 "nbformat_minor": 5
}
