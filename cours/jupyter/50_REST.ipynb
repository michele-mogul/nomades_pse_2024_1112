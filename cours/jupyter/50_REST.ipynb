{
 "cells": [
  {
   "cell_type": "markdown",
   "id": "9ad2cc81",
   "metadata": {
    "slideshow": {
     "slide_type": "slide"
    }
   },
   "source": [
    "# Flask\n",
    "## REST API"
   ]
  },
  {
   "cell_type": "markdown",
   "id": "acc8cd82",
   "metadata": {
    "slideshow": {
     "slide_type": "slide"
    }
   },
   "source": [
    "## REST | introduction\n",
    "\n",
    "- HTTP protocol:\n",
    "  - **REQUEST**\n",
    "    - methods: GET, POST, PUT, DELETE\n",
    "    - url, endpoint (`/users/:id`), where the `:id` is a variable part of the url\n",
    "    - url parameters (`/users?name=John`), query string\n",
    "    - headers: `Content-Type`, `Accept`, `Authorization`\n",
    "    - body: JSON, XML, form data\n",
    "  - **RESPONSE**\n",
    "    - status code: 1xx, 2xx, 3xx, 4xx, 5xx\n",
    "    - headers: `Content-Type`, `Set-Cookie`\n",
    "    - body: JSON, XML, HTML"
   ]
  },
  {
   "cell_type": "markdown",
   "id": "f55f10e8",
   "metadata": {
    "slideshow": {
     "slide_type": "slide"
    }
   },
   "source": [
    "## REST | introduction\n",
    "### Flask Web\n",
    "\n",
    "![flask_web](./imgs/flask_web.png)"
   ]
  },
  {
   "cell_type": "markdown",
   "id": "83232292",
   "metadata": {
    "slideshow": {
     "slide_type": "slide"
    }
   },
   "source": [
    "## REST | introduction\n",
    "### Flask Rest\n",
    "\n",
    "![flask_rest](./imgs/flask_rest.png)"
   ]
  },
  {
   "cell_type": "markdown",
   "id": "fc8b19d4",
   "metadata": {
    "slideshow": {
     "slide_type": "slide"
    }
   },
   "source": [
    "## HTTP | methods\n",
    "\n",
    "| Method | Description | default status code |\n",
    "| --- | --- | --- |\n",
    "| GET | Retrieve data | 200 |\n",
    "| POST | Create data | 201 |\n",
    "| PUT | Update data | 200 |\n",
    "| (PATCH) | Partial update data | 200 |\n",
    "| DELETE | Delete data | 204 |"
   ]
  },
  {
   "cell_type": "markdown",
   "id": "5db5fc7d",
   "metadata": {
    "slideshow": {
     "slide_type": "slide"
    }
   },
   "source": [
    "## HTTP | status codes\n",
    "\n",
    "| Code | Description |\n",
    "| --- | --- |\n",
    "| 1xx | Informational |\n",
    "| 2xx | Success |\n",
    "| 3xx | Redirection |\n",
    "| 4xx | Client Error |\n",
    "| 5xx | Server Error |"
   ]
  },
  {
   "cell_type": "markdown",
   "id": "9b10a075",
   "metadata": {
    "slideshow": {
     "slide_type": "slide"
    }
   },
   "source": [
    "## Routes | endpoints\n",
    "\n",
    "- `http://127.0.0.1:5000/users`\n",
    "\n",
    "- `http://` - protocol\n",
    "- `127.0.0.1` - host\n",
    "- `5000` - port\n",
    "- `/users` - endpoint"
   ]
  },
  {
   "cell_type": "markdown",
   "id": "3c706a6f",
   "metadata": {
    "slideshow": {
     "slide_type": "slide"
    }
   },
   "source": [
    "## Routes | endpoints\n",
    "\n",
    "- GET `/users` - get all users\n",
    "- POST `/users` - create a user, we need to specify the body we want to create\n",
    "\n",
    "___\n",
    "- GET `/users/:id` - get a user by id\n",
    "- PUT `/users/:id` - update a user by id, we need to specify the body we want to update\n",
    "- DELETE `/users/:id` - delete a user by id"
   ]
  },
  {
   "cell_type": "markdown",
   "id": "3490b044",
   "metadata": {
    "slideshow": {
     "slide_type": "slide"
    }
   },
   "source": [
    "# Bonnes pratiques\n",
    "\n",
    "- **GET** - should not have a body\n",
    "- **POST** - should have a body, and should return the created object, with 201\n",
    "- **PUT** - should have a body, and should return the updated object\n",
    "- **DELETE** - should not have a body, and should return a status code 204\n",
    "- **(PATCH)** - should have a body, and should return the updated object"
   ]
  },
  {
   "cell_type": "markdown",
   "id": "a53c0e55",
   "metadata": {
    "slideshow": {
     "slide_type": "slide"
    }
   },
   "source": [
    "## MVC | Model View Controller\n",
    "\n",
    "- **Model** - data, database\n",
    "- **View** - user interface\n",
    "- **Controller** - logic, routes"
   ]
  },
  {
   "cell_type": "markdown",
   "id": "eb8c0931",
   "metadata": {
    "slideshow": {
     "slide_type": "slide"
    }
   },
   "source": [
    "We will use a different MVC pattern to structure our application\n",
    "\n",
    "- `controller`: Manage routes\n",
    "- `service`: Manage business logic\n",
    "- `model`: Manage data\n",
    "- `repository`: Manage database\n",
    "- `Mapper`: Manage data transformation"
   ]
  },
  {
   "cell_type": "markdown",
   "id": "158f31fc",
   "metadata": {
    "slideshow": {
     "slide_type": "slide"
    }
   },
   "source": [
    "## DTO | Data Transfer Object\n",
    "\n",
    "DTO, is an object that carries data between processes. It is a simple object with fields and getters/setters.\n",
    "\n",
    "DTOs:\n",
    "- **Request**: object that carries data from the client to the server\n",
    "- **Response**: object that carries data from the server to the client\n",
    "\n",
    "The DTOs helps data validation\n",
    "\n",
    "During this week we'll use `Marshmallow` to create our DTOs"
   ]
  },
  {
   "cell_type": "markdown",
   "id": "52ca750d",
   "metadata": {
    "slideshow": {
     "slide_type": "slide"
    }
   },
   "source": [
    "# JWT | JSON Web Token\n",
    "\n",
    "- JWT is a standard for creating tokens (IETF RFC 7519)\n",
    "- The JWT is used to authenticate and authorize users\n",
    "- JWT are \"documents\" JSON that contains information (claims)\n",
    "- The informations are called claims, there exists many different type of claims depending the needs\n",
    "- The JWTs are structured in three parts: header, payload, signature\n",
    "  - header: algorithm (`alg`) and type (`typ`)\n",
    "  - payload: claims\n",
    "  - signature: hash of the header and payload with a secret key\n",
    "    - The signature is used to verify that the sender of the JWT is who it says it is and to ensure that the message wasn't changed along the way (authenticity and non-repudiation)\n",
    "  - The three parts are separated by dots (`.`)\n",
    "- The JWT is encoded in base64 (url-safe), but it is not encrypted\n",
    "- We can use the website [jwt.io](https://jwt.io/) to decode and verify the JWT"
   ]
  },
  {
   "cell_type": "markdown",
   "id": "1171378b",
   "metadata": {
    "slideshow": {
     "slide_type": "slide"
    }
   },
   "source": [
    "# JWT | JSON Web Token\n",
    "\n",
    "We distinguish two types of tokens:\n",
    "\n",
    "- **ID Token**: token that contains user information\n",
    "- **Access token**: token that is used to access resources"
   ]
  },
  {
   "cell_type": "markdown",
   "id": "e1992669",
   "metadata": {
    "slideshow": {
     "slide_type": "slide"
    }
   },
   "source": [
    "# JWT | JSON Web Token\n",
    "## Claims\n",
    "\n",
    "- **Registered claims**: standard claims defined by the JWT specification\n",
    "  - `iss`: issuer, the entity(server, service, API) that issued the JWT\n",
    "  - `sub`: subject, the person(system) who the JWT is about\n",
    "  - `aud`: audience, the endpoint that the JWT is intended for\n",
    "  - `iat`: issued at, the time at which the JWT was issued\n",
    "  - `exp`: expiration time, the time after which the JWT must not be accepted\n",
    "\n",
    "To know more about the claims, you can visit the website: [JWT Claims](https://www.iana.org/assignments/jwt/jwt.xhtml)"
   ]
  },
  {
   "cell_type": "markdown",
   "id": "0cfe5e9d",
   "metadata": {
    "slideshow": {
     "slide_type": "slide"
    }
   },
   "source": [
    "# JWT | JSON Web Token\n",
    "## Signing algorithms\n",
    "\n",
    "There are two ways for encrypting the JWT:\n",
    "\n",
    "- **HMAC**: symmetric algorithm, the same key is used to sign and verify the token\n",
    "- **RSA**: asymmetric algorithm, a private key is used to sign the token and a public key is used to verify the token\n",
    "\n",
    "- **HS256**: HMAC with SHA-256, encrypt using a secret key\n",
    "- **RS256**: RSA with SHA-256, encrypt using a private key"
   ]
  },
  {
   "cell_type": "markdown",
   "id": "73f8c433",
   "metadata": {
    "slideshow": {
     "slide_type": "slide"
    }
   },
   "source": [
    "# JWT | JSON Web Token\n",
    "## Sgning purpose\n",
    "\n",
    "The goal of signing the JWT is to ensure that the sender of the JWT is who it says it is and to ensure that the message wasn't changed along the way (authenticity and non-repudiation)"
   ]
  }
 ],
 "metadata": {
  "celltoolbar": "Slideshow",
  "kernelspec": {
   "display_name": "Python 3 (ipykernel)",
   "language": "python",
   "name": "python3"
  },
  "language_info": {
   "codemirror_mode": {
    "name": "ipython",
    "version": 3
   },
   "file_extension": ".py",
   "mimetype": "text/x-python",
   "name": "python",
   "nbconvert_exporter": "python",
   "pygments_lexer": "ipython3",
   "version": "3.10.14"
  }
 },
 "nbformat": 4,
 "nbformat_minor": 5
}
