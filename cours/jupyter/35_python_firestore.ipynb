{
 "cells": [
  {
   "cell_type": "markdown",
   "id": "f7368d70",
   "metadata": {
    "slideshow": {
     "slide_type": "slide"
    }
   },
   "source": [
    "# Firebase: Firestore"
   ]
  },
  {
   "cell_type": "markdown",
   "id": "5d4283f3",
   "metadata": {
    "slideshow": {
     "slide_type": "slide"
    }
   },
   "source": [
    "## Firebase\n",
    "\n",
    "Firebase est un `backend` complet créer par `Google`. Il propose plusieurs services pour faciliter le développement d'applications mobiles et web. Parmi ces services, on trouve `Firebase Firestore` qui est une `base de données` `NoSQL` en temps réel."
   ]
  },
  {
   "cell_type": "markdown",
   "id": "99cc9ad9",
   "metadata": {
    "slideshow": {
     "slide_type": "slide"
    }
   },
   "source": [
    "## Base de donnée\n",
    "\n",
    "Une base de donnée est une entitée qui permet de stocker des données. Il existe plusieurs types de base de données, parmi lesquels on trouve les bases de données `NoSQL` et les bases de données `SQL`.\n",
    "\n",
    "Une base de données permet aussi de `query` des données et de les manipuler. La base de donnée ordonne les données afin que les calcus et les `queries` se fassent rapidement."
   ]
  },
  {
   "cell_type": "markdown",
   "id": "2a9612c1",
   "metadata": {
    "slideshow": {
     "slide_type": "slide"
    }
   },
   "source": [
    "## SQL vs NoSQL"
   ]
  },
  {
   "cell_type": "markdown",
   "id": "9e0f4dca",
   "metadata": {
    "slideshow": {
     "slide_type": "fragment"
    }
   },
   "source": [
    "NoSQL != No SQL"
   ]
  },
  {
   "cell_type": "markdown",
   "id": "11ad46f1",
   "metadata": {
    "slideshow": {
     "slide_type": "fragment"
    }
   },
   "source": [
    "NoSQL = Not only SQL"
   ]
  },
  {
   "cell_type": "markdown",
   "id": "0f64a3ce",
   "metadata": {
    "slideshow": {
     "slide_type": "slide"
    }
   },
   "source": [
    "## Les base de données SQL\n",
    "\n",
    "Les bases de données `SQL` sont des bases de données relationnelles.\n",
    "- Stockage structuré avec des tables (lignes et colonnes)\n",
    "- Utilisation d'un language de requête structuré (`SQL`) pour effectuer des `queries` (gérer les données)\n",
    "- Assure l'intégrité des données en utilisant des contraintes telles que les clés étrangères, les clés primaires, les contraintes d'unicité, etc.\n",
    "- Adapter aux application avec des schémas fixes et des transactions complexes"
   ]
  },
  {
   "cell_type": "markdown",
   "id": "ca91f2a0",
   "metadata": {
    "slideshow": {
     "slide_type": "slide"
    }
   },
   "source": [
    "## Les base de données NoSQL\n",
    "\n",
    "Les bases de données `NoSQL` sont des bases de données non relationnelles.\n",
    "- Stockage non structuré avec des documents, des colonnes, des paires clé-valeur ou des graphes\n",
    "- Pas de language de requête standardisé, mais souvent un moyen de requête spécifique au model de donnée utilisé\n",
    "- Évite les contrainte rigides pour permettre une évolution horizontale (ajout de serveurs) et une flexibilité des données\n",
    "- Adapté aux applications nécessitant une grande évolutivité, une flexibilité de schéma et une vitesse de lecture/écriture élevée"
   ]
  },
  {
   "cell_type": "markdown",
   "id": "40c5e791",
   "metadata": {
    "slideshow": {
     "slide_type": "slide"
    }
   },
   "source": [
    "### Example SQL\n",
    "\n",
    "![sql_example](./imgs/model_sql.png)"
   ]
  },
  {
   "cell_type": "markdown",
   "id": "aeffc5c3",
   "metadata": {
    "slideshow": {
     "slide_type": "slide"
    }
   },
   "source": [
    "### Example NoSQL\n",
    "\n",
    "![nosql_example](./imgs/model_nosql.png)"
   ]
  },
  {
   "cell_type": "markdown",
   "id": "273de3ff",
   "metadata": {
    "slideshow": {
     "slide_type": "slide"
    }
   },
   "source": [
    "## Conclusion\n",
    "\n",
    "- En résumé, les base de données `SQL` et `NoSQL` diffèrent dans leur approche de stockage et de gestion de données\n",
    "- Les bases de données `SQL` sont structurées, utilisent le language `SQL` garantissent l'intégrité des données et sont adaptées aux applications avec des schémas fixes et des transactions complexes\n",
    "- D'un autre côté, les bases de données NoSQL oﬀrent une plus grande ﬂexibilité de schéma, une évolutivité horizontale et des modèles de données spéciﬁques. Elles sont adaptées aux applications nécessitant une grande évolutivité, une ﬂexibilité de schéma et une vitesse de lecture/écriture élevée. \n",
    "- Il est important de choisir le type de base de données qui correspond le mieux aux besoins spéciﬁques de votre application, en tenant compte des exigences en termes de structure des données, de performances, d'évolutivité et de ﬂexibilité."
   ]
  },
  {
   "cell_type": "markdown",
   "id": "68c652db",
   "metadata": {
    "slideshow": {
     "slide_type": "slide"
    }
   },
   "source": [
    "## Pre-requis pour utiliser Firebase 1/2\n",
    "\n",
    "1. Avoir un compte `Google`\n",
    "2. [Créer un nouveau projet](https://console.firebase.google.com/)\n",
    "3. Mettre un nom à votre projet\n",
    "4. Désactiver `Google Analytics` si vous ne souhaitez pas l'utiliser\n",
    "5. Cliquer sur `Créer un projet`"
   ]
  },
  {
   "cell_type": "markdown",
   "id": "3ec7ff61",
   "metadata": {
    "slideshow": {
     "slide_type": "slide"
    }
   },
   "source": [
    "## Pre-requis pour utiliser Firebase 2/2\n",
    "\n",
    "1. Cliquer sur `Créer une application` (web)\n",
    "2. Choissisez un nom pour votre application\n",
    "3. Désactivez `Firebase Hosting` si vous ne souhaitez pas l'utiliser\n",
    "4. Cliquer sur `Enregistrer`"
   ]
  },
  {
   "cell_type": "markdown",
   "id": "98714c54",
   "metadata": {
    "slideshow": {
     "slide_type": "slide"
    }
   },
   "source": [
    "## Pré-requis pour utiliser Firebase Firestore\n",
    "\n",
    "1. Ouvrez l'accordéon `Développer` dans le menu de gauche\n",
    "2. Cliquer sur `Firestore Database`\n",
    "3. Cliquer sur `Créer une base de données`\n",
    "   1. Séléctionnez une région (europe-west6 (Zurich))\n",
    "   2. Séléctionnez le mode `Test`\n",
    "   \n",
    "Doc de référence: [Firebase](https://firebase.google.com/docs/firestore/quickstart?authuser=0)"
   ]
  },
  {
   "cell_type": "markdown",
   "id": "673f74da",
   "metadata": {
    "slideshow": {
     "slide_type": "slide"
    }
   },
   "source": [
    "![firestore_Screen](./imgs/firestore_screen0.png)"
   ]
  },
  {
   "cell_type": "markdown",
   "id": "f9f811ab",
   "metadata": {
    "slideshow": {
     "slide_type": "slide"
    }
   },
   "source": [
    "## Connecter Firebase et Python\n",
    "\n",
    "1. En etant dans le bon environement `conda`\n",
    "2. Installer le package `firebase-admin` en utilisant `pip`\n",
    "   ```bash\n",
    "   pip install firebase-admin\n",
    "    ```"
   ]
  },
  {
   "cell_type": "markdown",
   "id": "109a99ce",
   "metadata": {
    "slideshow": {
     "slide_type": "slide"
    }
   },
   "source": [
    "## Connecter Firebase et Python\n",
    "\n",
    "1. Télécharger les `credentials` de votre projet `Firebase`\n",
    "   1. Cliquer sur `Paramètres du projet`\n",
    "   2. Cliquer sur `Comptes de service`\n",
    "   3. Cliquer sur `Générer une nouvelle clé privée`\n",
    "   4. Enregistrer le fichier `json` dans un endroit sûr"
   ]
  },
  {
   "cell_type": "markdown",
   "id": "9f732abc",
   "metadata": {
    "slideshow": {
     "slide_type": "slide"
    }
   },
   "source": [
    "![firestore_Screen](./imgs/firestore_integration.png)"
   ]
  },
  {
   "cell_type": "code",
   "execution_count": 1,
   "id": "918dcc5c",
   "metadata": {
    "slideshow": {
     "slide_type": "slide"
    }
   },
   "outputs": [
    {
     "data": {
      "text/plain": [
       "<firebase_admin.App at 0x1059efc40>"
      ]
     },
     "execution_count": 1,
     "metadata": {},
     "output_type": "execute_result"
    }
   ],
   "source": [
    "# Connection a firebase\n",
    "import firebase_admin\n",
    "from firebase_admin import credentials\n",
    "\n",
    "cred = credentials.Certificate(\"./asdf_cred.json\")\n",
    "firebase_admin.initialize_app(cred)"
   ]
  },
  {
   "cell_type": "code",
   "execution_count": 2,
   "id": "5cab1367",
   "metadata": {
    "slideshow": {
     "slide_type": "slide"
    }
   },
   "outputs": [
    {
     "data": {
      "text/plain": [
       "<google.cloud.firestore_v1.client.Client at 0x106251360>"
      ]
     },
     "execution_count": 2,
     "metadata": {},
     "output_type": "execute_result"
    }
   ],
   "source": [
    "# Connection a firestore\n",
    "from firebase_admin import firestore\n",
    "db = firestore.client()\n",
    "db"
   ]
  },
  {
   "cell_type": "markdown",
   "id": "8d57223e",
   "metadata": {
    "slideshow": {
     "slide_type": "slide"
    }
   },
   "source": [
    "## CRUD | Create, Read, Update, Delete\n",
    "\n",
    "Le `CRUD` est un acronyme pour `Create`, `Read`, `Update` et `Delete`. Il est utilisé pour décrire les fonctions de base d'un système de base de données."
   ]
  },
  {
   "cell_type": "markdown",
   "id": "6e6c71b0",
   "metadata": {
    "slideshow": {
     "slide_type": "slide"
    }
   },
   "source": [
    "## CRUD | Create, Read, Update, Delete\n",
    "\n",
    "Voici les fonctions `Firestore` associées à chaque opération `CRUD`:\n",
    "- `C`: add(); set()\n",
    "- `R`: get(); stream()\n",
    "- `U`: update(); set()\n",
    "- `D`: delete()\n",
    "\n",
    "> **/!\\ Note: La focntion `set()` se retrouve à la fois dans `create` et dans `update`**"
   ]
  },
  {
   "cell_type": "markdown",
   "id": "5e09b322",
   "metadata": {
    "slideshow": {
     "slide_type": "slide"
    }
   },
   "source": [
    "### Collections et Documents\n",
    "\n",
    "- `Collection`: Un groupe de documents\n",
    "- `Document`: Un ensemble de champs clé-valeur (comme des dictionnaires python)"
   ]
  },
  {
   "cell_type": "markdown",
   "id": "01d4e726",
   "metadata": {
    "slideshow": {
     "slide_type": "slide"
    }
   },
   "source": [
    "### Collections reference\n",
    "\n",
    "Quand on veut travailler avec une collection, on utilise une `collection reference`. C'est un objet qui permet de faire des opérations sur une collection.\n",
    "\n",
    "```python\n",
    "from firebase_admin import firestore\n",
    "\n",
    "db = firestore.client()\n",
    "collection_ref = db.collection('users')\n",
    "```\n",
    "\n",
    "Where `users` est le nom de la collection."
   ]
  },
  {
   "cell_type": "markdown",
   "id": "7c1aabe7",
   "metadata": {
    "slideshow": {
     "slide_type": "slide"
    }
   },
   "source": [
    "### Documents reference\n",
    "\n",
    "Quand on veut travailler avec un document, on utilise une `document reference`. C'est un objet qui permet de faire des opérations sur un document.\n",
    "\n",
    "```python\n",
    "from firebase_admin import firestore\n",
    "\n",
    "db = firestore.client()\n",
    "doc_ref = db.collection('users').document('user1')\n",
    "```\n",
    "\n",
    "Where `users` est le nom de la collection et `user1` est le nom (id) du document."
   ]
  },
  {
   "cell_type": "markdown",
   "id": "04607223",
   "metadata": {
    "slideshow": {
     "slide_type": "slide"
    }
   },
   "source": [
    "## Create a document\n",
    "### `add()`\n",
    "\n",
    "La méthode add permet d'ajouter un document à une collection. **Elle `génère` un identifiant unique pour le document.**\n",
    "\n",
    "La methode `add()` prend en paramètre un dictionnaire qui représente le document à ajouter. et retourne une `reference` et la `date` de création du document."
   ]
  },
  {
   "cell_type": "code",
   "execution_count": 7,
   "id": "2f4c14d2",
   "metadata": {
    "slideshow": {
     "slide_type": "slide"
    }
   },
   "outputs": [
    {
     "name": "stdout",
     "output_type": "stream",
     "text": [
      "<class 'google.cloud.firestore_v1.document.DocumentReference'> <google.cloud.firestore_v1.document.DocumentReference object at 0x108b55b70>\n",
      "Yyj0hifCctFJxtuUsNRZ\n",
      "2024-03-07 16:18:14.363626+00:00\n"
     ]
    }
   ],
   "source": [
    "user1 = {\n",
    "    u'firstname': u'Alan',\n",
    "    u'lastname': u'Turing',\n",
    "    u'born': 1912,\n",
    "    u'died': 1954,\n",
    "    u'papers': [u'On Computable Numbers', u'Computing Machinery and Intelligence'],\n",
    "}\n",
    "col_ref = db.collection(u'users')\n",
    "createdAt, doc = col_ref.add(user1)\n",
    "print(type(doc), doc)\n",
    "print(doc.id)\n",
    "print(createdAt)"
   ]
  },
  {
   "cell_type": "markdown",
   "id": "48297f1d",
   "metadata": {
    "slideshow": {
     "slide_type": "slide"
    }
   },
   "source": [
    "## Create a document\n",
    "### `set()`\n",
    "\n",
    "La méthode set permet d'ajouter un document à une collection. **Elle `utilise` un identifiant unique pour le document.**\n",
    "\n",
    "La methode `set()` prend en paramètre un dictionnaire qui représente le document à ajouter et l'id du document. et retourne une `reference` et la `date` de création du document.\n",
    "\n",
    "La methode `set()` utilise un `document reference` pour ajouter un document."
   ]
  },
  {
   "cell_type": "code",
   "execution_count": 9,
   "id": "a3af4014",
   "metadata": {
    "slideshow": {
     "slide_type": "slide"
    }
   },
   "outputs": [
    {
     "name": "stdout",
     "output_type": "stream",
     "text": [
      "<class 'google.cloud.firestore_v1.types.write.WriteResult'> update_time {\n",
      "  seconds: 1709828524\n",
      "  nanos: 690836000\n",
      "}\n",
      "\n"
     ]
    }
   ],
   "source": [
    "user2 = {\n",
    "    u'firstname': u'Grace',\n",
    "    u'lastname': u'Hopper',\n",
    "    u'born': 1906,\n",
    "    u'died': 1992,\n",
    "    u'papers': [u'Compiler', u'FLOW-MATIC'],\n",
    "}\n",
    "\n",
    "createdAt = db.document(u'users/ghopper').set(user2)\n",
    "createdAt = db.document(u'users', u'ghopper2').set(user2)\n",
    "print(type(createdAt), createdAt)"
   ]
  },
  {
   "cell_type": "markdown",
   "id": "8f74665f",
   "metadata": {
    "slideshow": {
     "slide_type": "slide"
    }
   },
   "source": [
    "## Read a document\n",
    "### `get()`\n",
    "\n",
    "La méthode get permet de lire un document dans une collection. **Elle retourne un objet `snapshot` qui contient les données du document.**\n",
    "\n",
    "La methode `get()` utilise un `document reference` pour lire un document."
   ]
  },
  {
   "cell_type": "code",
   "execution_count": 15,
   "id": "3db98e3d",
   "metadata": {
    "slideshow": {
     "slide_type": "slide"
    }
   },
   "outputs": [
    {
     "name": "stdout",
     "output_type": "stream",
     "text": [
      "<class 'google.cloud.firestore_v1.base_document.DocumentSnapshot'> <google.cloud.firestore_v1.base_document.DocumentSnapshot object at 0x10937bb20>\n",
      "ghopper\n",
      "{'firstname': 'Grace', 'papers': ['Compiler', 'FLOW-MATIC', 'Theory of language'], 'died': 1992, 'born': 1906, 'lastname': 'Hopper'}\n",
      "['Compiler', 'FLOW-MATIC', 'Theory of language']\n",
      "True\n"
     ]
    }
   ],
   "source": [
    "doc = db.collection(u'users').document(u'ghopper').get()\n",
    "#doc2 = db.document(u'users/ghopper').get()\n",
    "print(type(doc), doc)\n",
    "print(doc.id)\n",
    "print(doc.to_dict())\n",
    "print(doc.to_dict()['papers'])\n",
    "print(doc.exists)"
   ]
  },
  {
   "cell_type": "code",
   "execution_count": 14,
   "id": "e4f16190",
   "metadata": {
    "slideshow": {
     "slide_type": "slide"
    }
   },
   "outputs": [
    {
     "name": "stdout",
     "output_type": "stream",
     "text": [
      "<class 'google.cloud.firestore_v1.base_document.DocumentSnapshot'> <google.cloud.firestore_v1.base_document.DocumentSnapshot object at 0x10937abc0>\n",
      "False\n"
     ]
    }
   ],
   "source": [
    "doc = db.collection(u'users').document(u'lovelace').get()\n",
    "print(type(doc), doc)\n",
    "print(doc.exists)"
   ]
  },
  {
   "cell_type": "markdown",
   "id": "a261a478",
   "metadata": {
    "slideshow": {
     "slide_type": "slide"
    }
   },
   "source": [
    "## Read many documents\n",
    "### `stream()`\n",
    "\n",
    "La méthode stream permet de lire plusieurs documents dans une collection. **Elle retourne un generateur d'objet `snapshot` qui contient les données des documents.**\n",
    "\n",
    "La methode `stream()` utilise un `collection reference` pour lire plusieurs documents."
   ]
  },
  {
   "cell_type": "code",
   "execution_count": 18,
   "id": "e2c4600e",
   "metadata": {
    "slideshow": {
     "slide_type": "slide"
    }
   },
   "outputs": [
    {
     "name": "stdout",
     "output_type": "stream",
     "text": [
      "<class 'generator'> <generator object Query.stream at 0x109da6c70>\n",
      "Yyj0hifCctFJxtuUsNRZ => {'firstname': 'Alan', 'papers': ['On Computable Numbers', 'Computing Machinery and Intelligence'], 'died': 1954, 'born': 1912, 'lastname': 'Turing'}\n",
      "ghopper => {'firstname': 'Grace', 'papers': ['Compiler', 'FLOW-MATIC', 'Theory of language'], 'died': 1992, 'born': 1906, 'lastname': 'Hopper'}\n",
      "ghopper2 => {'firstname': 'Grace', 'papers': ['Compiler', 'FLOW-MATIC'], 'died': 1992, 'born': 1906, 'lastname': 'Hopper'}\n"
     ]
    }
   ],
   "source": [
    "docs = db.collection(u'users').stream()\n",
    "print(type(docs), docs)\n",
    "#print(len(docs))\n",
    "for doc in docs:\n",
    "    print(f'{doc.id} => {doc.to_dict()}')"
   ]
  },
  {
   "cell_type": "markdown",
   "id": "5ed11cc9",
   "metadata": {
    "slideshow": {
     "slide_type": "fragment"
    }
   },
   "source": [
    "ici nous utilisons `stream()` (**generateur**) pour lire tous les documents de la collection. A chaques fois que la boucle for accède a un document elle appelle le document -> pas de possibilité de savoir la taille de la collection."
   ]
  },
  {
   "cell_type": "code",
   "execution_count": 3,
   "id": "cc33607f",
   "metadata": {
    "slideshow": {
     "slide_type": "slide"
    }
   },
   "outputs": [
    {
     "name": "stdout",
     "output_type": "stream",
     "text": [
      "<class 'list'> [<google.cloud.firestore_v1.base_document.DocumentSnapshot object at 0x107b5b400>, <google.cloud.firestore_v1.base_document.DocumentSnapshot object at 0x107b5b490>, <google.cloud.firestore_v1.base_document.DocumentSnapshot object at 0x107b5b5e0>]\n",
      "3\n"
     ]
    }
   ],
   "source": [
    "docs_with_len2 = db.collection(u'users').get()\n",
    "print(type(docs_with_len2), docs_with_len2)\n",
    "print(len(docs_with_len2))"
   ]
  },
  {
   "cell_type": "markdown",
   "id": "c53fdd24",
   "metadata": {
    "slideshow": {
     "slide_type": "slide"
    }
   },
   "source": [
    "## Update a document\n",
    "### `update()`\n",
    "\n",
    "La méthode update permet de mettre à jour un document dans une collection. **Elle prend en paramètre un dictionnaire qui représente les champs à mettre à jour.**\n",
    "\n",
    "La methode `update()` met a jour uniquement les clés renseinées dans le dictionnaire.\n",
    "  - Si la clé existe déja dans le document, elle est mise à jour\n",
    "  - Si la clé n'existe pas dans le document, elle est ajoutée\n",
    "\n",
    "La methode `update()` utilise un `document reference` pour mettre à jour un document."
   ]
  },
  {
   "cell_type": "code",
   "execution_count": 15,
   "id": "1c23d42b",
   "metadata": {
    "slideshow": {
     "slide_type": "slide"
    }
   },
   "outputs": [
    {
     "name": "stdout",
     "output_type": "stream",
     "text": [
      "{'firstname': 'Grasse', 'papers': ['Compiler', 'FLOW-MATIC', 'Theory of language'], 'died': 1992, 'born': 2215, 'lastname': 'Hopper'}\n",
      "{'firstname': 'Grasse', 'papers': ['Compiler', 'FLOW-MATIC', 'Theory of language'], 'died': 1992, 'born': 2215, 'lastname': 'Hopper'}\n"
     ]
    }
   ],
   "source": [
    "ghopper_before = db.collection(u'users').document(u'ghopper').get().to_dict()\n",
    "update_data = {u'born': 2215, u'firstname': 'Grasse'}\n",
    "print(ghopper_before)\n",
    "updatedAt = db.collection(u'users').document(u'ghopper').update(update_data)\n",
    "ghopper_after = db.collection(u'users').document(u'ghopper').get().to_dict()\n",
    "print(ghopper_after)\n"
   ]
  },
  {
   "cell_type": "code",
   "execution_count": 17,
   "id": "e0ffe595",
   "metadata": {
    "slideshow": {
     "slide_type": "slide"
    }
   },
   "outputs": [
    {
     "name": "stdout",
     "output_type": "stream",
     "text": [
      "{'firstname': 'Grasse', 'papers': ['Compiler', 'FLOW-MATIC', 'Theory of language'], 'died': 1992, 'born': 2215, 'lastname': 'Hopper', 'hobbies': ['computers', 'music', 'sports']}\n",
      "{'lastname': 'Hopper', 'born': 2215, 'firstname': 'Grasse', 'papers': ['Compiler', 'FLOW-MATIC', 'Theory of language'], 'died': 1992, 'test': 'test', 'hobbies': ['music', 'sports']}\n"
     ]
    }
   ],
   "source": [
    "ghopper_before = db.collection(u'users').document(u'ghopper').get().to_dict()\n",
    "print(ghopper_before)\n",
    "update_data = {u'hobbies': ['music', 'sports'], \"test\": \"test\"}\n",
    "updatedAt = db.collection(u'users').document(u'ghopper').update(update_data)\n",
    "ghopper_after = db.collection(u'users').document(u'ghopper').get().to_dict()\n",
    "print(ghopper_after)"
   ]
  },
  {
   "cell_type": "markdown",
   "id": "7f6efe3f",
   "metadata": {
    "slideshow": {
     "slide_type": "slide"
    }
   },
   "source": [
    "## Update a document\n",
    "### `set()`\n",
    "\n",
    "La méthode set permet de mettre à jour un document dans une collection. **Elle prend en paramètre un dictionnaire qui représente les champs à mettre à jour.**\n",
    "\n",
    "La methode `set()` (comme son nom l'indique) prend le dictionnaire en paramètre et le remplace set ce dictionsnaire comme étant le nouveau document.\n",
    "  - Si le document existe déja, il est remplacé (on dit que le nouveau dictionnaire overrite l'ancien)\n",
    "  - Si le document n'existe pas, il est créé (Cas déjà vu dans le `create`)\n",
    "\n",
    "La methode `set()` utilise un `document reference` pour mettre à jour un document."
   ]
  },
  {
   "cell_type": "code",
   "execution_count": 19,
   "id": "7ee189c4",
   "metadata": {
    "slideshow": {
     "slide_type": "slide"
    }
   },
   "outputs": [
    {
     "name": "stdout",
     "output_type": "stream",
     "text": [
      "{'born': 3030}\n",
      "{'firstname': 'Ada', 'papers': ['Analytical Engine'], 'died': 1852, 'born': 1815, 'lastname': 'Lovelace'}\n"
     ]
    }
   ],
   "source": [
    "update_data = {u'born': 3030}\n",
    "ada_data = {u'firstname': u'Ada', u'lastname': u'Lovelace', u'born': 1815, u'died': 1852, u'papers': [u'Analytical Engine']}\n",
    "doc_ref = db.collection(u'users').document(u'ghopper2')\n",
    "ghopper_before = doc_ref.get().to_dict()\n",
    "print(ghopper_before)\n",
    "doc = doc_ref.set(ada_data)\n",
    "ghopper_after = doc_ref.get().to_dict()\n",
    "print(ghopper_after)"
   ]
  },
  {
   "cell_type": "markdown",
   "id": "45b828f8",
   "metadata": {
    "slideshow": {
     "slide_type": "slide"
    }
   },
   "source": [
    "## Delete a document\n",
    "### `delete()`\n",
    "\n",
    "La méthode delete permet de supprimer un document dans une collection.\n",
    "\n",
    "La methode `delete()` utilise un `document reference` pour supprimer un document."
   ]
  },
  {
   "cell_type": "code",
   "execution_count": 20,
   "id": "e9c67fe0",
   "metadata": {
    "slideshow": {
     "slide_type": "slide"
    }
   },
   "outputs": [
    {
     "name": "stdout",
     "output_type": "stream",
     "text": [
      "{'firstname': 'Ada', 'papers': ['Analytical Engine'], 'died': 1852, 'born': 1815, 'lastname': 'Lovelace'}\n",
      "None\n"
     ]
    }
   ],
   "source": [
    "doc_ref = db.collection(u'users').document(u'ghopper2')\n",
    "ghopper_before = doc_ref.get().to_dict()\n",
    "print(ghopper_before)\n",
    "doc = doc_ref.delete()\n",
    "ghopper_after = doc_ref.get().to_dict()\n",
    "print(ghopper_after)"
   ]
  },
  {
   "cell_type": "markdown",
   "id": "f0180e20",
   "metadata": {
    "slideshow": {
     "slide_type": "slide"
    }
   },
   "source": [
    "## Good Practices\n",
    "\n",
    "Maintenant que l'on a vu le `CRUD` avec `Firestore`, voici une bonne pratique."
   ]
  },
  {
   "cell_type": "code",
   "execution_count": 21,
   "id": "d0eae4f4",
   "metadata": {
    "slideshow": {
     "slide_type": "slide"
    }
   },
   "outputs": [],
   "source": [
    "class City:\n",
    "    def __init__(self, name, state, country, capital=False, population=0, regions=[]):\n",
    "        self.name = name\n",
    "        self.state = state\n",
    "        self.country = country\n",
    "        self.capital = capital\n",
    "        self.population = population\n",
    "        self.regions = regions\n",
    "\n",
    "    @staticmethod\n",
    "    def from_dict(source: dict):\n",
    "        pass\n",
    "\n",
    "    def to_dict(self) -> dict:\n",
    "        return {\n",
    "            u'name': self.name,\n",
    "            u'state': self.state,\n",
    "            u'country': self.country,\n",
    "            u'capital': self.capital,\n",
    "            u'population': self.population,\n",
    "            u'regions': self.regions,\n",
    "        }\n",
    "\n",
    "    def __repr__(self):\n",
    "      return f\"\"\"City(\\\n",
    "              name={self.name},\n",
    "              country={self.country},\n",
    "              population={self.population},\n",
    "              capital={self.capital},\n",
    "              regions={self.regions}\n",
    "          )\"\"\"\n"
   ]
  },
  {
   "cell_type": "markdown",
   "id": "a00b90ce",
   "metadata": {
    "slideshow": {
     "slide_type": "slide"
    }
   },
   "source": [
    "Ici on a une classe qui permet de gerer les documents d'une collection. La collection ici semble être `cities`. La classe implement deux fonctions:\n",
    "  - `from_dict`: qui prend un dict en paramètre et retourne une instance de la classe `City`\n",
    "  - `to_dict`: qui retourne un dict qui représente l'instance de la classe `City`\n",
    "\n",
    "Cette approche permet de mieux structurer le code et de mieux gérer les données. Les données a ajouter seront toujours des instances de la classe `City` et utiliseront toujours la même methode pour generer les dictionnaies.\n"
   ]
  },
  {
   "cell_type": "markdown",
   "id": "30a6c737",
   "metadata": {
    "slideshow": {
     "slide_type": "slide"
    }
   },
   "source": [
    "### Ajout de données"
   ]
  },
  {
   "cell_type": "code",
   "execution_count": 22,
   "id": "5dfd8000",
   "metadata": {
    "slideshow": {
     "slide_type": "slide"
    }
   },
   "outputs": [
    {
     "name": "stdout",
     "output_type": "stream",
     "text": [
      "Cities Inserted\n"
     ]
    }
   ],
   "source": [
    "cities_ref = db.collection(\"cities\")\n",
    "cities_ref.document(\"BJ\").set(\n",
    "    City(\"Beijing\", None, \"China\", True, 21500000, [\"hebei\"]).to_dict()\n",
    ")\n",
    "cities_ref.document(\"SF\").set(\n",
    "    City(\n",
    "        \"San Francisco\", \"CA\", \"USA\", False, 860000, [\"west_coast\", \"norcal\"]\n",
    "    ).to_dict()\n",
    ")\n",
    "cities_ref.document(\"LA\").set(\n",
    "    City(\n",
    "        \"Los Angeles\", \"CA\", \"USA\", False, 3900000, [\"west_coast\", \"socal\"]\n",
    "    ).to_dict()\n",
    ")\n",
    "cities_ref.document(\"DC\").set(\n",
    "    City(\"Washington D.C.\", None, \"USA\", True, 680000, [\"east_coast\"]).to_dict()\n",
    ")\n",
    "cities_ref.document(\"TOK\").set(\n",
    "    City(\"Tokyo\", None, \"Japan\", True, 9000000, [\"kanto\", \"honshu\"]).to_dict()\n",
    ")\n",
    "\n",
    "print(\"Cities Inserted\")"
   ]
  },
  {
   "cell_type": "markdown",
   "id": "e5cd4eea",
   "metadata": {
    "slideshow": {
     "slide_type": "slide"
    }
   },
   "source": [
    "## Queries\n",
    "\n",
    "Les `queries` permettent de filtrer les données d'une collection. Elles permettent de récupérer des documents qui respectent certaines conditions.\n",
    "\n",
    "Pour creer une query, on utilise la methode `where` de la `collection reference`. Cette methode prend 3 paramètres:\n",
    "  - Le nom du champ sur lequel on veut faire la condition (clé du dictionnaire)\n",
    "  - L'opérateur de comparaison au format `string`\n",
    "  - La valeur de comparaison (valeur du dictionnaire)"
   ]
  },
  {
   "cell_type": "markdown",
   "id": "08575ef0",
   "metadata": {
    "slideshow": {
     "slide_type": "slide"
    }
   },
   "source": [
    "### Queries operators\n",
    "\n",
    "Voici les opérateurs de comparaison disponibles:\n",
    "  - `<`: inférieur\n",
    "  - `<=`: inférieur ou égal\n",
    "  - `==`: égal\n",
    "  - `>`: supérieur\n",
    "  - `>=`: supérieur ou égal\n",
    "  - `!=`: différent\n",
    "  - `array_contains`: Si le champ est un tableau, permet de vérifier si la valeur est dans le tableau\n",
    "  - `array_contains_any`: Si le champ est un tableau, permet de vérifier si la valeur est dans une liste de valeurs\n",
    "  - `in`: Si la valeur est dans une liste de valeurs\n",
    "  - `not-in`: Si la valeur n'est pas dans une liste de valeurs"
   ]
  },
  {
   "cell_type": "markdown",
   "id": "2f86e419",
   "metadata": {
    "slideshow": {
     "slide_type": "slide"
    }
   },
   "source": [
    "### Simple queries\n",
    "\n",
    "Les `simple queries` permettent de récupérer des documents qui respectent une seule condition.\n",
    "\n",
    "La query suivant retourne toutes les villes dans l'etat de Californie (CA)"
   ]
  },
  {
   "cell_type": "code",
   "execution_count": 24,
   "id": "babf84c5",
   "metadata": {
    "slideshow": {
     "slide_type": "slide"
    }
   },
   "outputs": [
    {
     "name": "stdout",
     "output_type": "stream",
     "text": [
      "<class 'google.cloud.firestore_v1.query.Query'>\n"
     ]
    }
   ],
   "source": [
    "# Create a reference to the cities collection\n",
    "cities_ref = db.collection(\"cities\")\n",
    "\n",
    "# Create a query against the collection\n",
    "query_ca = cities_ref.where(\"state\", \"==\", \"CA\")\n",
    "print(type(query_ca))"
   ]
  },
  {
   "cell_type": "markdown",
   "id": "31561cdc",
   "metadata": {
    "slideshow": {
     "slide_type": "slide"
    }
   },
   "source": [
    "Ici nous avons un objet de type `Query`"
   ]
  },
  {
   "cell_type": "markdown",
   "id": "4c9af24b",
   "metadata": {
    "slideshow": {
     "slide_type": "slide"
    }
   },
   "source": [
    "### Simple queries 2\n",
    "\n",
    "La query suivante retourne toute les villes qui sont une capitale"
   ]
  },
  {
   "cell_type": "code",
   "execution_count": 25,
   "id": "8602b689",
   "metadata": {},
   "outputs": [],
   "source": [
    "cities_ref = db.collection(\"cities\")\n",
    "\n",
    "query_capital = cities_ref.where(\"capital\", \"==\", True)"
   ]
  },
  {
   "cell_type": "markdown",
   "id": "189c1064",
   "metadata": {
    "slideshow": {
     "slide_type": "slide"
    }
   },
   "source": [
    "### Execute a query\n",
    "\n",
    "Pour executer une query, on utilise la methode `stream()` de l'objet `Query`. Cette methode retourne un generateur d'objet `snapshot` qui contient les données des documents."
   ]
  },
  {
   "cell_type": "code",
   "execution_count": 26,
   "id": "7ebd880a",
   "metadata": {
    "scrolled": true
   },
   "outputs": [
    {
     "name": "stdout",
     "output_type": "stream",
     "text": [
      "Cities in California:\n",
      "LA => {'capital': False, 'name': 'Los Angeles', 'state': 'CA', 'regions': ['west_coast', 'socal'], 'population': 3900000, 'country': 'USA'}\n",
      "SF => {'capital': False, 'name': 'San Francisco', 'state': 'CA', 'regions': ['west_coast', 'norcal'], 'population': 860000, 'country': 'USA'}\n"
     ]
    }
   ],
   "source": [
    "docs_ca = query_ca.stream()\n",
    "\n",
    "print(\"Cities in California:\")\n",
    "for doc in docs_ca:\n",
    "    print(f\"{doc.id} => {doc.to_dict()}\")"
   ]
  },
  {
   "cell_type": "code",
   "execution_count": 27,
   "id": "eca9162b",
   "metadata": {
    "scrolled": false
   },
   "outputs": [
    {
     "name": "stdout",
     "output_type": "stream",
     "text": [
      "<class 'generator'> <generator object Query.stream at 0x107d593f0>\n",
      "BJ => {'capital': True, 'name': 'Beijing', 'state': None, 'regions': ['hebei'], 'population': 21500000, 'country': 'China'}\n",
      "DC => {'capital': True, 'name': 'Washington D.C.', 'state': None, 'regions': ['east_coast'], 'population': 680000, 'country': 'USA'}\n",
      "TOK => {'capital': True, 'name': 'Tokyo', 'state': None, 'regions': ['kanto', 'honshu'], 'population': 9000000, 'country': 'Japan'}\n"
     ]
    }
   ],
   "source": [
    "docs = query_capital.stream()\n",
    "print(type(docs), docs)\n",
    "for doc in docs:\n",
    "    print(f'{doc.id} => {doc.to_dict()}')"
   ]
  },
  {
   "cell_type": "markdown",
   "id": "38e66c7b",
   "metadata": {
    "slideshow": {
     "slide_type": "slide"
    }
   },
   "source": [
    "## Multiple queries\n",
    "\n",
    "Les `multiple queries` permettent de récupérer des documents qui respectent plusieurs conditions. Pour se faire il faut utiliser la methode `where` plusieurs fois. On peut voir ca comme des `AND` entre les conditions.\n",
    "\n",
    "**Limitation de Firebase:** Firebase ne permet pas de faire des `multiple queries` sur des types différents. C'est à dire que l'on ne peut pas faire une query qui retourne les villes qui sont capitales et qui sont dans l'etat de Californie."
   ]
  },
  {
   "cell_type": "code",
   "execution_count": 29,
   "id": "6b3ddb69",
   "metadata": {
    "slideshow": {
     "slide_type": "slide"
    }
   },
   "outputs": [
    {
     "name": "stderr",
     "output_type": "stream",
     "text": [
      "/var/folders/w3/5hy6_w9d52l2jjrccrpq3z0h0000gn/T/ipykernel_19877/3182654320.py:1: UserWarning: Detected filter using positional arguments. Prefer using the 'filter' keyword argument instead.\n",
      "  multiple_queries_fail = cities_ref.where(\"state\", \"==\", \"CA\").where(\"population\", \"<\", 1000000).stream()\n"
     ]
    },
    {
     "name": "stdout",
     "output_type": "stream",
     "text": [
      "<class 'generator'> <generator object Query.stream at 0x1088cccf0>\n"
     ]
    },
    {
     "ename": "FailedPrecondition",
     "evalue": "400 The query requires an index. You can create it here: https://console.firebase.google.com/v1/r/project/flaskwebweek/firestore/indexes?create_composite=Cktwcm9qZWN0cy9mbGFza3dlYndlZWsvZGF0YWJhc2VzLyhkZWZhdWx0KS9jb2xsZWN0aW9uR3JvdXBzL2NpdGllcy9pbmRleGVzL18QARoJCgVzdGF0ZRABGg4KCnBvcHVsYXRpb24QARoMCghfX25hbWVfXxAB",
     "output_type": "error",
     "traceback": [
      "\u001b[0;31m---------------------------------------------------------------------------\u001b[0m",
      "\u001b[0;31mFailedPrecondition\u001b[0m                        Traceback (most recent call last)",
      "Cell \u001b[0;32mIn[29], line 3\u001b[0m\n\u001b[1;32m      1\u001b[0m multiple_queries_fail \u001b[38;5;241m=\u001b[39m cities_ref\u001b[38;5;241m.\u001b[39mwhere(\u001b[38;5;124m\"\u001b[39m\u001b[38;5;124mstate\u001b[39m\u001b[38;5;124m\"\u001b[39m, \u001b[38;5;124m\"\u001b[39m\u001b[38;5;124m==\u001b[39m\u001b[38;5;124m\"\u001b[39m, \u001b[38;5;124m\"\u001b[39m\u001b[38;5;124mCA\u001b[39m\u001b[38;5;124m\"\u001b[39m)\u001b[38;5;241m.\u001b[39mwhere(\u001b[38;5;124m\"\u001b[39m\u001b[38;5;124mpopulation\u001b[39m\u001b[38;5;124m\"\u001b[39m, \u001b[38;5;124m\"\u001b[39m\u001b[38;5;124m<\u001b[39m\u001b[38;5;124m\"\u001b[39m, \u001b[38;5;241m1000000\u001b[39m)\u001b[38;5;241m.\u001b[39mstream()\n\u001b[1;32m      2\u001b[0m \u001b[38;5;28mprint\u001b[39m(\u001b[38;5;28mtype\u001b[39m(multiple_queries_fail), multiple_queries_fail)\n\u001b[0;32m----> 3\u001b[0m \u001b[38;5;28;01mfor\u001b[39;00m doc \u001b[38;5;129;01min\u001b[39;00m multiple_queries_fail:\n\u001b[1;32m      4\u001b[0m     \u001b[38;5;28mprint\u001b[39m(\u001b[38;5;124mf\u001b[39m\u001b[38;5;124m'\u001b[39m\u001b[38;5;132;01m{\u001b[39;00mdoc\u001b[38;5;241m.\u001b[39mid\u001b[38;5;132;01m}\u001b[39;00m\u001b[38;5;124m => \u001b[39m\u001b[38;5;132;01m{\u001b[39;00mdoc\u001b[38;5;241m.\u001b[39mto_dict()\u001b[38;5;132;01m}\u001b[39;00m\u001b[38;5;124m'\u001b[39m)\n",
      "File \u001b[0;32m~/miniconda3/envs/nomades_env_course/lib/python3.10/site-packages/google/cloud/firestore_v1/query.py:320\u001b[0m, in \u001b[0;36mQuery.stream\u001b[0;34m(self, transaction, retry, timeout)\u001b[0m\n\u001b[1;32m    284\u001b[0m \u001b[38;5;28;01mdef\u001b[39;00m \u001b[38;5;21mstream\u001b[39m(\n\u001b[1;32m    285\u001b[0m     \u001b[38;5;28mself\u001b[39m,\n\u001b[1;32m    286\u001b[0m     transaction\u001b[38;5;241m=\u001b[39m\u001b[38;5;28;01mNone\u001b[39;00m,\n\u001b[1;32m    287\u001b[0m     retry: retries\u001b[38;5;241m.\u001b[39mRetry \u001b[38;5;241m=\u001b[39m gapic_v1\u001b[38;5;241m.\u001b[39mmethod\u001b[38;5;241m.\u001b[39mDEFAULT,\n\u001b[1;32m    288\u001b[0m     timeout: \u001b[38;5;28mfloat\u001b[39m \u001b[38;5;241m=\u001b[39m \u001b[38;5;28;01mNone\u001b[39;00m,\n\u001b[1;32m    289\u001b[0m ) \u001b[38;5;241m-\u001b[39m\u001b[38;5;241m>\u001b[39m Generator[document\u001b[38;5;241m.\u001b[39mDocumentSnapshot, Any, \u001b[38;5;28;01mNone\u001b[39;00m]:\n\u001b[1;32m    290\u001b[0m \u001b[38;5;250m    \u001b[39m\u001b[38;5;124;03m\"\"\"Read the documents in the collection that match this query.\u001b[39;00m\n\u001b[1;32m    291\u001b[0m \n\u001b[1;32m    292\u001b[0m \u001b[38;5;124;03m    This sends a ``RunQuery`` RPC and then returns an iterator which\u001b[39;00m\n\u001b[0;32m   (...)\u001b[0m\n\u001b[1;32m    318\u001b[0m \u001b[38;5;124;03m        The next document that fulfills the query.\u001b[39;00m\n\u001b[1;32m    319\u001b[0m \u001b[38;5;124;03m    \"\"\"\u001b[39;00m\n\u001b[0;32m--> 320\u001b[0m     response_iterator, expected_prefix \u001b[38;5;241m=\u001b[39m \u001b[38;5;28;43mself\u001b[39;49m\u001b[38;5;241;43m.\u001b[39;49m\u001b[43m_get_stream_iterator\u001b[49m\u001b[43m(\u001b[49m\n\u001b[1;32m    321\u001b[0m \u001b[43m        \u001b[49m\u001b[43mtransaction\u001b[49m\u001b[43m,\u001b[49m\n\u001b[1;32m    322\u001b[0m \u001b[43m        \u001b[49m\u001b[43mretry\u001b[49m\u001b[43m,\u001b[49m\n\u001b[1;32m    323\u001b[0m \u001b[43m        \u001b[49m\u001b[43mtimeout\u001b[49m\u001b[43m,\u001b[49m\n\u001b[1;32m    324\u001b[0m \u001b[43m    \u001b[49m\u001b[43m)\u001b[49m\n\u001b[1;32m    326\u001b[0m     last_snapshot \u001b[38;5;241m=\u001b[39m \u001b[38;5;28;01mNone\u001b[39;00m\n\u001b[1;32m    328\u001b[0m     \u001b[38;5;28;01mwhile\u001b[39;00m \u001b[38;5;28;01mTrue\u001b[39;00m:\n",
      "File \u001b[0;32m~/miniconda3/envs/nomades_env_course/lib/python3.10/site-packages/google/cloud/firestore_v1/query.py:223\u001b[0m, in \u001b[0;36mQuery._get_stream_iterator\u001b[0;34m(self, transaction, retry, timeout)\u001b[0m\n\u001b[1;32m    216\u001b[0m \u001b[38;5;250m\u001b[39m\u001b[38;5;124;03m\"\"\"Helper method for :meth:`stream`.\"\"\"\u001b[39;00m\n\u001b[1;32m    217\u001b[0m request, expected_prefix, kwargs \u001b[38;5;241m=\u001b[39m \u001b[38;5;28mself\u001b[39m\u001b[38;5;241m.\u001b[39m_prep_stream(\n\u001b[1;32m    218\u001b[0m     transaction,\n\u001b[1;32m    219\u001b[0m     retry,\n\u001b[1;32m    220\u001b[0m     timeout,\n\u001b[1;32m    221\u001b[0m )\n\u001b[0;32m--> 223\u001b[0m response_iterator \u001b[38;5;241m=\u001b[39m \u001b[38;5;28;43mself\u001b[39;49m\u001b[38;5;241;43m.\u001b[39;49m\u001b[43m_client\u001b[49m\u001b[38;5;241;43m.\u001b[39;49m\u001b[43m_firestore_api\u001b[49m\u001b[38;5;241;43m.\u001b[39;49m\u001b[43mrun_query\u001b[49m\u001b[43m(\u001b[49m\n\u001b[1;32m    224\u001b[0m \u001b[43m    \u001b[49m\u001b[43mrequest\u001b[49m\u001b[38;5;241;43m=\u001b[39;49m\u001b[43mrequest\u001b[49m\u001b[43m,\u001b[49m\n\u001b[1;32m    225\u001b[0m \u001b[43m    \u001b[49m\u001b[43mmetadata\u001b[49m\u001b[38;5;241;43m=\u001b[39;49m\u001b[38;5;28;43mself\u001b[39;49m\u001b[38;5;241;43m.\u001b[39;49m\u001b[43m_client\u001b[49m\u001b[38;5;241;43m.\u001b[39;49m\u001b[43m_rpc_metadata\u001b[49m\u001b[43m,\u001b[49m\n\u001b[1;32m    226\u001b[0m \u001b[43m    \u001b[49m\u001b[38;5;241;43m*\u001b[39;49m\u001b[38;5;241;43m*\u001b[39;49m\u001b[43mkwargs\u001b[49m\u001b[43m,\u001b[49m\n\u001b[1;32m    227\u001b[0m \u001b[43m\u001b[49m\u001b[43m)\u001b[49m\n\u001b[1;32m    229\u001b[0m \u001b[38;5;28;01mreturn\u001b[39;00m response_iterator, expected_prefix\n",
      "File \u001b[0;32m~/miniconda3/envs/nomades_env_course/lib/python3.10/site-packages/google/cloud/firestore_v1/services/firestore/client.py:1561\u001b[0m, in \u001b[0;36mFirestoreClient.run_query\u001b[0;34m(self, request, retry, timeout, metadata)\u001b[0m\n\u001b[1;32m   1558\u001b[0m \u001b[38;5;28mself\u001b[39m\u001b[38;5;241m.\u001b[39m_validate_universe_domain()\n\u001b[1;32m   1560\u001b[0m \u001b[38;5;66;03m# Send the request.\u001b[39;00m\n\u001b[0;32m-> 1561\u001b[0m response \u001b[38;5;241m=\u001b[39m \u001b[43mrpc\u001b[49m\u001b[43m(\u001b[49m\n\u001b[1;32m   1562\u001b[0m \u001b[43m    \u001b[49m\u001b[43mrequest\u001b[49m\u001b[43m,\u001b[49m\n\u001b[1;32m   1563\u001b[0m \u001b[43m    \u001b[49m\u001b[43mretry\u001b[49m\u001b[38;5;241;43m=\u001b[39;49m\u001b[43mretry\u001b[49m\u001b[43m,\u001b[49m\n\u001b[1;32m   1564\u001b[0m \u001b[43m    \u001b[49m\u001b[43mtimeout\u001b[49m\u001b[38;5;241;43m=\u001b[39;49m\u001b[43mtimeout\u001b[49m\u001b[43m,\u001b[49m\n\u001b[1;32m   1565\u001b[0m \u001b[43m    \u001b[49m\u001b[43mmetadata\u001b[49m\u001b[38;5;241;43m=\u001b[39;49m\u001b[43mmetadata\u001b[49m\u001b[43m,\u001b[49m\n\u001b[1;32m   1566\u001b[0m \u001b[43m\u001b[49m\u001b[43m)\u001b[49m\n\u001b[1;32m   1568\u001b[0m \u001b[38;5;66;03m# Done; return the response.\u001b[39;00m\n\u001b[1;32m   1569\u001b[0m \u001b[38;5;28;01mreturn\u001b[39;00m response\n",
      "File \u001b[0;32m~/miniconda3/envs/nomades_env_course/lib/python3.10/site-packages/google/api_core/gapic_v1/method.py:131\u001b[0m, in \u001b[0;36m_GapicCallable.__call__\u001b[0;34m(self, timeout, retry, compression, *args, **kwargs)\u001b[0m\n\u001b[1;32m    128\u001b[0m \u001b[38;5;28;01mif\u001b[39;00m \u001b[38;5;28mself\u001b[39m\u001b[38;5;241m.\u001b[39m_compression \u001b[38;5;129;01mis\u001b[39;00m \u001b[38;5;129;01mnot\u001b[39;00m \u001b[38;5;28;01mNone\u001b[39;00m:\n\u001b[1;32m    129\u001b[0m     kwargs[\u001b[38;5;124m\"\u001b[39m\u001b[38;5;124mcompression\u001b[39m\u001b[38;5;124m\"\u001b[39m] \u001b[38;5;241m=\u001b[39m compression\n\u001b[0;32m--> 131\u001b[0m \u001b[38;5;28;01mreturn\u001b[39;00m \u001b[43mwrapped_func\u001b[49m\u001b[43m(\u001b[49m\u001b[38;5;241;43m*\u001b[39;49m\u001b[43margs\u001b[49m\u001b[43m,\u001b[49m\u001b[43m \u001b[49m\u001b[38;5;241;43m*\u001b[39;49m\u001b[38;5;241;43m*\u001b[39;49m\u001b[43mkwargs\u001b[49m\u001b[43m)\u001b[49m\n",
      "File \u001b[0;32m~/miniconda3/envs/nomades_env_course/lib/python3.10/site-packages/google/api_core/retry/retry_unary.py:293\u001b[0m, in \u001b[0;36mRetry.__call__.<locals>.retry_wrapped_func\u001b[0;34m(*args, **kwargs)\u001b[0m\n\u001b[1;32m    289\u001b[0m target \u001b[38;5;241m=\u001b[39m functools\u001b[38;5;241m.\u001b[39mpartial(func, \u001b[38;5;241m*\u001b[39margs, \u001b[38;5;241m*\u001b[39m\u001b[38;5;241m*\u001b[39mkwargs)\n\u001b[1;32m    290\u001b[0m sleep_generator \u001b[38;5;241m=\u001b[39m exponential_sleep_generator(\n\u001b[1;32m    291\u001b[0m     \u001b[38;5;28mself\u001b[39m\u001b[38;5;241m.\u001b[39m_initial, \u001b[38;5;28mself\u001b[39m\u001b[38;5;241m.\u001b[39m_maximum, multiplier\u001b[38;5;241m=\u001b[39m\u001b[38;5;28mself\u001b[39m\u001b[38;5;241m.\u001b[39m_multiplier\n\u001b[1;32m    292\u001b[0m )\n\u001b[0;32m--> 293\u001b[0m \u001b[38;5;28;01mreturn\u001b[39;00m \u001b[43mretry_target\u001b[49m\u001b[43m(\u001b[49m\n\u001b[1;32m    294\u001b[0m \u001b[43m    \u001b[49m\u001b[43mtarget\u001b[49m\u001b[43m,\u001b[49m\n\u001b[1;32m    295\u001b[0m \u001b[43m    \u001b[49m\u001b[38;5;28;43mself\u001b[39;49m\u001b[38;5;241;43m.\u001b[39;49m\u001b[43m_predicate\u001b[49m\u001b[43m,\u001b[49m\n\u001b[1;32m    296\u001b[0m \u001b[43m    \u001b[49m\u001b[43msleep_generator\u001b[49m\u001b[43m,\u001b[49m\n\u001b[1;32m    297\u001b[0m \u001b[43m    \u001b[49m\u001b[43mtimeout\u001b[49m\u001b[38;5;241;43m=\u001b[39;49m\u001b[38;5;28;43mself\u001b[39;49m\u001b[38;5;241;43m.\u001b[39;49m\u001b[43m_timeout\u001b[49m\u001b[43m,\u001b[49m\n\u001b[1;32m    298\u001b[0m \u001b[43m    \u001b[49m\u001b[43mon_error\u001b[49m\u001b[38;5;241;43m=\u001b[39;49m\u001b[43mon_error\u001b[49m\u001b[43m,\u001b[49m\n\u001b[1;32m    299\u001b[0m \u001b[43m\u001b[49m\u001b[43m)\u001b[49m\n",
      "File \u001b[0;32m~/miniconda3/envs/nomades_env_course/lib/python3.10/site-packages/google/api_core/retry/retry_unary.py:153\u001b[0m, in \u001b[0;36mretry_target\u001b[0;34m(target, predicate, sleep_generator, timeout, on_error, exception_factory, **kwargs)\u001b[0m\n\u001b[1;32m    149\u001b[0m \u001b[38;5;66;03m# pylint: disable=broad-except\u001b[39;00m\n\u001b[1;32m    150\u001b[0m \u001b[38;5;66;03m# This function explicitly must deal with broad exceptions.\u001b[39;00m\n\u001b[1;32m    151\u001b[0m \u001b[38;5;28;01mexcept\u001b[39;00m \u001b[38;5;167;01mException\u001b[39;00m \u001b[38;5;28;01mas\u001b[39;00m exc:\n\u001b[1;32m    152\u001b[0m     \u001b[38;5;66;03m# defer to shared logic for handling errors\u001b[39;00m\n\u001b[0;32m--> 153\u001b[0m     \u001b[43m_retry_error_helper\u001b[49m\u001b[43m(\u001b[49m\n\u001b[1;32m    154\u001b[0m \u001b[43m        \u001b[49m\u001b[43mexc\u001b[49m\u001b[43m,\u001b[49m\n\u001b[1;32m    155\u001b[0m \u001b[43m        \u001b[49m\u001b[43mdeadline\u001b[49m\u001b[43m,\u001b[49m\n\u001b[1;32m    156\u001b[0m \u001b[43m        \u001b[49m\u001b[43msleep\u001b[49m\u001b[43m,\u001b[49m\n\u001b[1;32m    157\u001b[0m \u001b[43m        \u001b[49m\u001b[43merror_list\u001b[49m\u001b[43m,\u001b[49m\n\u001b[1;32m    158\u001b[0m \u001b[43m        \u001b[49m\u001b[43mpredicate\u001b[49m\u001b[43m,\u001b[49m\n\u001b[1;32m    159\u001b[0m \u001b[43m        \u001b[49m\u001b[43mon_error\u001b[49m\u001b[43m,\u001b[49m\n\u001b[1;32m    160\u001b[0m \u001b[43m        \u001b[49m\u001b[43mexception_factory\u001b[49m\u001b[43m,\u001b[49m\n\u001b[1;32m    161\u001b[0m \u001b[43m        \u001b[49m\u001b[43mtimeout\u001b[49m\u001b[43m,\u001b[49m\n\u001b[1;32m    162\u001b[0m \u001b[43m    \u001b[49m\u001b[43m)\u001b[49m\n\u001b[1;32m    163\u001b[0m     \u001b[38;5;66;03m# if exception not raised, sleep before next attempt\u001b[39;00m\n\u001b[1;32m    164\u001b[0m     time\u001b[38;5;241m.\u001b[39msleep(sleep)\n",
      "File \u001b[0;32m~/miniconda3/envs/nomades_env_course/lib/python3.10/site-packages/google/api_core/retry/retry_base.py:212\u001b[0m, in \u001b[0;36m_retry_error_helper\u001b[0;34m(exc, deadline, next_sleep, error_list, predicate_fn, on_error_fn, exc_factory_fn, original_timeout)\u001b[0m\n\u001b[1;32m    206\u001b[0m \u001b[38;5;28;01mif\u001b[39;00m \u001b[38;5;129;01mnot\u001b[39;00m predicate_fn(exc):\n\u001b[1;32m    207\u001b[0m     final_exc, source_exc \u001b[38;5;241m=\u001b[39m exc_factory_fn(\n\u001b[1;32m    208\u001b[0m         error_list,\n\u001b[1;32m    209\u001b[0m         RetryFailureReason\u001b[38;5;241m.\u001b[39mNON_RETRYABLE_ERROR,\n\u001b[1;32m    210\u001b[0m         original_timeout,\n\u001b[1;32m    211\u001b[0m     )\n\u001b[0;32m--> 212\u001b[0m     \u001b[38;5;28;01mraise\u001b[39;00m final_exc \u001b[38;5;28;01mfrom\u001b[39;00m \u001b[38;5;21;01msource_exc\u001b[39;00m\n\u001b[1;32m    213\u001b[0m \u001b[38;5;28;01mif\u001b[39;00m on_error_fn \u001b[38;5;129;01mis\u001b[39;00m \u001b[38;5;129;01mnot\u001b[39;00m \u001b[38;5;28;01mNone\u001b[39;00m:\n\u001b[1;32m    214\u001b[0m     on_error_fn(exc)\n",
      "File \u001b[0;32m~/miniconda3/envs/nomades_env_course/lib/python3.10/site-packages/google/api_core/retry/retry_unary.py:144\u001b[0m, in \u001b[0;36mretry_target\u001b[0;34m(target, predicate, sleep_generator, timeout, on_error, exception_factory, **kwargs)\u001b[0m\n\u001b[1;32m    142\u001b[0m \u001b[38;5;28;01mfor\u001b[39;00m sleep \u001b[38;5;129;01min\u001b[39;00m sleep_generator:\n\u001b[1;32m    143\u001b[0m     \u001b[38;5;28;01mtry\u001b[39;00m:\n\u001b[0;32m--> 144\u001b[0m         result \u001b[38;5;241m=\u001b[39m \u001b[43mtarget\u001b[49m\u001b[43m(\u001b[49m\u001b[43m)\u001b[49m\n\u001b[1;32m    145\u001b[0m         \u001b[38;5;28;01mif\u001b[39;00m inspect\u001b[38;5;241m.\u001b[39misawaitable(result):\n\u001b[1;32m    146\u001b[0m             warnings\u001b[38;5;241m.\u001b[39mwarn(_ASYNC_RETRY_WARNING)\n",
      "File \u001b[0;32m~/miniconda3/envs/nomades_env_course/lib/python3.10/site-packages/google/api_core/timeout.py:120\u001b[0m, in \u001b[0;36mTimeToDeadlineTimeout.__call__.<locals>.func_with_timeout\u001b[0;34m(*args, **kwargs)\u001b[0m\n\u001b[1;32m    117\u001b[0m     \u001b[38;5;66;03m# Avoid setting negative timeout\u001b[39;00m\n\u001b[1;32m    118\u001b[0m     kwargs[\u001b[38;5;124m\"\u001b[39m\u001b[38;5;124mtimeout\u001b[39m\u001b[38;5;124m\"\u001b[39m] \u001b[38;5;241m=\u001b[39m \u001b[38;5;28mmax\u001b[39m(\u001b[38;5;241m0\u001b[39m, \u001b[38;5;28mself\u001b[39m\u001b[38;5;241m.\u001b[39m_timeout \u001b[38;5;241m-\u001b[39m time_since_first_attempt)\n\u001b[0;32m--> 120\u001b[0m \u001b[38;5;28;01mreturn\u001b[39;00m \u001b[43mfunc\u001b[49m\u001b[43m(\u001b[49m\u001b[38;5;241;43m*\u001b[39;49m\u001b[43margs\u001b[49m\u001b[43m,\u001b[49m\u001b[43m \u001b[49m\u001b[38;5;241;43m*\u001b[39;49m\u001b[38;5;241;43m*\u001b[39;49m\u001b[43mkwargs\u001b[49m\u001b[43m)\u001b[49m\n",
      "File \u001b[0;32m~/miniconda3/envs/nomades_env_course/lib/python3.10/site-packages/google/api_core/grpc_helpers.py:174\u001b[0m, in \u001b[0;36m_wrap_stream_errors.<locals>.error_remapped_callable\u001b[0;34m(*args, **kwargs)\u001b[0m\n\u001b[1;32m    170\u001b[0m     \u001b[38;5;28;01mreturn\u001b[39;00m _StreamingResponseIterator(\n\u001b[1;32m    171\u001b[0m         result, prefetch_first_result\u001b[38;5;241m=\u001b[39mprefetch_first\n\u001b[1;32m    172\u001b[0m     )\n\u001b[1;32m    173\u001b[0m \u001b[38;5;28;01mexcept\u001b[39;00m grpc\u001b[38;5;241m.\u001b[39mRpcError \u001b[38;5;28;01mas\u001b[39;00m exc:\n\u001b[0;32m--> 174\u001b[0m     \u001b[38;5;28;01mraise\u001b[39;00m exceptions\u001b[38;5;241m.\u001b[39mfrom_grpc_error(exc) \u001b[38;5;28;01mfrom\u001b[39;00m \u001b[38;5;21;01mexc\u001b[39;00m\n",
      "\u001b[0;31mFailedPrecondition\u001b[0m: 400 The query requires an index. You can create it here: https://console.firebase.google.com/v1/r/project/flaskwebweek/firestore/indexes?create_composite=Cktwcm9qZWN0cy9mbGFza3dlYndlZWsvZGF0YWJhc2VzLyhkZWZhdWx0KS9jb2xsZWN0aW9uR3JvdXBzL2NpdGllcy9pbmRleGVzL18QARoJCgVzdGF0ZRABGg4KCnBvcHVsYXRpb24QARoMCghfX25hbWVfXxAB"
     ]
    }
   ],
   "source": [
    "multiple_queries_fail = cities_ref.where(\"state\", \"==\", \"CA\").where(\"population\", \"<\", 1000000).stream()\n",
    "print(type(multiple_queries_fail), multiple_queries_fail)\n",
    "for doc in multiple_queries_fail:\n",
    "    print(f'{doc.id} => {doc.to_dict()}')"
   ]
  },
  {
   "cell_type": "code",
   "execution_count": 30,
   "id": "1beeab42",
   "metadata": {
    "slideshow": {
     "slide_type": "slide"
    }
   },
   "outputs": [
    {
     "name": "stdout",
     "output_type": "stream",
     "text": [
      "<class 'generator'> <generator object Query.stream at 0x109410190>\n",
      "LA => {'capital': False, 'name': 'Los Angeles', 'state': 'CA', 'regions': ['west_coast', 'socal'], 'population': 3900000, 'country': 'USA'}\n",
      "SF => {'capital': False, 'name': 'San Francisco', 'state': 'CA', 'regions': ['west_coast', 'norcal'], 'population': 860000, 'country': 'USA'}\n"
     ]
    },
    {
     "name": "stderr",
     "output_type": "stream",
     "text": [
      "/var/folders/w3/5hy6_w9d52l2jjrccrpq3z0h0000gn/T/ipykernel_19877/3871166683.py:1: UserWarning: Detected filter using positional arguments. Prefer using the 'filter' keyword argument instead.\n",
      "  multiple_queries_works = cities_ref.where(\"country\", \"==\", \"USA\").where(\"state\", \"==\", \"CA\").stream()\n"
     ]
    }
   ],
   "source": [
    "multiple_queries_works = cities_ref.where(\"country\", \"==\", \"USA\").where(\"state\", \"==\", \"CA\").stream()\n",
    "print(type(multiple_queries_works), multiple_queries_works)\n",
    "for doc in multiple_queries_works:\n",
    "    print(f'{doc.id} => {doc.to_dict()}')"
   ]
  },
  {
   "cell_type": "markdown",
   "id": "cdb1c109",
   "metadata": {
    "slideshow": {
     "slide_type": "slide"
    }
   },
   "source": [
    "#### Operators example"
   ]
  },
  {
   "cell_type": "code",
   "execution_count": 33,
   "id": "70d9af6d",
   "metadata": {},
   "outputs": [],
   "source": [
    "lt = cities_ref.where('population', '<', 100000)\n",
    "lte = cities_ref.where('population', '<=', 100000)\n",
    "eq = cities_ref.where('name', '==', 'San Francisco')\n",
    "gt = cities_ref.where('population', '>', 100000)\n",
    "gte = cities_ref.where('population', '>=', 100000)\n",
    "ne = cities_ref.where('name', '!=', 'San Francisco')\n",
    "array_contains = cities_ref.where('regions', 'array_contains', 'west_coast')\n",
    "array_contains_any = cities_ref.where('regions', 'array_contains_any', ['west_coast', 'east_coast'])\n",
    "in_ = cities_ref.where('name', 'in', ['San Francisco', 'Los Angeles'])\n",
    "not_in = cities_ref.where('name', 'not-in', ['San Francisco', 'Los Angeles'])"
   ]
  },
  {
   "cell_type": "markdown",
   "id": "70b7bb7a",
   "metadata": {
    "slideshow": {
     "slide_type": "slide"
    }
   },
   "source": [
    "## Ordering and Pagination\n",
    "### Ordering\n",
    "\n",
    "Il est possible de trier les résultats d'une query en utilisant la methode `order_by` de l'objet `Query`. Cette methode prend en paramètre le nom du champ sur lequel on veut trier les résultats."
   ]
  },
  {
   "cell_type": "code",
   "execution_count": 34,
   "id": "f3c678b9",
   "metadata": {
    "slideshow": {
     "slide_type": "slide"
    }
   },
   "outputs": [
    {
     "name": "stdout",
     "output_type": "stream",
     "text": [
      "Ordered by population ASC:\n",
      "DC => {'capital': True, 'name': 'Washington D.C.', 'state': None, 'regions': ['east_coast'], 'population': 680000, 'country': 'USA'}\n",
      "SF => {'capital': False, 'name': 'San Francisco', 'state': 'CA', 'regions': ['west_coast', 'norcal'], 'population': 860000, 'country': 'USA'}\n",
      "LA => {'capital': False, 'name': 'Los Angeles', 'state': 'CA', 'regions': ['west_coast', 'socal'], 'population': 3900000, 'country': 'USA'}\n",
      "TOK => {'capital': True, 'name': 'Tokyo', 'state': None, 'regions': ['kanto', 'honshu'], 'population': 9000000, 'country': 'Japan'}\n",
      "BJ => {'capital': True, 'name': 'Beijing', 'state': None, 'regions': ['hebei'], 'population': 21500000, 'country': 'China'}\n"
     ]
    }
   ],
   "source": [
    "ordered_docs = cities_ref.order_by('population').stream()\n",
    "print(\"Ordered by population ASC:\")\n",
    "for doc in ordered_docs:\n",
    "    print(f\"{doc.id} => {doc.to_dict()}\")"
   ]
  },
  {
   "cell_type": "code",
   "execution_count": 39,
   "id": "38489229",
   "metadata": {
    "slideshow": {
     "slide_type": "slide"
    }
   },
   "outputs": [
    {
     "name": "stdout",
     "output_type": "stream",
     "text": [
      "Ordered by population DESC:\n",
      "DC => {'capital': True, 'name': 'Washington D.C.', 'state': None, 'regions': ['east_coast'], 'population': 680000, 'country': 'USA'}\n",
      "TOK => {'capital': True, 'name': 'Tokyo', 'state': None, 'regions': ['kanto', 'honshu'], 'population': 9000000, 'country': 'Japan'}\n",
      "SF => {'capital': False, 'name': 'San Francisco', 'state': 'CA', 'regions': ['west_coast', 'norcal'], 'population': 860000, 'country': 'USA'}\n",
      "LA => {'capital': False, 'name': 'Los Angeles', 'state': 'CA', 'regions': ['west_coast', 'socal'], 'population': 3900000, 'country': 'USA'}\n",
      "BJ => {'capital': True, 'name': 'Beijing', 'state': None, 'regions': ['hebei'], 'population': 21500000, 'country': 'China'}\n"
     ]
    }
   ],
   "source": [
    "ordered_docs_desc = cities_ref.order_by('name', direction=firestore.Query.DESCENDING).stream()\n",
    "print(\"Ordered by population DESC:\")\n",
    "for doc in ordered_docs_desc:\n",
    "    print(f\"{doc.id} => {doc.to_dict()}\")"
   ]
  },
  {
   "cell_type": "markdown",
   "id": "8173721f",
   "metadata": {
    "slideshow": {
     "slide_type": "slide"
    }
   },
   "source": [
    "### Pagination\n",
    "\n",
    "Il est possible de paginer les résultats d'une query en utilisant les methodes `limit` et `start_at` et `end_at` de l'objet `Query`."
   ]
  },
  {
   "cell_type": "code",
   "execution_count": 40,
   "id": "2126b6b2",
   "metadata": {
    "slideshow": {
     "slide_type": "slide"
    }
   },
   "outputs": [
    {
     "name": "stdout",
     "output_type": "stream",
     "text": [
      "Start at 1,000,000:\n",
      "LA => {'capital': False, 'name': 'Los Angeles', 'state': 'CA', 'regions': ['west_coast', 'socal'], 'population': 3900000, 'country': 'USA'}\n",
      "TOK => {'capital': True, 'name': 'Tokyo', 'state': None, 'regions': ['kanto', 'honshu'], 'population': 9000000, 'country': 'Japan'}\n",
      "BJ => {'capital': True, 'name': 'Beijing', 'state': None, 'regions': ['hebei'], 'population': 21500000, 'country': 'China'}\n"
     ]
    }
   ],
   "source": [
    "cities_ref = db.collection(\"cities\")\n",
    "query_start_at = cities_ref.order_by(\"population\").start_at({\"population\": 1000000}).stream()\n",
    "\n",
    "print(\"Start at 1,000,000:\")\n",
    "for doc in query_start_at:\n",
    "    print(f\"{doc.id} => {doc.to_dict()}\")"
   ]
  },
  {
   "cell_type": "code",
   "execution_count": 41,
   "id": "18d1e9ba",
   "metadata": {
    "slideshow": {
     "slide_type": "slide"
    }
   },
   "outputs": [
    {
     "name": "stdout",
     "output_type": "stream",
     "text": [
      "End at 1,000,000:\n",
      "DC => {'capital': True, 'name': 'Washington D.C.', 'state': None, 'regions': ['east_coast'], 'population': 680000, 'country': 'USA'}\n",
      "SF => {'capital': False, 'name': 'San Francisco', 'state': 'CA', 'regions': ['west_coast', 'norcal'], 'population': 860000, 'country': 'USA'}\n"
     ]
    }
   ],
   "source": [
    "cities_ref = db.collection(\"cities\")\n",
    "query_end_at = cities_ref.order_by(\"population\").end_at({\"population\": 1000000})\n",
    "\n",
    "print(\"End at 1,000,000:\")\n",
    "for doc in query_end_at.stream():\n",
    "    print(f\"{doc.id} => {doc.to_dict()}\")"
   ]
  },
  {
   "cell_type": "markdown",
   "id": "b2c6d42b",
   "metadata": {
    "slideshow": {
     "slide_type": "slide"
    }
   },
   "source": [
    "### limit\n",
    "\n",
    "La methode `limit` permet de limiter le nombre de résultats retournés par la query."
   ]
  },
  {
   "cell_type": "code",
   "execution_count": 46,
   "id": "fc78d4c2",
   "metadata": {},
   "outputs": [
    {
     "name": "stdout",
     "output_type": "stream",
     "text": [
      "Limited to 2:\n"
     ]
    }
   ],
   "source": [
    "docs_limit = cities_ref.where(\"population\", \">\", 1000000).order_by(\"population\").limit(1).start_at({\"population\": 21500000+1}).stream()\n",
    "\n",
    "print(\"Limited to 2:\")\n",
    "for doc in docs_limit:\n",
    "    print(f\"{doc.id} => {doc.to_dict()}\")"
   ]
  },
  {
   "cell_type": "code",
   "execution_count": 52,
   "id": "52f97fc0",
   "metadata": {
    "slideshow": {
     "slide_type": "slide"
    }
   },
   "outputs": [
    {
     "data": {
      "text/plain": [
       "update_time {\n",
       "  seconds: 1709909155\n",
       "  nanos: 476394000\n",
       "}"
      ]
     },
     "execution_count": 52,
     "metadata": {},
     "output_type": "execute_result"
    }
   ],
   "source": [
    "# Add conferences for Alan Turing\n",
    "alan_id = db.collection(u\"users\").where(\"firstname\", \"==\", \"Alan\").get()[0].id\n",
    "conferences = [\n",
    "    {\n",
    "        \"city\": \"LA\", # Where LA is the id of the document for Los Angeles in the cities collection\n",
    "        \"When\": \"Friday\"\n",
    "    },\n",
    "    {\n",
    "        \"city\": \"TOK\", # Where TOK is the id of the document for Tokio in the cities collection\n",
    "        \"When\": \"Saturday\"\n",
    "    },\n",
    "]\n",
    "\n",
    "db.collection(u\"users\").document(alan_id).update({u\"conferences\": conferences})"
   ]
  },
  {
   "cell_type": "code",
   "execution_count": 53,
   "id": "e4740125",
   "metadata": {
    "slideshow": {
     "slide_type": "slide"
    }
   },
   "outputs": [
    {
     "name": "stdout",
     "output_type": "stream",
     "text": [
      "Los Angeles vida loca\n",
      "Tokyo\n"
     ]
    }
   ],
   "source": [
    "alan = db.collection(u\"users\").where(\"firstname\", \"==\", \"Alan\").get()[0]\n",
    "cities_ref = db.collection(u\"cities\")\n",
    "for conference in alan.to_dict()[\"conferences\"]:\n",
    "    city = cities_ref.document(conference[\"city\"]).get().to_dict()[\"name\"]\n",
    "    print((city))"
   ]
  }
 ],
 "metadata": {
  "celltoolbar": "Slideshow",
  "kernelspec": {
   "display_name": "Python 3 (ipykernel)",
   "language": "python",
   "name": "python3"
  },
  "language_info": {
   "codemirror_mode": {
    "name": "ipython",
    "version": 3
   },
   "file_extension": ".py",
   "mimetype": "text/x-python",
   "name": "python",
   "nbconvert_exporter": "python",
   "pygments_lexer": "ipython3",
   "version": "3.10.13"
  }
 },
 "nbformat": 4,
 "nbformat_minor": 5
}
