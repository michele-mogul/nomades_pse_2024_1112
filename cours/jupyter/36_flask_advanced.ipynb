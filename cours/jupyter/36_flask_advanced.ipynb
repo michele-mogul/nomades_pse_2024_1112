{
 "cells": [
  {
   "cell_type": "markdown",
   "id": "f7368d70",
   "metadata": {
    "slideshow": {
     "slide_type": "slide"
    }
   },
   "source": [
    "# Flask Advanced"
   ]
  },
  {
   "cell_type": "markdown",
   "id": "5d4283f3",
   "metadata": {
    "slideshow": {
     "slide_type": "slide"
    }
   },
   "source": [
    "## Static Folder\n",
    "\n",
    "Dans flask nous avons un dossier `static` qui est utilisé pour stocker des fichiers statiques tels que des images, des fichiers CSS et des fichiers JavaScript. Flask recherche des fichiers statiques dans le dossier `static` situé dans le répertoire racine de l'application.\n",
    "\n",
    "Par défaut, le dossier `static` est situé dans le répertoire racine de l'application. Vous pouvez également spécifier un autre dossier statique en utilisant le paramètre `static_folder` de l'objet `Flask`.\n",
    "\n",
    "```python\n",
    "app = Flask(__name__, static_folder='static_files')\n",
    "```"
   ]
  },
  {
   "cell_type": "markdown",
   "id": "99cc9ad9",
   "metadata": {
    "slideshow": {
     "slide_type": "slide"
    }
   },
   "source": [
    "### Custom css\n",
    "\n",
    "Pour ajouter un fichier css personnalisé, créez un fichier css dans le dossier `static` et ajoutez le lien vers le fichier css dans le fichier html.\n",
    "\n",
    "```html\n",
    "<!DOCTYPE html>\n",
    "<html>\n",
    "<head>\n",
    "    <title>Flask Advanced</title>\n",
    "    <link rel=\"stylesheet\" type=\"text/css\" href=\"{{ url_for('static', filename='style.css') }}\">\n",
    "</head>\n",
    "<body>\n",
    "    <h1>Flask Advanced</h1>\n",
    "</body>\n",
    "</html>\n",
    "```"
   ]
  },
  {
   "cell_type": "markdown",
   "id": "b6129023",
   "metadata": {},
   "source": [
    "Ici on voit que l'on appèle la fonction `url_for()` avec le paramètre `static`, ceci nous retourne le chemin vers le dossier `static` de notre application.\n",
    "\n",
    "Ensuite, on ajoute le nom du fichier css que l'on veut appeler, via le paramètre `filename`."
   ]
  },
  {
   "cell_type": "markdown",
   "id": "2a9612c1",
   "metadata": {
    "slideshow": {
     "slide_type": "slide"
    }
   },
   "source": [
    "### Custom js\n",
    "\n",
    "Pour ajouter un fichier js personnalisé, créez un fichier js dans le dossier `static` et ajoutez le lien vers le fichier js dans le fichier html.\n",
    "\n",
    "```html\n",
    "<!DOCTYPE html>\n",
    "<html>\n",
    "<head>\n",
    "    <title>Flask Advanced</title>\n",
    "    <link rel=\"stylesheet\" type=\"text/css\" href=\"{{ url_for('static', filename='style.css') }}\">\n",
    "</head>\n",
    "<body>\n",
    "    <h1>Flask Advanced</h1>\n",
    "    <script src=\"{{ url_for('static', filename='js/script.js') }}\"></script>\n",
    "</body>\n",
    "</html>\n",
    "```"
   ]
  },
  {
   "cell_type": "markdown",
   "id": "9e0f4dca",
   "metadata": {
    "slideshow": {
     "slide_type": "fragment"
    }
   },
   "source": [
    "## Template Folder\n",
    "\n",
    "Dans flask nous avons un dossier `templates` qui est utilisé pour stocker des fichiers de modèles. Flask recherche des fichiers de modèles dans le dossier `templates` situé dans le répertoire racine de l'application.\n",
    "\n",
    "Par défaut, le dossier `templates` est situé dans le répertoire racine de l'application. Vous pouvez également spécifier un autre dossier de modèles en utilisant le paramètre `template_folder` de l'objet `Flask`.\n",
    "\n",
    "```python\n",
    "app = Flask(__name__, template_folder='templates_files')\n",
    "```"
   ]
  },
  {
   "cell_type": "markdown",
   "id": "11ad46f1",
   "metadata": {
    "slideshow": {
     "slide_type": "fragment"
    }
   },
   "source": [
    "### Custom template\n",
    "\n",
    "Pour ajouter un fichier de modèle personnalisé, créez un fichier html dans le dossier `templates` et utilisez la fonction `render_template()` pour afficher le fichier html.\n",
    "\n",
    "```python\n",
    "from flask import Flask, render_template\n",
    "\n",
    "app = Flask(__name__)\n",
    "\n",
    "@app.route('/')\n",
    "def index():\n",
    "    return render_template('index.html')\n",
    "```\n",
    "\n",
    "Dans cet exemple, nous avons créé un fichier html `index.html` dans le dossier `templates` et nous l'avons affiché en utilisant la fonction `render_template()`."
   ]
  },
  {
   "cell_type": "markdown",
   "id": "0f64a3ce",
   "metadata": {
    "slideshow": {
     "slide_type": "slide"
    }
   },
   "source": [
    "## Flask Blueprint\n",
    "\n",
    "Les blueprints sont des objets qui enregistrent des vues, des modèles et des fichiers statiques. Les blueprints sont utilisés pour organiser les applications Flask en modules réutilisables.\n",
    "\n",
    "Pour créer un blueprint, vous devez créer un objet Blueprint et enregistrer des vues, des modèles et des fichiers statiques.\n",
    "\n",
    "```python\n",
    "from flask import Blueprint\n",
    "\n",
    "bp = Blueprint('bp', __name__, template_folder='templates', static_folder='static', url_prefix='/bp')\n",
    "\n",
    "@bp.route('/')\n",
    "def index():\n",
    "    return 'Hello, Blueprint!'\n",
    "\n",
    "@bp.route('/world')\n",
    "def index():\n",
    "    return 'Hello, world from Blueprint!'\n",
    "```\n",
    "\n",
    "Dans cet exemple, nous avons créé un blueprint `bp` et enregistré une vue `index`. Pour utiliser le blueprint, vous devez enregistrer le blueprint dans l'application principale.\n",
    "\n",
    "```python\n",
    "from flask import Flask\n",
    "\n",
    "app = Flask(__name)\n",
    "app.register_blueprint(bp)\n",
    "\n",
    "if __name__ == '__main__':\n",
    "    app.run()\n",
    "```\n",
    "\n",
    "Dans cet exemple, nous avons enregistré le blueprint `bp` dans l'application principale `app`.\n",
    "\n",
    "Nous pouvons donc faire une requête GET sur `http://127.0.0.1:5000/bp/` et nous aurons comme réponse `Hello, Blueprint!`.\n",
    "Et si nous faisons une requête GET sur `http://127.0.0.1:5000/bp/world` nous aurons comme réponse `Hello, world from Blueprint!`."
   ]
  }
 ],
 "metadata": {
  "celltoolbar": "Slideshow",
  "kernelspec": {
   "display_name": "Python 3 (ipykernel)",
   "language": "python",
   "name": "python3"
  },
  "language_info": {
   "codemirror_mode": {
    "name": "ipython",
    "version": 3
   },
   "file_extension": ".py",
   "mimetype": "text/x-python",
   "name": "python",
   "nbconvert_exporter": "python",
   "pygments_lexer": "ipython3",
   "version": "3.10.13"
  }
 },
 "nbformat": 4,
 "nbformat_minor": 5
}
