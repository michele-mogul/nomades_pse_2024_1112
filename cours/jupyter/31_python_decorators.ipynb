{
 "cells": [
  {
   "cell_type": "markdown",
   "id": "f7368d70",
   "metadata": {
    "slideshow": {
     "slide_type": "slide"
    }
   },
   "source": [
    "# Python Decorators"
   ]
  },
  {
   "cell_type": "markdown",
   "id": "5d4283f3",
   "metadata": {
    "slideshow": {
     "slide_type": "slide"
    }
   },
   "source": [
    "# Python Decorators\n",
    "\n",
    "Le decorateur est un design pattern qui permet de modifier le comportement d'une fonction en l'intégrant dans une autre fonction.\n",
    "\n",
    "La fonction extérieur est appellée un decorateur, on dit qu'elle décore la fonction interne."
   ]
  },
  {
   "cell_type": "markdown",
   "id": "68c652db",
   "metadata": {
    "slideshow": {
     "slide_type": "slide"
    }
   },
   "source": [
    "## Pre-requis pour les decorateurs\n",
    "\n",
    "Avant de voir comment implementer des decoraterus en `python` il est important de comprendre les points suivants:\n",
    "- Les fonctions imbriquées\n",
    "- Les arguments de fonctions\n",
    "- Les fonctions sont des **objets** en `python`"
   ]
  },
  {
   "cell_type": "markdown",
   "id": "673f74da",
   "metadata": {
    "slideshow": {
     "slide_type": "slide"
    }
   },
   "source": [
    "### Nested functions\n",
    "\n",
    "En python, nous pouvons définir des fonctions dans d'autres fonctions ainsi:"
   ]
  },
  {
   "cell_type": "code",
   "execution_count": null,
   "id": "6a61366b",
   "metadata": {
    "slideshow": {
     "slide_type": "-"
    }
   },
   "outputs": [],
   "source": [
    "def outer(x):\n",
    "    def inner(y):\n",
    "        return x + y\n",
    "    return inner\n",
    "\n",
    "add_five = outer(5)\n",
    "result = add_five(6)\n",
    "print(result)"
   ]
  },
  {
   "cell_type": "markdown",
   "id": "9f732abc",
   "metadata": {
    "slideshow": {
     "slide_type": "slide"
    }
   },
   "source": [
    "### Return a function as a value (closure)\n",
    "\n",
    "Parce que les fonctions sont des `objets` en python, on peut retourner une fonction comme étant une valeur de retour d'une autre fonction."
   ]
  },
  {
   "cell_type": "code",
   "execution_count": null,
   "id": "918dcc5c",
   "metadata": {},
   "outputs": [],
   "source": [
    "def greeting(name):\n",
    "    def hello():\n",
    "        return \"Hello, \" + name + \"!\"\n",
    "    return hello\n",
    "\n",
    "greet = greeting(\"Atlantis\")\n",
    "print(greet())\n"
   ]
  },
  {
   "cell_type": "markdown",
   "id": "8d57223e",
   "metadata": {
    "slideshow": {
     "slide_type": "slide"
    }
   },
   "source": [
    "## Python decorators\n",
    "\n",
    "Un decorateur est une fonction qui prend une fonction en parametre et la retourne en ajoutant quelques fonctionnalités.\n",
    "\n",
    "En effet chaques objet qui implémente la magic function `__call__()` est un callable. Un decorateur un simplement un callable qui retourne un callable."
   ]
  },
  {
   "cell_type": "code",
   "execution_count": null,
   "id": "2f4c14d2",
   "metadata": {},
   "outputs": [],
   "source": [
    "def make_pretty(func):\n",
    "    def inner():\n",
    "        print(\"I got decorated\")\n",
    "        func()\n",
    "    return inner\n",
    "\n",
    "\n",
    "def ordinary():\n",
    "    print(\"I am ordinary\")"
   ]
  },
  {
   "cell_type": "code",
   "execution_count": null,
   "id": "a3af4014",
   "metadata": {
    "slideshow": {
     "slide_type": "slide"
    }
   },
   "outputs": [],
   "source": [
    "def make_pretty(func):\n",
    "    # define the inner function \n",
    "    def inner():\n",
    "        # add some additional behavior to decorated function\n",
    "        print(\"I got decorated\")\n",
    "        func()\n",
    "        # call original function\n",
    "        print(\"After call\")\n",
    "    # return the inner function\n",
    "    return inner\n",
    "\n",
    "# define ordinary function\n",
    "def ordinary():\n",
    "    print(\"I am ordinary\")\n",
    "    \n",
    "# decorate the ordinary function\n",
    "decorated_func = make_pretty(ordinary)\n",
    "\n",
    "# call the decorated function\n",
    "decorated_func()"
   ]
  },
  {
   "cell_type": "markdown",
   "id": "8f74665f",
   "metadata": {
    "slideshow": {
     "slide_type": "slide"
    }
   },
   "source": [
    "### The `@` symbol\n",
    "\n",
    "Au lieu de definir une variable qui va conteneir la fonction decorée, on peut utiliser le symbole `@` pour decorer une fonction."
   ]
  },
  {
   "cell_type": "code",
   "execution_count": null,
   "id": "3db98e3d",
   "metadata": {
    "slideshow": {
     "slide_type": "fragment"
    }
   },
   "outputs": [],
   "source": [
    "def make_pretty(func):\n",
    "    def inner():\n",
    "        print(\"1 I got decorated\")\n",
    "        func()\n",
    "        print(\"3 After call 2\")\n",
    "    return inner\n",
    "\n",
    "@make_pretty\n",
    "def ordinary():\n",
    "    print(\"2 I am ordinary\")\n",
    "\n",
    "ordinary()  "
   ]
  },
  {
   "cell_type": "markdown",
   "id": "c53fdd24",
   "metadata": {
    "slideshow": {
     "slide_type": "slide"
    }
   },
   "source": [
    "### Decorating functions with parameters\n",
    "\n",
    "Les fonctions peuvent utiliser des paramètres"
   ]
  },
  {
   "cell_type": "code",
   "execution_count": null,
   "id": "1c23d42b",
   "metadata": {},
   "outputs": [],
   "source": [
    "def divide(a, b):\n",
    "    return a/b"
   ]
  },
  {
   "cell_type": "markdown",
   "id": "7f6efe3f",
   "metadata": {},
   "source": [
    "Ici la fonction `divide` a deux paramètres `a` et `b` et si on passe `b=0`, on aura une exception."
   ]
  },
  {
   "cell_type": "markdown",
   "id": "45b828f8",
   "metadata": {
    "slideshow": {
     "slide_type": "slide"
    }
   },
   "source": [
    "Mainteanant faisons un decorateur qui gere ce cas:"
   ]
  },
  {
   "cell_type": "code",
   "execution_count": null,
   "id": "e9c67fe0",
   "metadata": {
    "slideshow": {
     "slide_type": "-"
    }
   },
   "outputs": [],
   "source": [
    "def smart_divide(func):\n",
    "    def inner(a, b):\n",
    "        print(\"I am going to divide\", a, \"by\", b)\n",
    "        if b == 0:\n",
    "            print(\"Whoops! cannot divide\")\n",
    "            return\n",
    "\n",
    "        return func(a, b)\n",
    "    return inner\n",
    "\n",
    "@smart_divide\n",
    "def divide(a, b):\n",
    "    print(a/b)\n",
    "\n",
    "divide(2,5)\n",
    "divide(2,0)"
   ]
  },
  {
   "cell_type": "markdown",
   "id": "f0180e20",
   "metadata": {
    "slideshow": {
     "slide_type": "slide"
    }
   },
   "source": [
    "### Chaining decorators"
   ]
  },
  {
   "cell_type": "code",
   "execution_count": null,
   "id": "d0eae4f4",
   "metadata": {
    "slideshow": {
     "slide_type": "slide"
    }
   },
   "outputs": [],
   "source": [
    "def star(func):\n",
    "    def inner(*args, **kwargs):\n",
    "        print(\"*\" * 15)\n",
    "        func(*args, **kwargs)\n",
    "        print(\"*\" * 15)\n",
    "    return inner\n",
    "\n",
    "\n",
    "def percent(func):\n",
    "    def inner(*args, **kwargs):\n",
    "        print(\"%\" * 15)\n",
    "        func(*args, **kwargs)\n",
    "        print(\"%\" * 15)\n",
    "    return inner\n",
    "\n",
    "\n",
    "@star\n",
    "@percent\n",
    "def printer(msg):\n",
    "    print(msg)\n",
    "\n",
    "printer(\"Hello\")"
   ]
  },
  {
   "cell_type": "markdown",
   "id": "a00b90ce",
   "metadata": {
    "slideshow": {
     "slide_type": "slide"
    }
   },
   "source": [
    "La syntaxe:\n",
    "```python\n",
    "@star\n",
    "@percent\n",
    "def printer(msg):\n",
    "    print(msg)\n",
    "```\n",
    "\n",
    "est equivalente a:\n",
    "```python\n",
    "def printer(msg):\n",
    "    print(msg)\n",
    "printer = star(percent(printer))\n",
    "```"
   ]
  },
  {
   "cell_type": "markdown",
   "id": "30a6c737",
   "metadata": {
    "slideshow": {
     "slide_type": "slide"
    }
   },
   "source": [
    "L'ordre des decorateurs a de l'importance"
   ]
  },
  {
   "cell_type": "code",
   "execution_count": null,
   "id": "5dfd8000",
   "metadata": {},
   "outputs": [],
   "source": [
    "@percent\n",
    "@star\n",
    "def printer(msg):\n",
    "    print(msg)\n",
    "\n",
    "printer(\"Hello\")"
   ]
  },
  {
   "cell_type": "markdown",
   "id": "e5cd4eea",
   "metadata": {
    "slideshow": {
     "slide_type": "slide"
    }
   },
   "source": [
    "## Cas pratique\n",
    "\n",
    "Les decoraterus peuvent etre extremenet utiles dans les cas suivants:\n",
    "- Calculer le temps d'execution d'une fonction\n",
    "- Logger les appels des fonctions\n",
    "- Gestion des exceptions\n",
    "- Gestion des autorisations"
   ]
  },
  {
   "cell_type": "markdown",
   "id": "2f86e419",
   "metadata": {
    "slideshow": {
     "slide_type": "slide"
    }
   },
   "source": [
    "#### Cas 1: Calculer le temps d'execution d'une fonction"
   ]
  },
  {
   "cell_type": "code",
   "execution_count": 1,
   "id": "babf84c5",
   "metadata": {},
   "outputs": [
    {
     "name": "stdout",
     "output_type": "stream",
     "text": [
      "Time taken to execute: fib 100.13580322265625 microseconds\n",
      "117669030460994\n"
     ]
    }
   ],
   "source": [
    "def timeit(func):\n",
    "    def inner(*args, **kwargs):\n",
    "        import time\n",
    "        start = time.time()\n",
    "        f = func(*args, **kwargs)\n",
    "        end = time.time()\n",
    "        print(\"Time taken to execute:\", func.__name__, (end - start)*10e6, \"microseconds\")\n",
    "        return f\n",
    "    return inner\n",
    "\n",
    "@timeit\n",
    "def fact(n):\n",
    "    for i in range(1, n):\n",
    "        n *= i\n",
    "    return n\n",
    "@timeit\n",
    "def fib(n):\n",
    "    a = [0, 1]\n",
    "    for _ in range(2, n):\n",
    "        a.append(a[-2]+a[-1])\n",
    "    return a[-1]\n",
    "        \n",
    "print(fib(70))"
   ]
  },
  {
   "cell_type": "markdown",
   "id": "189c1064",
   "metadata": {
    "slideshow": {
     "slide_type": "slide"
    }
   },
   "source": [
    "#### Cas 2: Logger les appels des fonctions"
   ]
  },
  {
   "cell_type": "code",
   "execution_count": null,
   "id": "eca9162b",
   "metadata": {},
   "outputs": [],
   "source": [
    "def logit(func):\n",
    "    def inner(*args, **kwargs):\n",
    "        print(f\"Arguments for function ({func.__name__}) are:\", args, kwargs)\n",
    "        return func(*args, **kwargs) \n",
    "    return inner\n",
    "\n",
    "@logit\n",
    "def add(x, y):\n",
    "    return x + y\n",
    "\n",
    "@logit\n",
    "def sub(x, y):\n",
    "    return x - y\n",
    "\n",
    "print(add(1, 2))\n",
    "print(sub(2, 1))"
   ]
  }
 ],
 "metadata": {
  "celltoolbar": "Slideshow",
  "kernelspec": {
   "display_name": "Python 3 (ipykernel)",
   "language": "python",
   "name": "python3"
  },
  "language_info": {
   "codemirror_mode": {
    "name": "ipython",
    "version": 3
   },
   "file_extension": ".py",
   "mimetype": "text/x-python",
   "name": "python",
   "nbconvert_exporter": "python",
   "pygments_lexer": "ipython3",
   "version": "3.10.13"
  }
 },
 "nbformat": 4,
 "nbformat_minor": 5
}
