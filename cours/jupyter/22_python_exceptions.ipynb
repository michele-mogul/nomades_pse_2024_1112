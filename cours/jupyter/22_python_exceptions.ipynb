{
 "cells": [
  {
   "cell_type": "markdown",
   "id": "633e3762",
   "metadata": {
    "slideshow": {
     "slide_type": "slide"
    }
   },
   "source": [
    "# Python Exceptions\n",
    "\n",
    "Une exception est une erreur qui se produit lors de l'exécution d'un programme. Lorsqu'une exception se produit, le programme s'arrête et affiche un message d'erreur."
   ]
  },
  {
   "cell_type": "code",
   "execution_count": 1,
   "id": "831ec69c",
   "metadata": {},
   "outputs": [
    {
     "ename": "ZeroDivisionError",
     "evalue": "division by zero",
     "output_type": "error",
     "traceback": [
      "\u001b[0;31m---------------------------------------------------------------------------\u001b[0m",
      "\u001b[0;31mZeroDivisionError\u001b[0m                         Traceback (most recent call last)",
      "Cell \u001b[0;32mIn[1], line 1\u001b[0m\n\u001b[0;32m----> 1\u001b[0m \u001b[38;5;241;43m7\u001b[39;49m\u001b[43m \u001b[49m\u001b[38;5;241;43m/\u001b[39;49m\u001b[43m \u001b[49m\u001b[38;5;241;43m0\u001b[39;49m\n",
      "\u001b[0;31mZeroDivisionError\u001b[0m: division by zero"
     ]
    }
   ],
   "source": [
    "7 / 0"
   ]
  },
  {
   "cell_type": "markdown",
   "id": "0da3af79",
   "metadata": {},
   "source": [
    "Le code ci-dessus génère une erreur de type `ZeroDivisionError`, car il est impossible de diviser par zéro."
   ]
  },
  {
   "cell_type": "markdown",
   "id": "d179cfea",
   "metadata": {
    "slideshow": {
     "slide_type": "slide"
    }
   },
   "source": [
    "## Python Logical Errors (Exceptions)\n",
    "\n",
    "Les exceptions sont des erreurs qui surviennent au `runtime`(apres la compilation).\n",
    "\n",
    "Exemples d'exceptions courantes:\n",
    "\n",
    "- `FileNotFoundError`: fichier inexistant, quand on essaie d'ouvrir un fichier qui n'existe pas\n",
    "- `ImportError`: module inexistant, quand on essaie d'importer un module qui n'existe pas\n",
    "- `IndexError`: index inexistant, quand on essaie d'accéder à un élément d'une liste qui n'existe pas\n",
    "- `KeyError`: clé inexistante, quand on essaie d'accéder à une clé d'un dictionnaire qui n'existe pas\n",
    "- `NameError`: variable inexistante, quand on essaie d'accéder à une variable qui n'existe pas\n",
    "- `TypeError`: type inattendu, quand on essaie d'utiliser un type qui n'est pas attendu\n",
    "- `ValueError`: valeur inattendue, quand on essaie d'utiliser une valeur qui n'est pas attendue\n",
    "- `ZeroDivisionError`: division par zéro, quand on essaie de diviser par zéro"
   ]
  },
  {
   "cell_type": "markdown",
   "id": "20b25331",
   "metadata": {},
   "source": [
    "Lorsqu'une exception se produit, `Python`crée un `Objet` de type `Exception`. Si l'exception n'est pas gérée, le programme s'arrête et affiche un message d'erreur (`traceback`)."
   ]
  },
  {
   "cell_type": "markdown",
   "id": "ba25bb77",
   "metadata": {
    "slideshow": {
     "slide_type": "slide"
    }
   },
   "source": [
    "## Buikt-in Exceptions\n",
    "\n",
    "`Python` a un ensemble d'exceptions intégrées qui sont déclenchées lorsque des erreurs spécifiques se produisent. Par exemple:\n",
    "\n",
    "| Exception | Cause de l'erreur |\n",
    "| --- | --- |\n",
    "| `AssertionError` | Lorsqu'une instruction `assert` échoue. |\n",
    "| `AttributeError` | Lorsqu'un attribut d'un objet n'existe pas. |\n",
    "| `EOFError` | Lorsque la fonction `input()` atteint la fin du fichier. |\n",
    "| `FloatingPointError` | Lorsqu'une erreur de point flottant se produit. |\n",
    "| `GeneratorExit` | Lorsqu'une instruction `generator.close()` est utilisée. |\n",
    "| `ImportError` | Lorsqu'un module d'importation n'est pas trouvé. |\n",
    "| `IndexError` | Lorsqu'un index de séquence n'est pas valide. |\n",
    "| `KeyError` | Lorsqu'une clé de dictionnaire n'est pas trouvée. |\n",
    "| `KeyboardInterrupt` | Lorsqu'une instruction d'interruption est utilisée. |\n",
    "| `MemoryError` | Lorsqu'une opération manque de mémoire. |\n",
    "| `NameError` | Lorsqu'un nom ou une variable n'est pas trouvé dans l'espace de noms. |\n",
    "| `NotImplementedError` | Lorsqu'une fonctionnalité n'est pas implémentée (encore). |\n",
    "| `OSError` | Lorsqu'une fonctionnalité liée au système d'exploitation échoue. |\n",
    "| `OverflowError` | Lorsqu'un résultat numérique est trop grand. |\n",
    "| `ReferenceError` | Lorsqu'une référence de variable n'est pas trouvée. |\n",
    "| `RuntimeError` | Lorsqu'une erreur inattendue se produit. |\n",
    "| `StopIteration` | Lorsqu'une instruction `next()` d'un générateur ne renvoie pas de valeur. |\n",
    "| `SyntaxError` | Lorsqu'une instruction ne respecte pas la syntaxe. |\n",
    "| `IndentationError` | Lorsqu'une instruction n'est pas indentée correctement. |\n",
    "| `TabError` | Lorsqu'une instruction n'est pas indentée correctement. |\n",
    "| `SystemError` | Lorsqu'une erreur interne se produit. |\n",
    "| `SystemExit` | Lorsqu'une instruction `sys.exit()` est utilisée. |\n",
    "| `TypeError` | Lorsqu'une fonctionnalité ou une opération est appliquée à un type incorrect. |\n",
    "| `UnboundLocalError` | Lorsqu'une variable locale n'est pas trouvée. |\n",
    "| `UnicodeError` | Lorsqu'une erreur Unicode se produit. |\n",
    "| `UnicodeEncodeError` | Lorsqu'une erreur Unicode se produit lors du codage. |\n",
    "| `UnicodeDecodeError` | Lorsqu'une erreur Unicode se produit lors du décodage. |\n",
    "| `UnicodeTranslateError` | Lorsqu'une erreur Unicode se produit lors de la traduction. |\n",
    "| `ValueError` | Lorsqu'une fonctionnalité ou une opération reçoit un argument avec le bon type mais une valeur inappropriée. |\n",
    "| `ZeroDivisionError` | Lorsqu'une division ou un modulo par zéro est effectué pour tous les types numériques. |"
   ]
  },
  {
   "cell_type": "markdown",
   "id": "17d8d119",
   "metadata": {
    "slideshow": {
     "slide_type": "slide"
    }
   },
   "source": [
    "## Catching Exceptions\n",
    "\n",
    "Pour gérer les exceptions, on utilise l'instruction `try` et `except`.\n",
    "\n",
    "```python\n",
    "try:\n",
    "    # code susceptible de générer une exception\n",
    "except:\n",
    "    # code à exécuter si une exception se produit\n",
    "```\n",
    "\n",
    "L'instruction `try` permet de tester une instruction susceptible de générer une exception. Si aucune exception ne se produit, le bloc `except` est ignoré. Si une exception se produit, le bloc `except` est exécuté."
   ]
  },
  {
   "cell_type": "code",
   "execution_count": 5,
   "id": "5570e60d",
   "metadata": {},
   "outputs": [
    {
     "name": "stdout",
     "output_type": "stream",
     "text": [
      "Une erreur s'est produite\n",
      "0\n",
      "hello\n"
     ]
    }
   ],
   "source": [
    "x = 0\n",
    "try:\n",
    "    x = 1 / 0\n",
    "except:\n",
    "    print(\"Une erreur s'est produite\")\n",
    "print(x)\n",
    "print(\"hello\")"
   ]
  },
  {
   "cell_type": "markdown",
   "id": "ca14a255",
   "metadata": {
    "slideshow": {
     "slide_type": "slide"
    }
   },
   "source": [
    "Ici, Nous essayon de faire une division par `0`. Comme on ne peut pas diviser par `0`, une exception de type `ZeroDivisionError` est générée. Mais cette fois ci, le programme ne s'arrête pas, car l'exception est gérée par l'instruction `try` et `except`. Le bloc `except` est exécuté et le message d'erreur est affiché. Le programme continue son exécution."
   ]
  },
  {
   "cell_type": "markdown",
   "id": "cfc3407e",
   "metadata": {
    "slideshow": {
     "slide_type": "slide"
    }
   },
   "source": [
    "## Gérer les exceptions spécifiques\n",
    "\n",
    "On peut gérer les exceptions spécifiques en utilisant l'instruction `except` avec le type d'exception.\n",
    "\n",
    "```python\n",
    "try:\n",
    "    # code susceptible de générer une exception\n",
    "except ZeroDivisionError:\n",
    "    # code à exécuter si une exception de type ZeroDivisionError se produit\n",
    "```\n",
    "\n",
    "Ici, on gère l'exception de type `ZeroDivisionError` en utilisant l'instruction `except` avec le type d'exception. Si une exception de type `ZeroDivisionError` se produit, le bloc `except` est exécuté, le programme suit son cours. Si une exception de type différent se produit, le bloc `except` n'est pas exécuté et l'exécution du programme s'arrête."
   ]
  },
  {
   "cell_type": "code",
   "execution_count": 18,
   "id": "d03b6fa0",
   "metadata": {
    "slideshow": {
     "slide_type": "slide"
    }
   },
   "outputs": [
    {
     "ename": "FileNotFoundError",
     "evalue": "[Errno 2] No such file or directory: 'salut.txt'",
     "output_type": "error",
     "traceback": [
      "\u001b[0;31m---------------------------------------------------------------------------\u001b[0m",
      "\u001b[0;31mFileNotFoundError\u001b[0m                         Traceback (most recent call last)",
      "Cell \u001b[0;32mIn[18], line 2\u001b[0m\n\u001b[1;32m      1\u001b[0m \u001b[38;5;28;01mtry\u001b[39;00m:\n\u001b[0;32m----> 2\u001b[0m     f \u001b[38;5;241m=\u001b[39m \u001b[38;5;28;43mopen\u001b[39;49m\u001b[43m(\u001b[49m\u001b[38;5;124;43m\"\u001b[39;49m\u001b[38;5;124;43msalut.txt\u001b[39;49m\u001b[38;5;124;43m\"\u001b[39;49m\u001b[43m)\u001b[49m\n\u001b[1;32m      3\u001b[0m     x2 \u001b[38;5;241m=\u001b[39m \u001b[38;5;241m1\u001b[39m \u001b[38;5;241m/\u001b[39m \u001b[38;5;241m0\u001b[39m\n\u001b[1;32m      4\u001b[0m     x \u001b[38;5;241m=\u001b[39m [\u001b[38;5;241m2\u001b[39m, \u001b[38;5;241m4\u001b[39m, \u001b[38;5;241m6\u001b[39m, \u001b[38;5;241m8\u001b[39m]\n",
      "File \u001b[0;32m~/miniconda3/envs/nomades_env_310/lib/python3.10/site-packages/IPython/core/interactiveshell.py:286\u001b[0m, in \u001b[0;36m_modified_open\u001b[0;34m(file, *args, **kwargs)\u001b[0m\n\u001b[1;32m    279\u001b[0m \u001b[38;5;28;01mif\u001b[39;00m file \u001b[38;5;129;01min\u001b[39;00m {\u001b[38;5;241m0\u001b[39m, \u001b[38;5;241m1\u001b[39m, \u001b[38;5;241m2\u001b[39m}:\n\u001b[1;32m    280\u001b[0m     \u001b[38;5;28;01mraise\u001b[39;00m \u001b[38;5;167;01mValueError\u001b[39;00m(\n\u001b[1;32m    281\u001b[0m         \u001b[38;5;124mf\u001b[39m\u001b[38;5;124m\"\u001b[39m\u001b[38;5;124mIPython won\u001b[39m\u001b[38;5;124m'\u001b[39m\u001b[38;5;124mt let you open fd=\u001b[39m\u001b[38;5;132;01m{\u001b[39;00mfile\u001b[38;5;132;01m}\u001b[39;00m\u001b[38;5;124m by default \u001b[39m\u001b[38;5;124m\"\u001b[39m\n\u001b[1;32m    282\u001b[0m         \u001b[38;5;124m\"\u001b[39m\u001b[38;5;124mas it is likely to crash IPython. If you know what you are doing, \u001b[39m\u001b[38;5;124m\"\u001b[39m\n\u001b[1;32m    283\u001b[0m         \u001b[38;5;124m\"\u001b[39m\u001b[38;5;124myou can use builtins\u001b[39m\u001b[38;5;124m'\u001b[39m\u001b[38;5;124m open.\u001b[39m\u001b[38;5;124m\"\u001b[39m\n\u001b[1;32m    284\u001b[0m     )\n\u001b[0;32m--> 286\u001b[0m \u001b[38;5;28;01mreturn\u001b[39;00m \u001b[43mio_open\u001b[49m\u001b[43m(\u001b[49m\u001b[43mfile\u001b[49m\u001b[43m,\u001b[49m\u001b[43m \u001b[49m\u001b[38;5;241;43m*\u001b[39;49m\u001b[43margs\u001b[49m\u001b[43m,\u001b[49m\u001b[43m \u001b[49m\u001b[38;5;241;43m*\u001b[39;49m\u001b[38;5;241;43m*\u001b[39;49m\u001b[43mkwargs\u001b[49m\u001b[43m)\u001b[49m\n",
      "\u001b[0;31mFileNotFoundError\u001b[0m: [Errno 2] No such file or directory: 'salut.txt'"
     ]
    }
   ],
   "source": [
    "try:\n",
    "    f = open(\"salut.txt\")\n",
    "    x2 = 1 / 0\n",
    "    x = [2, 4, 6, 8]\n",
    "    print(x[5])\n",
    "except (ZeroDivisionError, IndexError) as err:\n",
    "    print(\"Error occured:\", err)\n",
    "\n",
    "try:        \n",
    "    f = open(\"salut.txt\")\n",
    "except FileNotFoundError:\n",
    "    print(\"cree le fichier d'abord\")\n",
    "\n",
    "print(\"Fin du programme\")"
   ]
  },
  {
   "cell_type": "markdown",
   "id": "903cb80c",
   "metadata": {
    "slideshow": {
     "slide_type": "slide"
    }
   },
   "source": [
    "## Python try with else clause\n",
    "\n",
    "On peut utiliser l'instruction `else` avec l'instruction `try` pour exécuter un code spécifique si aucune exception n'est générée.\n",
    "\n",
    "```python\n",
    "try:\n",
    "    # code susceptible de générer une exception\n",
    "except:\n",
    "    # code à exécuter si une exception se produit\n",
    "else:\n",
    "    # code à exécuter si aucune exception ne se produit\n",
    "```\n",
    "\n",
    "Ici, on utilise l'instruction `else` avec l'instruction `try`. Si aucune exception ne se produit, le bloc `else` est exécuté. Si une exception se produit, le bloc `else` n'est pas exécuté."
   ]
  },
  {
   "cell_type": "code",
   "execution_count": 2,
   "id": "9a5e45c0",
   "metadata": {
    "slideshow": {
     "slide_type": "slide"
    }
   },
   "outputs": [
    {
     "name": "stdout",
     "output_type": "stream",
     "text": [
      "Enter an even number: 4\n",
      "0.25\n"
     ]
    }
   ],
   "source": [
    "# program to print the reciprocal of even numbers\n",
    "\n",
    "try:\n",
    "    num = int(input(\"Enter an even number: \"))\n",
    "    assert num % 2 == 0\n",
    "except:\n",
    "    print(\"Not an even number!\")\n",
    "else:\n",
    "    reciprocal = 1/num\n",
    "    print(reciprocal)"
   ]
  },
  {
   "cell_type": "markdown",
   "id": "61cb416a",
   "metadata": {},
   "source": [
    "> **Note**: Si une exception se produit, le bloc `else` n'est pas gérée par les instructions `except` précédentes."
   ]
  },
  {
   "cell_type": "markdown",
   "id": "cd16bce2",
   "metadata": {
    "slideshow": {
     "slide_type": "slide"
    }
   },
   "source": [
    "## Python try with finally clause\n",
    "\n",
    "On peut utiliser l'instruction `finally` avec l'instruction `try` pour exécuter un code spécifique, que l'exception soit générée ou non.\n",
    "\n",
    "```python\n",
    "try:\n",
    "    # code susceptible de générer une exception\n",
    "except:\n",
    "    # code à exécuter si une exception se produit\n",
    "else:\n",
    "    # code à exécuter si aucune exception ne se produit\n",
    "finally:\n",
    "    # code à exécuter dans tous les cas\n",
    "```\n",
    "\n",
    "Ici, on utilise l'instruction `finally` avec l'instruction `try`. Le bloc `finally` est toujours exécuté, que l'exception soit générée ou non. Si une exception se produit, le bloc `finally` est exécuté après le bloc `except`. Si aucune exception ne se produit, le bloc `finally` est exécuté après le bloc `else`."
   ]
  },
  {
   "cell_type": "code",
   "execution_count": 9,
   "id": "ecc1cc15",
   "metadata": {
    "slideshow": {
     "slide_type": "slide"
    }
   },
   "outputs": [
    {
     "name": "stdout",
     "output_type": "stream",
     "text": [
      "File not found\n"
     ]
    }
   ],
   "source": [
    "try:\n",
    "    f = open(\"./files/ttest.txt\") \n",
    "except FileNotFoundError:\n",
    "    print(\"File not found\")\n",
    "else:\n",
    "    print(f.read()) \n",
    "finally:\n",
    "    f.close()"
   ]
  },
  {
   "cell_type": "markdown",
   "id": "b0781db1",
   "metadata": {
    "slideshow": {
     "slide_type": "slide"
    }
   },
   "source": [
    "## Python Exception with Arguments\n",
    "\n",
    "On peut passer des arguments à une exception pour définir des informations sur l'exception. Ceci peut être utile pour déterminer la cause de l'exception et la traiter en conséquence.\n",
    "\n",
    "```python\n",
    "try:\n",
    "    # code susceptible de générer une exception\n",
    "except ExceptionType as Argument:\n",
    "    # code à exécuter si une exception se produit\n",
    "```\n",
    "\n",
    "Ici, on utilise l'instruction `except` avec le type d'exception et l'argument. L'argument est lié à l'instance de l'exception et contient des informations sur l'exception."
   ]
  },
  {
   "cell_type": "code",
   "execution_count": 11,
   "id": "82c1a531",
   "metadata": {},
   "outputs": [
    {
     "ename": "IndexError",
     "evalue": "list index out of range",
     "output_type": "error",
     "traceback": [
      "\u001b[0;31m---------------------------------------------------------------------------\u001b[0m",
      "\u001b[0;31mIndexError\u001b[0m                                Traceback (most recent call last)",
      "Cell \u001b[0;32mIn[11], line 2\u001b[0m\n\u001b[1;32m      1\u001b[0m l \u001b[38;5;241m=\u001b[39m [\u001b[38;5;241m1\u001b[39m, \u001b[38;5;241m2\u001b[39m, \u001b[38;5;241m3\u001b[39m]\n\u001b[0;32m----> 2\u001b[0m \u001b[38;5;28mprint\u001b[39m(\u001b[43ml\u001b[49m\u001b[43m[\u001b[49m\u001b[38;5;241;43m4\u001b[39;49m\u001b[43m]\u001b[49m)\n",
      "\u001b[0;31mIndexError\u001b[0m: list index out of range"
     ]
    }
   ],
   "source": [
    "try:\n",
    "    l = [1, 2, 3]\n",
    "    print(l[4])\n",
    "except IndexError as err:\n",
    "    print(\"une erreur est survennue :\", err)"
   ]
  },
  {
   "cell_type": "markdown",
   "id": "d221a342",
   "metadata": {
    "slideshow": {
     "slide_type": "slide"
    }
   },
   "source": [
    "## Python Custom Exceptions\n",
    "\n",
    "On peut définir des exceptions personnalisées en définissant une classe qui hérite de la classe `Exception`.\n",
    "\n",
    "Comme les exceptions sont des objets en python, il est possible de créer ses propres exceptions et de les lancer en utilisant l'instruction `raise`."
   ]
  },
  {
   "cell_type": "markdown",
   "id": "86923282",
   "metadata": {
    "slideshow": {
     "slide_type": "slide"
    }
   },
   "source": [
    "### Defining Custom Exceptions\n",
    "\n",
    "On peut définir des exceptions personnalisées en définissant une classe qui hérite de la classe `Exception`.\n",
    "\n",
    "```python\n",
    "class CustomError(Exception):\n",
    "    ...\n",
    "    pass\n",
    "\n",
    "try:\n",
    "   ...\n",
    "\n",
    "except CustomError:\n",
    "    ...\n",
    "```"
   ]
  },
  {
   "cell_type": "markdown",
   "id": "66874395",
   "metadata": {
    "slideshow": {
     "slide_type": "slide"
    }
   },
   "source": [
    "> **Note**: Les exceptions personnalisées doivent hériter de la classe `Exception` ou d'une classe dérivée de la classe `Exception`.\n",
    "\n",
    "> **Note**: Quand on dévelope une grande application en python, il est recommandé de définir ses propres exceptions pour gérer les erreurs spécifiques à l'application."
   ]
  },
  {
   "cell_type": "code",
   "execution_count": null,
   "id": "a7518616",
   "metadata": {
    "slideshow": {
     "slide_type": "slide"
    }
   },
   "outputs": [],
   "source": [
    "# define Python user-defined exceptions\n",
    "class InvalidAgeException(Exception):\n",
    "    \"\"\"Raised when the input age is below 18\"\"\"\n",
    "    pass\n",
    "\n",
    "# you need to guess this number\n",
    "number = 18\n",
    "\n",
    "try:\n",
    "    input_num = int(input(\"Enter a number: \"))\n",
    "    if input_num < number:\n",
    "        raise InvalidAgeException\n",
    "    else:\n",
    "        print(\"Eligible to Vote\")\n",
    "        \n",
    "except InvalidAgeException:\n",
    "    print(\"Exception occurred: Invalid Age\")"
   ]
  },
  {
   "cell_type": "markdown",
   "id": "1af04262",
   "metadata": {
    "slideshow": {
     "slide_type": "slide"
    }
   },
   "source": [
    "## Customizing Exception Classes\n",
    "\n",
    "On peut personnaliser les exceptions en définissant des attributs pour les classes d'exception.\n",
    "\n",
    "```python\n",
    "class CustomError(Exception):\n",
    "    def __init__(self, value):\n",
    "        self.value = value\n",
    "    def __str__(self):\n",
    "        return repr(self.value)\n",
    "\n",
    "try:\n",
    "  ...\n",
    "\n",
    "except CustomError as e:\n",
    "    print('My exception occurred, value:', e.value)\n",
    "```\n",
    "\n",
    "Ici, on définit l'attribut `value` pour la classe `CustomError`. Cette valeur est définie lors de la création de l'instance de l'exception. On définit également la méthode `__str__()` pour l'affichage de l'exception."
   ]
  },
  {
   "cell_type": "code",
   "execution_count": null,
   "id": "5e27e41e",
   "metadata": {
    "slideshow": {
     "slide_type": "slide"
    }
   },
   "outputs": [],
   "source": [
    "class SalaryNotInRangeError(Exception):\n",
    "    \"\"\"Exception raised for errors in the input salary.\n",
    "\n",
    "    Attributes:\n",
    "        salary -- input salary which caused the error\n",
    "        message -- explanation of the error\n",
    "    \"\"\"\n",
    "\n",
    "    def __init__(self, salary, message=\"is not in (5000, 15000) range\"):\n",
    "        self.salary = salary\n",
    "        self.message = f\"{salary} {message}\"\n",
    "        super().__init__(self.message)\n",
    "\n",
    "\n",
    "salary = int(input(\"Enter salary amount: \"))\n",
    "if not 5000 < salary < 15000:\n",
    "    raise SalaryNotInRangeError(salary)\n",
    "\n",
    "try:\n",
    "    raise SalaryNotInRangeError(2000, message=\"is a static input that raise an error\")\n",
    "except SalaryNotInRangeError as e:\n",
    "    print(\"Received error:\", e.message)"
   ]
  },
  {
   "cell_type": "code",
   "execution_count": null,
   "id": "1b2c9703",
   "metadata": {},
   "outputs": [],
   "source": []
  }
 ],
 "metadata": {
  "celltoolbar": "Slideshow",
  "kernelspec": {
   "display_name": "Python 3 (ipykernel)",
   "language": "python",
   "name": "python3"
  },
  "language_info": {
   "codemirror_mode": {
    "name": "ipython",
    "version": 3
   },
   "file_extension": ".py",
   "mimetype": "text/x-python",
   "name": "python",
   "nbconvert_exporter": "python",
   "pygments_lexer": "ipython3",
   "version": "3.10.13"
  }
 },
 "nbformat": 4,
 "nbformat_minor": 5
}
